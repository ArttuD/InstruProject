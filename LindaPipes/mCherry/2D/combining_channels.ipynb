{
 "cells": [
  {
   "cell_type": "code",
   "execution_count": 2,
   "metadata": {},
   "outputs": [],
   "source": [
    "import cv2\n",
    "import glob\n",
    "import os\n",
    "import numpy as np\n",
    "import nd2reader\n",
    "import matplotlib.pyplot as plt\n",
    "from PIL import Image\n",
    "from nd2reader import ND2Reader\n",
    "from collections import defaultdict\n",
    "import glob"
   ]
  },
  {
   "cell_type": "code",
   "execution_count": 20,
   "metadata": {},
   "outputs": [
    {
     "name": "stdout",
     "output_type": "stream",
     "text": [
      "['C:/Users/srboval1/OneDrive - Aalto University/Instru/images_mCherry/2D\\\\MCF10A\\\\10x_0.tif', 'C:/Users/srboval1/OneDrive - Aalto University/Instru/images_mCherry/2D\\\\MCF10A\\\\10x_1.tif', 'C:/Users/srboval1/OneDrive - Aalto University/Instru/images_mCherry/2D\\\\MCF10A\\\\10x_2.tif', 'C:/Users/srboval1/OneDrive - Aalto University/Instru/images_mCherry/2D\\\\MCF10A\\\\10x_3.tif', 'C:/Users/srboval1/OneDrive - Aalto University/Instru/images_mCherry/2D\\\\MCF10A\\\\EPIRedTracker_0.tif', 'C:/Users/srboval1/OneDrive - Aalto University/Instru/images_mCherry/2D\\\\MCF10A\\\\EPIRedTracker_1.tif', 'C:/Users/srboval1/OneDrive - Aalto University/Instru/images_mCherry/2D\\\\MCF10A\\\\EPIRedTracker_2.tif', 'C:/Users/srboval1/OneDrive - Aalto University/Instru/images_mCherry/2D\\\\MCF10A\\\\EPIRedTracker_3.tif', 'C:/Users/srboval1/OneDrive - Aalto University/Instru/images_mCherry/2D\\\\MCF10DCIS.COM\\\\241014\\\\10x_1.tif', 'C:/Users/srboval1/OneDrive - Aalto University/Instru/images_mCherry/2D\\\\MCF10DCIS.COM\\\\241014\\\\10x_2.tif', 'C:/Users/srboval1/OneDrive - Aalto University/Instru/images_mCherry/2D\\\\MCF10DCIS.COM\\\\241014\\\\EPIRedTracker_1.tif', 'C:/Users/srboval1/OneDrive - Aalto University/Instru/images_mCherry/2D\\\\MCF10DCIS.COM\\\\241014\\\\EPIRedTracker_2.tif', 'C:/Users/srboval1/OneDrive - Aalto University/Instru/images_mCherry/2D\\\\T\\\\10x_1.tif', 'C:/Users/srboval1/OneDrive - Aalto University/Instru/images_mCherry/2D\\\\T\\\\10x_3.tif', 'C:/Users/srboval1/OneDrive - Aalto University/Instru/images_mCherry/2D\\\\T\\\\10x_5.tif', 'C:/Users/srboval1/OneDrive - Aalto University/Instru/images_mCherry/2D\\\\T\\\\10x_6.tif', 'C:/Users/srboval1/OneDrive - Aalto University/Instru/images_mCherry/2D\\\\T\\\\10x_7.tif', 'C:/Users/srboval1/OneDrive - Aalto University/Instru/images_mCherry/2D\\\\T\\\\10x_8.tif', 'C:/Users/srboval1/OneDrive - Aalto University/Instru/images_mCherry/2D\\\\T\\\\20x_1.tif', 'C:/Users/srboval1/OneDrive - Aalto University/Instru/images_mCherry/2D\\\\T\\\\20x_2.tif', 'C:/Users/srboval1/OneDrive - Aalto University/Instru/images_mCherry/2D\\\\T\\\\EPIRedTracker_1.tif', 'C:/Users/srboval1/OneDrive - Aalto University/Instru/images_mCherry/2D\\\\T\\\\EPIRedTracker_2.tif', 'C:/Users/srboval1/OneDrive - Aalto University/Instru/images_mCherry/2D\\\\T\\\\EPIRedTracker_3.tif', 'C:/Users/srboval1/OneDrive - Aalto University/Instru/images_mCherry/2D\\\\T\\\\EPIRedTracker_4.tif', 'C:/Users/srboval1/OneDrive - Aalto University/Instru/images_mCherry/2D\\\\T\\\\EPIRedTracker_5.tif', 'C:/Users/srboval1/OneDrive - Aalto University/Instru/images_mCherry/2D\\\\T\\\\EPIRedTracker_6.tif', 'C:/Users/srboval1/OneDrive - Aalto University/Instru/images_mCherry/2D\\\\T\\\\EPIRedTracker_7.tif']\n"
     ]
    }
   ],
   "source": [
    "paths = glob.glob(os.path.join(\"C:/Users/srboval1/OneDrive - Aalto University/Instru/images_mCherry/2D\", \"**\",\"*.tif\"),recursive=True)\n",
    "print(paths)"
   ]
  },
  {
   "cell_type": "code",
   "execution_count": 23,
   "metadata": {},
   "outputs": [],
   "source": [
    "def color_channel(channel):\n",
    "    channel_index = None  \n",
    "    if channel == 'EPIRedTracker':\n",
    "        channel_index = 0\n",
    "    elif channel == 'EPIFITC':\n",
    "        channel_index = 1\n",
    "    elif channel == '10x':\n",
    "        channel_index = 2\n",
    "    \n",
    "    return channel_index"
   ]
  },
  {
   "cell_type": "markdown",
   "metadata": {},
   "source": [
    "List containing info on all images"
   ]
  },
  {
   "cell_type": "code",
   "execution_count": 25,
   "metadata": {},
   "outputs": [],
   "source": [
    "image_data_list = []\n",
    "\n",
    "for count, i in enumerate(paths):\n",
    "    try:\n",
    "        image = cv2.imread(i) #reads the image into a NumPy array.\n",
    "        basename = os.path.splitext(os.path.basename(i))[0].split('_')\n",
    "        \n",
    "        channel = color_channel(basename[0]) #setting channel number based on the name\n",
    "        running_id = basename[1]\n",
    "\n",
    "        partss = (i.split(\"/\")[6]).split(\"\\\\\")\n",
    "        cell_line = partss[1]\n",
    "\n",
    "        #info array for the specific image\n",
    "        image_info = {\n",
    "            'cell_line': cell_line,\n",
    "            'running_id': running_id,  \n",
    "            'channel_index': channel,\n",
    "            'image': image  # c, store the image array\n",
    "        }\n",
    "        \n",
    "        #appending the image info into a list\n",
    "        image_data_list.append(image_info)\n",
    "    \n",
    "    except:\n",
    "        IndexError\n",
    "        print(f\"Error on image: {i}\")\n",
    "\n",
    "grouped_data = defaultdict(lambda: defaultdict(lambda: defaultdict(lambda: defaultdict(list))))"
   ]
  },
  {
   "cell_type": "code",
   "execution_count": null,
   "metadata": {},
   "outputs": [],
   "source": [
    "for image in image_data_list:\n",
    "    cell_line = image['cell_line']\n",
    "    running_id = image['running_id']\n",
    "    channel = image['channel']\n",
    "    image = image['image']\n",
    "    \n",
    "    # Create a dictionary for each item\n",
    "    image_info = {\n",
    "        'cell_line' :cell_line,\n",
    "        'running_id': running_id,\n",
    "        'channel': channel,\n",
    "        'image': image\n",
    "    }\n",
    "    \n",
    "    # Append the item to the appropriate group\n",
    "grouped_data[cell_line][running_id][channel].append({'image': image})\n",
    "\n",
    "# Convert to a regular dictionary for easier inspection (optional)\n",
    "grouped_data = dict(grouped_data)"
   ]
  },
  {
   "cell_type": "code",
   "execution_count": null,
   "metadata": {},
   "outputs": [],
   "source": []
  }
 ],
 "metadata": {
  "kernelspec": {
   "display_name": "base",
   "language": "python",
   "name": "python3"
  },
  "language_info": {
   "codemirror_mode": {
    "name": "ipython",
    "version": 3
   },
   "file_extension": ".py",
   "mimetype": "text/x-python",
   "name": "python",
   "nbconvert_exporter": "python",
   "pygments_lexer": "ipython3",
   "version": "3.12.7"
  }
 },
 "nbformat": 4,
 "nbformat_minor": 2
}
