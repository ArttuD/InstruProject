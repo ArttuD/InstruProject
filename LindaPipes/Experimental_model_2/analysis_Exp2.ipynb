{
 "cells": [
  {
   "cell_type": "code",
   "execution_count": null,
   "metadata": {},
   "outputs": [],
   "source": [
    "from PIL.ExifTags import TAGS\n",
    "import pathlib\n",
    "import csv\n",
    "import glob\n",
    "from PIL import Image\n",
    "import pandas as pd\n",
    "import os\n",
    "from datetime import time\n",
    "from matplotlib import markers\n",
    "import numpy as np\n",
    "import pandas as pd\n",
    "import matplotlib.pyplot as plt\n",
    "import matplotlib.patches as mpatches\n",
    "from matplotlib.lines import Line2D\n",
    "import matplotlib\n",
    "import seaborn as sns\n",
    "import glob\n",
    "from seaborn import palettes\n",
    "from seaborn.categorical import swarmplot\n",
    "from sklearn.preprocessing import Normalizer\n",
    "from sklearn.linear_model import LinearRegression\n",
    "from tqdm import tqdm\n",
    "import json\n",
    "from scipy.signal import detrend\n",
    "from scipy.ndimage import gaussian_filter1d\n",
    "from skimage.color import rgb2gray\n",
    "import os\n",
    "import re\n",
    "import math\n",
    "import matplotlib.ticker as tck\n",
    "import argparse\n",
    "import cv2\n",
    "import skimage as ski"
   ]
  },
  {
   "cell_type": "markdown",
   "metadata": {},
   "source": [
    "Loading csv file with grouped by measurement_id and well_id"
   ]
  },
  {
   "cell_type": "code",
   "execution_count": null,
   "metadata": {},
   "outputs": [],
   "source": [
    "path = 'C:/Users/srboval1/OneDrive - Aalto University/Instru/Datafiles'\n",
    "Exp2 = pd.read_csv(path +'/contours_exp2.csv', index_col=None)"
   ]
  },
  {
   "cell_type": "markdown",
   "metadata": {},
   "source": [
    "Unique materials and cell lines"
   ]
  },
  {
   "cell_type": "code",
   "execution_count": null,
   "metadata": {},
   "outputs": [],
   "source": [
    "unique_materials = Exp2['material'].unique()\n",
    "print(unique_materials)\n",
    "unique_materials = np.delete(unique_materials,2)\n",
    "print(unique_materials)\n",
    "unique_lines = Exp2['cell_line'].unique()\n",
    "print(unique_lines)\n"
   ]
  },
  {
   "cell_type": "code",
   "execution_count": null,
   "metadata": {},
   "outputs": [],
   "source": [
    "fig, axs = plt.subplots(1, len(unique_materials), figsize=(17,5))\n",
    "plt.subplots_adjust(wspace=0.25, hspace=0.25)\n",
    "fig.suptitle(\"Time-series of spheroid areas\", fontsize=18, y=1)\n",
    "\n",
    "for i,unique_material in enumerate(unique_materials):\n",
    "    specific_df = df_plot[df_plot['material'] == unique_material]\n",
    "    specific_df_grp = specific_df.groupby(['cell_line','incubation_time']).mean()\n",
    "    #print(specific_df_grp.head())\n",
    "    ax=axs[i]\n",
    "    ax.plot(specific_df_grp.unstack(0)['area'],color=color) # area as a function of incubation time, for each cell line\n",
    "    ax.set_xlabel('Incubation Time [h]')  \n",
    "    ax.set_ylabel('Mean Area')        \n",
    "    ax.set_title(unique_material)\n",
    "\n",
    "\n",
    "# %%\n",
    "fig, axs = plt.subplots(3, len(unique_materials), figsize=(30,10))\n",
    "plt.subplots_adjust(wspace=0.25, hspace=0.6)\n",
    "fig.suptitle(\"Area time-series\", fontsize=20, y=0.95)\n",
    "\n",
    "\n",
    "for i, unique_material in enumerate(unique_materials):\n",
    "    specific_df = Exp2[(Exp2['material'] == unique_material) & (Exp2['area'] > 0) ]\n",
    "\n",
    "    min_value_all = (specific_df['incubation_time'].min() // 24) * 24 #latest end of timelpases x_max\n",
    "    max_value_all = (specific_df['incubation_time'].max() // 24 + 2) * 24 #latest end of timelpases x_max\n",
    "\n",
    "    times = list(np.arange(min_value_all, max_value_all, 24)) #ticks' values\n",
    "\n",
    "    \n",
    "    for j,unique_line in enumerate(unique_lines):\n",
    "        ax=axs[j,i]\n",
    "        specific_specific_df = specific_df[(specific_df['cell_line'] == unique_line)]\n",
    "\n",
    "        #min_value = specific_specific_df['incubation_time'].min() #latest end of timelpases x_max\n",
    "        #max_value = specific_specific_df['incubation_time'].max() #latest end of timelpases x_max\n",
    "\n",
    "        #print( f'{unique_material}- {unique_line}; min: {min_value} and max {max_value}')\n",
    "\n",
    "        sns.swarmplot(specific_specific_df, y='area', ax=ax, x='incubation_time', native_scale=True, hue='spheroid_id', size =3, marker='o')\n",
    "        ax.set_xlim(min_value_all, max_value_all)  \n",
    "\n",
    "        ax.set_yscale('log')\n",
    "\n",
    "        ax.set_ylabel('Area [µm2]', fontsize= 16)  \n",
    "        ax.set_xlabel('Incubation time [hour]', fontsize= 16)  \n",
    "\n",
    "        ax.set_title(f'{unique_material} - {unique_line}', fontsize= 17)\n",
    "        ax.set_ylim(0.001,0.5)\n",
    "        ax.set_xticks(times)\n",
    "        ax.set_xticklabels(times)\n",
    "        ax.tick_params(axis='both', which='major', labelsize=15)  # Major ticks\n",
    "\n",
    "    \n",
    "plt.savefig(path +'/Time_series.png',dpi=1000)\n",
    "\n",
    "\n"
   ]
  }
 ],
 "metadata": {
  "language_info": {
   "name": "python"
  }
 },
 "nbformat": 4,
 "nbformat_minor": 2
}
