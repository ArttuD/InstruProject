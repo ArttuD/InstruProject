{
 "cells": [
  {
   "cell_type": "code",
   "execution_count": 1,
   "metadata": {},
   "outputs": [],
   "source": [
    "#%%\n",
    "import cv2\n",
    "import math\n",
    "import matplotlib.pyplot as plt\n",
    "import numpy as np\n",
    "import pandas as pd\n",
    "import pickle\n",
    "from PIL import Image\n"
   ]
  },
  {
   "cell_type": "markdown",
   "metadata": {},
   "source": [
    "Pickle"
   ]
  },
  {
   "cell_type": "markdown",
   "metadata": {},
   "source": [
    "Deserializing dictionary saved in pickle"
   ]
  },
  {
   "cell_type": "code",
   "execution_count": 4,
   "metadata": {},
   "outputs": [],
   "source": [
    "Exp_2_pckl={}\n",
    "path = 'C:/Users/srboval1/OneDrive - Aalto University/Instru/Datafiles/Exp2/Arttu/'\n",
    "with open(path + 'Exp_design_2_ID_1.pkl', 'rb') as f:\n",
    "    Exp_2_pckl = pickle.load(f)"
   ]
  },
  {
   "cell_type": "markdown",
   "metadata": {},
   "source": [
    "Keys of nested dictionaries; Keys-indexes nested in the first internal dictionary\n"
   ]
  },
  {
   "cell_type": "code",
   "execution_count": 5,
   "metadata": {},
   "outputs": [
    {
     "name": "stdout",
     "output_type": "stream",
     "text": [
      "Length of the first mask: 53\n",
      "Number of masks 287\n",
      "Variables for each mask: dict_keys(['masks', 'x', 'y', 'z', 'time', 'area'])\n"
     ]
    }
   ],
   "source": [
    "print('Length of the first mask:', len(Exp_2_pckl[0][\"masks\"]))\n",
    "print('Number of masks',len(Exp_2_pckl.keys()))\n",
    "print('Variables for each mask:',Exp_2_pckl[0].keys())"
   ]
  },
  {
   "cell_type": "markdown",
   "metadata": {},
   "source": [
    "CSV"
   ]
  },
  {
   "cell_type": "code",
   "execution_count": 35,
   "metadata": {},
   "outputs": [
    {
     "name": "stdout",
     "output_type": "stream",
     "text": [
      "Variables for each row-mask: Index(['Unnamed: 0', 'seeding_density', 'cell_label', 'well_id',\n",
      "       'measurement_id', 'matrix', 'ID', 'day', 'ID_running', 'location'],\n",
      "      dtype='object')\n",
      "Number of masks: 287\n",
      "Number of unique IDs in csv file: 287\n",
      "Number of groups after measurement and well_id grouping: 178\n",
      "240520\n"
     ]
    }
   ],
   "source": [
    "Exp_2_csv = pd.read_csv(path +'/Exp_design_2_1.csv', index_col=None) #loading the Arttu's csv file to match the measurement_id and well_id, to be matched with the pckl info\n",
    "\n",
    "print('Variables for each row-mask:',Exp_2_csv.columns)\n",
    "#print('Size of csv file:' )\n",
    "print('Number of masks:',Exp_2_csv.shape[0])\n",
    "print('Number of unique IDs in csv file:',len(Exp_2_csv[\"ID_running\"].unique()))\n",
    "print('Number of groups after measurement and well_id grouping:',(Exp_2_csv.groupby(['measurement_id', 'well_id'])).ngroups)\n",
    "\n",
    "\n",
    "print(Exp_2_csv.loc[28,'day'])\n",
    "\n",
    "Exp_2_csv.loc[Exp_2_csv['ID_running'] == key, 'day'].iloc[0]\n"
   ]
  },
  {
   "cell_type": "markdown",
   "metadata": {},
   "source": [
    "Metadata from nd2 files"
   ]
  },
  {
   "cell_type": "code",
   "execution_count": 27,
   "metadata": {},
   "outputs": [
    {
     "name": "stdout",
     "output_type": "stream",
     "text": [
      "0.660045336571487\n",
      "0.660045336571487\n"
     ]
    }
   ],
   "source": [
    "Exp_2_json = pd.read_json('C:/Users/srboval1/InstruProject/NikonPipes/dataStore/metalib.json') \n",
    "print(Exp_2_json.get(key=\"240521\").get(\"m\"))\n",
    "\n",
    "def search_json(parameter):\n",
    "    pixel_transf = Exp_2_json.get(key=str(parameter)).get(\"m\")\n",
    "    return pixel_transf\n",
    "\n",
    "print(search_json(240521))\n"
   ]
  },
  {
   "cell_type": "code",
   "execution_count": 12,
   "metadata": {},
   "outputs": [],
   "source": [
    "\n",
    "concentration_mapping = {\n",
    "'2mgml': '1',\n",
    "'3mM': '2',\n",
    "'40mM': '3'\n",
    "}\n",
    "material_mapping = {\n",
    "'2mgml': '1',\n",
    "'3mM': '2',\n",
    "'40mM': '3'\n",
    "}\n",
    "reverse_material_mapping = {\n",
    "'2mgml':'collagen 2mg/ml',\n",
    "'3mM':'IPN 2.5mM',\n",
    "'40mM':'IPN 40mM'\n",
    "}\n",
    "cell_mapping = {\n",
    "'MCF10A': '1',\n",
    "'DCIS.COM': '2',\n",
    "'MCF10A.DCIS.COM': '2',\n",
    "'MCF10AT': '3'\n",
    "}\n"
   ]
  },
  {
   "cell_type": "code",
   "execution_count": 11,
   "metadata": {},
   "outputs": [
    {
     "name": "stdout",
     "output_type": "stream",
     "text": [
      "List of contour coordinates: [[[1298  647]]\n",
      "\n",
      " [[1297  648]]\n",
      "\n",
      " [[1296  648]]\n",
      "\n",
      " ...\n",
      "\n",
      " [[1301  648]]\n",
      "\n",
      " [[1300  648]]\n",
      "\n",
      " [[1299  647]]]\n",
      "Linda calculated area [pixels]: 69341.0\n",
      "re-calculated area in [m]: 30253.94375825337\n",
      "Arttu calculated area: 30253.94375825337\n"
     ]
    }
   ],
   "source": [
    "pixel_size = 0.32*1e-6\n",
    "\n",
    "print('List of contour coordinates:',Exp_2_pckl[2][\"masks\"][10])\n",
    "print('Linda calculated area [pixels]:',cv2.contourArea(Exp_2_pckl[2][\"masks\"][10]))\n",
    "print('re-calculated area in [m]:',cv2.contourArea(Exp_2_pckl[2][\"masks\"][10])*(0.660535171355723**2))\n",
    "\n",
    "print('Arttu calculated area:',Exp_2_pckl[2][\"area\"][10])"
   ]
  },
  {
   "cell_type": "code",
   "execution_count": 43,
   "metadata": {},
   "outputs": [],
   "source": [
    "#%%\n",
    "#pixel_size = 0.32*1e-6\n",
    "df_collecting = []\n",
    "df_all = []\n",
    "\n",
    "def search_csv(key_id):\n",
    "    well = Exp_2_csv.loc[Exp_2_csv['ID_running'] == key_id, 'well_id'].iloc[0]\n",
    "    measurement = Exp_2_csv.loc[Exp_2_csv['ID_running'] == key_id, 'measurement_id'].iloc[0]\n",
    "    cell_line = Exp_2_csv.loc[Exp_2_csv['ID_running'] == key_id, 'cell_label'].iloc[0]\n",
    "    material = Exp_2_csv.loc[Exp_2_csv['ID_running'] == key_id, 'matrix'].iloc[0]\n",
    "    day = Exp_2_csv.loc[Exp_2_csv['ID_running'] == key_id, 'day'].iloc[0]\n",
    "    return well, measurement, cell_line, material, day\n",
    "\n",
    "\n",
    "def search_json(parameter):\n",
    "    pixel_transf = Exp_2_json.get(key=str(parameter)).get(\"m\")\n",
    "    return pixel_transf\n",
    "\n",
    "for key in Exp_2_pckl.keys() :\n",
    "    df_temp =[] \n",
    "\n",
    "    for i in range(len(Exp_2_pckl[key][\"time\"])): #looping through time\n",
    "        mask = Exp_2_pckl[key][\"masks\"][i]\n",
    "        time = Exp_2_pckl[key][\"time\"][i]\n",
    "        #area_Arttu = Exp_2_pckl[key][\"area\"][i]    \n",
    "        \n",
    "        well_id,measurement_id, cell, matrix, date = search_csv(key)\n",
    "\n",
    "        area_pixels2 = cv2.contourArea(mask)        \n",
    "        area_µm = area_pixels2*(search_json(date)**2)    \n",
    "\n",
    "        perimeter = cv2.arcLength(mask, closed=True)*search_json(date) #perimeter for each contour\n",
    "        compactness = 4 * math.pi * area_µm  #compactness (spheroid area/area of object with the identical perimeter)\n",
    "        rect = cv2.minAreaRect(mask) #minimal rectangle\n",
    "        width, height  = rect[1] #extracting the tuple containing rectangular dimensions\n",
    "        aspect_ratio = width / height\n",
    "        convexhull = cv2.convexHull(mask)\n",
    "        convexhull_perimeter = cv2.arcLength(convexhull, closed=True)*search_json(date) #perimeter for each contour\n",
    "        convexhull_area = cv2.contourArea(convexhull)*(search_json(date)**2)\n",
    "        convexity_perimeter = convexhull_perimeter/perimeter\n",
    "        convexity_area = convexhull_area/area_µm\n",
    "        \n",
    "        info={}\n",
    "        info = {\n",
    "            \"spheroid_id\": key,\n",
    "            \"time_id\": i+1,\n",
    "            \"area_pixels**2\":area_pixels2,\n",
    "            \"area_µm\": area_µm,\n",
    "            \"perimeter_µm\": perimeter,\n",
    "            \"compactness\": compactness,\n",
    "            \"aspect_ratio\": aspect_ratio,\n",
    "            \"convex hull perimeter\": convexhull_perimeter,\n",
    "            \"convex hull area\": convexhull_area,\n",
    "            \"convexity_perimeter\": convexity_perimeter,\n",
    "            \"convexity_area\": convexity_area,\n",
    "            \"well_id\":well_id,\n",
    "            \"measurement_id\":measurement_id,\n",
    "            \"cell_line\":cell,\n",
    "            \"matrix\":matrix,\n",
    "            \"date\":date\n",
    "            }\n",
    "        df_temp.append(pd.DataFrame([info]) )  #appending the info to the contours_info, which collects all timestemps\n",
    "    \n",
    "    df_collecting.append(pd.concat(df_temp,ignore_index=True)) #lists of dfs are contantenated and appended to df_collecting, thedf_temp is re-initialized\n",
    "\n",
    "df_all=pd.concat(df_collecting, ignore_index=True)\n",
    "df_all['running_value'] = df_all.groupby(['measurement_id', 'well_id']).ngroup()\n",
    "\n",
    "saving_path= 'C:/Users/srboval1/OneDrive - Aalto University/Instru/Datafiles/Exp2'\n",
    "df_all.to_csv(saving_path+'/contours_exp2.csv')  "
   ]
  },
  {
   "cell_type": "markdown",
   "metadata": {},
   "source": [
    "Visualizing the mask"
   ]
  },
  {
   "cell_type": "code",
   "execution_count": 38,
   "metadata": {},
   "outputs": [
    {
     "ename": "NameError",
     "evalue": "name 'cell_line' is not defined",
     "output_type": "error",
     "traceback": [
      "\u001b[1;31m---------------------------------------------------------------------------\u001b[0m",
      "\u001b[1;31mNameError\u001b[0m                                 Traceback (most recent call last)",
      "Cell \u001b[1;32mIn[38], line 23\u001b[0m\n\u001b[0;32m     20\u001b[0m     blank_image_array\u001b[38;5;241m=\u001b[39m cv2\u001b[38;5;241m.\u001b[39mdrawContours(blank_image_array, Exp_2_pckl[key][\u001b[38;5;124m\"\u001b[39m\u001b[38;5;124mmasks\u001b[39m\u001b[38;5;124m\"\u001b[39m][i], \u001b[38;5;241m-\u001b[39m\u001b[38;5;241m1\u001b[39m, (\u001b[38;5;241m0\u001b[39m, \u001b[38;5;241m0\u001b[39m, \u001b[38;5;241m0\u001b[39m), \u001b[38;5;241m1\u001b[39m)\n\u001b[0;32m     21\u001b[0m     \u001b[38;5;66;03m#print( f'{unique_material}- {unique_line}; min: {min_value} and max {max_value}')\u001b[39;00m\n\u001b[1;32m---> 23\u001b[0m plt\u001b[38;5;241m.\u001b[39mtitle(\u001b[38;5;124mf\u001b[39m\u001b[38;5;124m'\u001b[39m\u001b[38;5;132;01m{\u001b[39;00mmatrix\u001b[38;5;132;01m}\u001b[39;00m\u001b[38;5;124m - \u001b[39m\u001b[38;5;132;01m{\u001b[39;00mcell_line\u001b[38;5;132;01m}\u001b[39;00m\u001b[38;5;124m; spheroid id: \u001b[39m\u001b[38;5;132;01m{\u001b[39;00mspheroid_id\u001b[38;5;132;01m}\u001b[39;00m\u001b[38;5;124m'\u001b[39m) \n\u001b[0;32m     24\u001b[0m plt\u001b[38;5;241m.\u001b[39mimshow(new_image)\n\u001b[0;32m     25\u001b[0m filename \u001b[38;5;241m=\u001b[39m \u001b[38;5;124mf\u001b[39m\u001b[38;5;124m'\u001b[39m\u001b[38;5;132;01m{\u001b[39;00mcell_line\u001b[38;5;132;01m}\u001b[39;00m\u001b[38;5;124m_\u001b[39m\u001b[38;5;132;01m{\u001b[39;00mmatrix\u001b[38;5;132;01m}\u001b[39;00m\u001b[38;5;124m_id_\u001b[39m\u001b[38;5;132;01m{\u001b[39;00m\u001b[38;5;28mid\u001b[39m\u001b[38;5;132;01m}\u001b[39;00m\u001b[38;5;124m.tiff\u001b[39m\u001b[38;5;124m'\u001b[39m\n",
      "\u001b[1;31mNameError\u001b[0m: name 'cell_line' is not defined"
     ]
    }
   ],
   "source": [
    "#%%\n",
    "save = 'C:/Users/srboval1/OneDrive - Aalto University/Instru/Datafiles/TimeLapse/'\n",
    "width, height = 2304, 2304\n",
    "\n",
    "# Create a blank white image using Pillow and converting it into array\n",
    "\n",
    "\n",
    "for key in Exp_2_pckl.keys() :\n",
    "    time = Exp_2_pckl[key][\"time\"]\n",
    "    \n",
    "    blank_image = Image.new('RGB', (width, height), color = (255, 255, 255))\n",
    "    blank_image_array = np.asarray(blank_image)\n",
    "\n",
    "    new_image=np.zeros((height, width, 3), np.uint8)\n",
    "\n",
    "\n",
    "    for i in range(len(Exp_2_pckl[key][\"time\"])): #looping through time\n",
    "        mask = Exp_2_pckl[key][\"masks\"][i]\n",
    "        spheroid_id = key+1\n",
    "        blank_image_array= cv2.drawContours(blank_image_array, Exp_2_pckl[key][\"masks\"][i], -1, (0, 0, 0), 1)\n",
    "        #print( f'{unique_material}- {unique_line}; min: {min_value} and max {max_value}')\n",
    "\n",
    "    plt.title(f'{matrix} - {cell_line}; spheroid id: {spheroid_id}') \n",
    "    plt.imshow(new_image)\n",
    "    filename = f'{cell_line}_{matrix}_id_{id}.tiff'\n",
    "\n",
    "    cv2.imwrite(save+filename, blank_image_array) #saving the contours"
   ]
  },
  {
   "cell_type": "code",
   "execution_count": 41,
   "metadata": {},
   "outputs": [
    {
     "name": "stdout",
     "output_type": "stream",
     "text": [
      "<pandas.core.groupby.generic.DataFrameGroupBy object at 0x00000155390907D0>\n"
     ]
    }
   ],
   "source": []
  },
  {
   "cell_type": "code",
   "execution_count": null,
   "metadata": {},
   "outputs": [],
   "source": []
  }
 ],
 "metadata": {
  "kernelspec": {
   "display_name": "base",
   "language": "python",
   "name": "python3"
  },
  "language_info": {
   "codemirror_mode": {
    "name": "ipython",
    "version": 3
   },
   "file_extension": ".py",
   "mimetype": "text/x-python",
   "name": "python",
   "nbconvert_exporter": "python",
   "pygments_lexer": "ipython3",
   "version": "3.11.4"
  }
 },
 "nbformat": 4,
 "nbformat_minor": 2
}
