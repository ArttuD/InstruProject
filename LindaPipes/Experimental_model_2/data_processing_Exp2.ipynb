{
 "cells": [
  {
   "cell_type": "code",
   "execution_count": 1,
   "metadata": {},
   "outputs": [],
   "source": [
    "#%%\n",
    "import cv2\n",
    "import math\n",
    "import matplotlib.pyplot as plt\n",
    "import numpy as np\n",
    "import pandas as pd\n",
    "import pickle\n",
    "from PIL import Image\n"
   ]
  },
  {
   "cell_type": "markdown",
   "metadata": {},
   "source": [
    "Pickle"
   ]
  },
  {
   "cell_type": "markdown",
   "metadata": {},
   "source": [
    "Deserializing dictionary saved in pickle"
   ]
  },
  {
   "cell_type": "code",
   "execution_count": 2,
   "metadata": {},
   "outputs": [],
   "source": [
    "Exp_2_pckl={}\n",
    "path = 'C:/Users/srboval1/OneDrive - Aalto University/Instru/Datafiles/Exp2/Arttu/'\n",
    "with open(path + 'Exp_design_2_ID.pkl', 'rb') as f:\n",
    "    Exp_2_pckl = pickle.load(f)"
   ]
  },
  {
   "cell_type": "markdown",
   "metadata": {},
   "source": [
    "Keys of nested dictionaries; Keys-indexes nested in the first internal dictionary\n"
   ]
  },
  {
   "cell_type": "code",
   "execution_count": 11,
   "metadata": {},
   "outputs": [
    {
     "name": "stdout",
     "output_type": "stream",
     "text": [
      "Length of the first mask: 53\n",
      "Number of masks 287\n",
      "Variables for each mask: dict_keys(['masks', 'x', 'y', 'z', 'time', 'area'])\n"
     ]
    }
   ],
   "source": [
    "print('Length of the first mask:', len(Exp_2_pckl[0][\"masks\"]))\n",
    "print('Number of masks',len(Exp_2_pckl.keys()))\n",
    "print('Variables for each mask:',Exp_2_pckl[0].keys())"
   ]
  },
  {
   "cell_type": "markdown",
   "metadata": {},
   "source": [
    "CSV"
   ]
  },
  {
   "cell_type": "code",
   "execution_count": 20,
   "metadata": {},
   "outputs": [
    {
     "name": "stdout",
     "output_type": "stream",
     "text": [
      "Variables for each row-mask: Index(['Unnamed: 0', 'seeding_density', 'cell_label', 'well_id',\n",
      "       'measurement_id', 'matrix', 'ID', 'day'],\n",
      "      dtype='object')\n",
      "Number of masks: 287\n",
      "Number of unique IDs in csv file: 287\n",
      "Number of groups after measurement and well_id grouping: 178\n"
     ]
    }
   ],
   "source": [
    "Exp_2_csv = pd.read_csv(path +'/Exp_design_2.csv', index_col=None) #loading the Arttu's csv file to match the measurement_id and well_id, to be matched with the pckl info\n",
    "\n",
    "print('Variables for each row-mask:',Exp_2_csv.columns)\n",
    "#print('Size of csv file:' )\n",
    "print('Number of masks:',Exp_2_csv.shape[0])\n",
    "print('Number of unique IDs in csv file:',len(Exp_2_csv[\"ID\"].unique()))\n",
    "print('Number of groups after measurement and well_id grouping:',(Exp_2_csv.groupby(['measurement_id', 'well_id'])).ngroups)\n"
   ]
  },
  {
   "cell_type": "code",
   "execution_count": 36,
   "metadata": {},
   "outputs": [
    {
     "name": "stdout",
     "output_type": "stream",
     "text": [
      "12\n"
     ]
    }
   ],
   "source": [
    "print(Exp_2_csv.iloc[5]['well_id'])"
   ]
  },
  {
   "cell_type": "code",
   "execution_count": 12,
   "metadata": {},
   "outputs": [],
   "source": [
    "\n",
    "concentration_mapping = {\n",
    "'2mgml': '1',\n",
    "'3mM': '2',\n",
    "'40mM': '3'\n",
    "}\n",
    "material_mapping = {\n",
    "'2mgml': '1',\n",
    "'3mM': '2',\n",
    "'40mM': '3'\n",
    "}\n",
    "reverse_material_mapping = {\n",
    "'2mgml':'collagen 2mg/ml',\n",
    "'3mM':'IPN 2.5mM',\n",
    "'40mM':'IPN 40mM'\n",
    "}\n",
    "cell_mapping = {\n",
    "'MCF10A': '1',\n",
    "'DCIS.COM': '2',\n",
    "'MCF10A.DCIS.COM': '2',\n",
    "'MCF10AT': '3'\n",
    "}\n"
   ]
  },
  {
   "cell_type": "code",
   "execution_count": 57,
   "metadata": {},
   "outputs": [
    {
     "name": "stdout",
     "output_type": "stream",
     "text": [
      "List of contour coordinates: [[[ 634 1492]]\n",
      "\n",
      " [[ 633 1493]]\n",
      "\n",
      " [[ 633 1494]]\n",
      "\n",
      " ...\n",
      "\n",
      " [[ 637 1492]]\n",
      "\n",
      " [[ 636 1492]]\n",
      "\n",
      " [[ 635 1492]]]\n",
      "Linda calculated area [pixels]: 36328.0\n",
      "re-calculated area in [m]: 15850.15025525776\n",
      "Arttu calculated area: 13469.269043631683\n"
     ]
    }
   ],
   "source": [
    "pixel_size = 0.32*1e-6\n",
    "\n",
    "print('List of contour coordinates:',Exp_2_pckl[0][\"masks\"][0])\n",
    "print('Linda calculated area [pixels]:',cv2.contourArea(Exp_2_pckl[0][\"masks\"][0]))\n",
    "print('re-calculated area in [m]:',cv2.contourArea(Exp_2_pckl[0][\"masks\"][0])*(0.660535171355723**2))\n",
    "\n",
    "print('Arttu calculated area:',Exp_2_pckl[0][\"area\"][0])"
   ]
  },
  {
   "cell_type": "code",
   "execution_count": 43,
   "metadata": {},
   "outputs": [],
   "source": [
    "#%%\n",
    "pixel_size = 0.32*1e-6\n",
    "df_collecting = []\n",
    "df_all = []\n",
    "\n",
    "def search(key_id):\n",
    "    well = Exp_2_csv.loc[key_id,'well_id']\n",
    "    measurement = Exp_2_csv.loc[key_id,'measurement_id']\n",
    "    cell_line = Exp_2_csv.loc[key_id,'cell_label']\n",
    "    material = Exp_2_csv.loc[key_id,'matrix']\n",
    "    day = Exp_2_csv.loc[key_id,'day']\n",
    "    return well, measurement, cell_line, material, day\n",
    "\n",
    "for key in Exp_2_pckl.keys() :\n",
    "    df_temp =[] \n",
    "\n",
    "    for i in range(len(Exp_2_pckl[key][\"time\"])): #looping through time\n",
    "        mask = Exp_2_pckl[key][\"masks\"][i]\n",
    "        time = Exp_2_pckl[key][\"time\"][i]\n",
    "        area_Arttu = Exp_2_pckl[key][\"area\"][i]    \n",
    "\n",
    "        area = cv2.contourArea(mask)        \n",
    "        area_µm = area*pixel_size    \n",
    "        measurement_id = key\n",
    "\n",
    "        perimeter = cv2.arcLength(mask, closed=True)*pixel_size #perimeter for each contour\n",
    "        compactness = 4 * math.pi * area_µm  #compactness (spheroid area/area of object with the identical perimeter)\n",
    "        rect = cv2.minAreaRect(mask) #minimal rectangle\n",
    "        width, height  = rect[1] #extracting the tuple containing rectangular dimensions\n",
    "        aspect_ratio = width / height\n",
    "        convexhull = cv2.convexHull(mask)\n",
    "        convexhull_perimeter = cv2.arcLength(convexhull, closed=True)*pixel_size #perimeter for each contour\n",
    "        convexhull_area = cv2.contourArea(convexhull)*pixel_size\n",
    "        convexity_perimeter = convexhull_perimeter/perimeter\n",
    "        convexity_area = convexhull_area/area\n",
    "        well_id,measurement_id, cell, matrix,date = search(key)\n",
    "        \n",
    "        info={}\n",
    "        info = {\n",
    "            \"spheroid_id\": key,\n",
    "            \"time_id\": i+1,\n",
    "            \"area_Arttu\":area_Arttu,\n",
    "            \"area\":area,\n",
    "            \"area_µm\": area_µm,\n",
    "            \"perimeter\": perimeter,\n",
    "            \"compactness\": compactness,\n",
    "            \"aspect_ratio\": aspect_ratio,\n",
    "            \"convex hull perimeter\": convexhull_perimeter,\n",
    "            \"convex hull area\": convexhull_area,\n",
    "            \"convexity_perimeter\": convexity_perimeter,\n",
    "            \"convexity_area\": convexity_area,\n",
    "            \"well_id\":well_id,\n",
    "            \"measurement_id\":measurement_id,\n",
    "            \"cell_line\":cell,\n",
    "            \"matrix\":matrix,\n",
    "            \"date\":date\n",
    "            }\n",
    "        df_temp.append(pd.DataFrame([info]) )  #appending the info to the contours_info, which collects all timestemps\n",
    "    \n",
    "    df_collecting.append(pd.concat(df_temp,ignore_index=True)) #lists of dfs are contantenated and appended to df_collecting, thedf_temp is re-initialized\n",
    "\n",
    "df_all=pd.concat(df_collecting, ignore_index=True)\n",
    "\n",
    "saving_path= 'C:/Users/srboval1/OneDrive - Aalto University/Instru/Datafiles'\n",
    "df_all.to_csv(saving_path+'/contours_exp2.csv')  "
   ]
  },
  {
   "cell_type": "markdown",
   "metadata": {},
   "source": [
    "Visualizing the mask"
   ]
  },
  {
   "cell_type": "code",
   "execution_count": null,
   "metadata": {},
   "outputs": [],
   "source": [
    "#%%\n",
    "save = 'C:/Users/srboval1/OneDrive - Aalto University/Instru/Datafiles/TimeLapse/'\n",
    "width, height = 2304, 2304\n",
    "\n",
    "# Create a blank white image using Pillow and converting it into array\n",
    "\n",
    "\n",
    "for key in Exp_2_pckl.keys() :\n",
    "    cell_line = Exp_2_pckl[key][\"cell_line\"]\n",
    "    matrix = Exp_2_pckl[key][\"matrix\"]\n",
    "    \n",
    "    blank_image = Image.new('RGB', (width, height), color = (255, 255, 255))\n",
    "    blank_image_array = np.asarray(blank_image)\n",
    "\n",
    "    new_image=np.zeros((height, width, 3), np.uint8)\n",
    "\n",
    "\n",
    "    for i in range(len(Exp_2_pckl[key][\"time\"])): #looping through time\n",
    "        mask = Exp_2_pckl[key][\"masks\"][i]\n",
    "        spheroid_id = key+1\n",
    "        blank_image_array= cv2.drawContours(blank_image_array, Exp_2_pckl[key][\"masks\"][i], -1, (0, 0, 0), 1)\n",
    "        #print( f'{unique_material}- {unique_line}; min: {min_value} and max {max_value}')\n",
    "\n",
    "    plt.title(f'{matrix} - {cell_line}; spheroid id: {spheroid_id}') \n",
    "    plt.imshow(new_image)\n",
    "    filename = f'{cell_line}_{matrix}_id_{id}.tiff'\n",
    "\n",
    "    cv2.imwrite(save+filename, blank_image_array) #saving the contours"
   ]
  }
 ],
 "metadata": {
  "kernelspec": {
   "display_name": "base",
   "language": "python",
   "name": "python3"
  },
  "language_info": {
   "codemirror_mode": {
    "name": "ipython",
    "version": 3
   },
   "file_extension": ".py",
   "mimetype": "text/x-python",
   "name": "python",
   "nbconvert_exporter": "python",
   "pygments_lexer": "ipython3",
   "version": "3.11.4"
  }
 },
 "nbformat": 4,
 "nbformat_minor": 2
}
