{
 "cells": [
  {
   "cell_type": "code",
   "execution_count": 10,
   "metadata": {},
   "outputs": [],
   "source": [
    "import cv2\n",
    "import glob\n",
    "import os\n",
    "import numpy as np\n",
    "import nd2reader\n",
    "import matplotlib.pyplot as plt\n",
    "from pathlib import Path\n",
    "\n"
   ]
  },
  {
   "cell_type": "code",
   "execution_count": 22,
   "metadata": {},
   "outputs": [
    {
     "name": "stdout",
     "output_type": "stream",
     "text": [
      "['D:\\\\instru_projects\\\\LIveDead_spheroids\\\\2D\\\\DCIS\\\\241010\\\\10x_bf_1.png', 'D:\\\\instru_projects\\\\LIveDead_spheroids\\\\2D\\\\DCIS\\\\241010\\\\10x_bf_2.png', 'D:\\\\instru_projects\\\\LIveDead_spheroids\\\\2D\\\\DCIS\\\\241010\\\\10x_bf_3.png', 'D:\\\\instru_projects\\\\LIveDead_spheroids\\\\2D\\\\DCIS\\\\241010\\\\10x_bf_5.png', 'D:\\\\instru_projects\\\\LIveDead_spheroids\\\\2D\\\\DCIS\\\\241010\\\\10x_bf_4.png', 'D:\\\\instru_projects\\\\LIveDead_spheroids\\\\2D\\\\DCIS\\\\241010\\\\10x_bf_9.png', 'D:\\\\instru_projects\\\\LIveDead_spheroids\\\\2D\\\\DCIS\\\\241010\\\\10x_bf_10.png', 'D:\\\\instru_projects\\\\LIveDead_spheroids\\\\2D\\\\DCIS\\\\241010\\\\10x_bf_11.png', 'D:\\\\instru_projects\\\\LIveDead_spheroids\\\\2D\\\\DCIS\\\\241010\\\\10x_bf_0.png', 'D:\\\\instru_projects\\\\LIveDead_spheroids\\\\2D\\\\DCIS\\\\241010\\\\10x_red_1.png', 'D:\\\\instru_projects\\\\LIveDead_spheroids\\\\2D\\\\DCIS\\\\241010\\\\10x_red_3.png', 'D:\\\\instru_projects\\\\LIveDead_spheroids\\\\2D\\\\DCIS\\\\241010\\\\10x_red_4.png', 'D:\\\\instru_projects\\\\LIveDead_spheroids\\\\2D\\\\DCIS\\\\241010\\\\10x_red_7.png', 'D:\\\\instru_projects\\\\LIveDead_spheroids\\\\2D\\\\DCIS\\\\241010\\\\10x_red_9.png', 'D:\\\\instru_projects\\\\LIveDead_spheroids\\\\2D\\\\10A\\\\10x_bf_0.tif', 'D:\\\\instru_projects\\\\LIveDead_spheroids\\\\2D\\\\10A\\\\10x_bf_1.tif', 'D:\\\\instru_projects\\\\LIveDead_spheroids\\\\2D\\\\10A\\\\10x_bf_2.tif', 'D:\\\\instru_projects\\\\LIveDead_spheroids\\\\2D\\\\10A\\\\10x_bf_3.tif', 'D:\\\\instru_projects\\\\LIveDead_spheroids\\\\2D\\\\10A\\\\10x_red_0.tif', 'D:\\\\instru_projects\\\\LIveDead_spheroids\\\\2D\\\\10A\\\\10x_red_1.tif', 'D:\\\\instru_projects\\\\LIveDead_spheroids\\\\2D\\\\10A\\\\10x_red_2.tif', 'D:\\\\instru_projects\\\\LIveDead_spheroids\\\\2D\\\\10A\\\\10x_red_3.tif', 'D:\\\\instru_projects\\\\LIveDead_spheroids\\\\2D\\\\DCIS\\\\241014\\\\10x_bf_1.tif', 'D:\\\\instru_projects\\\\LIveDead_spheroids\\\\2D\\\\DCIS\\\\241014\\\\10x_bf_2.tif', 'D:\\\\instru_projects\\\\LIveDead_spheroids\\\\2D\\\\DCIS\\\\241014\\\\10x_red_1.tif', 'D:\\\\instru_projects\\\\LIveDead_spheroids\\\\2D\\\\DCIS\\\\241014\\\\10x_red_2.tif', 'D:\\\\instru_projects\\\\LIveDead_spheroids\\\\2D\\\\T\\\\10x_bf_1.tif', 'D:\\\\instru_projects\\\\LIveDead_spheroids\\\\2D\\\\T\\\\10x_bf_3.tif', 'D:\\\\instru_projects\\\\LIveDead_spheroids\\\\2D\\\\T\\\\10x_bf_5.tif', 'D:\\\\instru_projects\\\\LIveDead_spheroids\\\\2D\\\\T\\\\10x_bf_6.tif', 'D:\\\\instru_projects\\\\LIveDead_spheroids\\\\2D\\\\T\\\\10x_bf_7.tif', 'D:\\\\instru_projects\\\\LIveDead_spheroids\\\\2D\\\\T\\\\10x_bf_8.tif', 'D:\\\\instru_projects\\\\LIveDead_spheroids\\\\2D\\\\T\\\\20x_bf_1.tif', 'D:\\\\instru_projects\\\\LIveDead_spheroids\\\\2D\\\\T\\\\20x_bf_2.tif', 'D:\\\\instru_projects\\\\LIveDead_spheroids\\\\2D\\\\T\\\\10x_red_1.tif', 'D:\\\\instru_projects\\\\LIveDead_spheroids\\\\2D\\\\T\\\\10x_red_2.tif', 'D:\\\\instru_projects\\\\LIveDead_spheroids\\\\2D\\\\T\\\\10x_red_3.tif', 'D:\\\\instru_projects\\\\LIveDead_spheroids\\\\2D\\\\T\\\\10x_red_4.tif', 'D:\\\\instru_projects\\\\LIveDead_spheroids\\\\2D\\\\T\\\\10x_red_5.tif', 'D:\\\\instru_projects\\\\LIveDead_spheroids\\\\2D\\\\T\\\\10x_red_6.tif', 'D:\\\\instru_projects\\\\LIveDead_spheroids\\\\2D\\\\T\\\\10x_red_7.tif']\n"
     ]
    }
   ],
   "source": [
    "# Define the directory\n",
    "directory = Path(\"D:/instru_projects/LIveDead_spheroids/2D/\")\n",
    "\n",
    "png_paths = glob.glob(os.path.join(directory, \"**\", \"*.png\"),recursive=True)\n",
    "tif_paths = glob.glob(os.path.join(directory, \"**\", \"*.tif\"),recursive=True)\n",
    "\n",
    "# Combine the paths\n",
    "paths = png_paths + tif_paths\n",
    "\n",
    "print(paths)\n",
    "\n",
    "\n",
    "        \n"
   ]
  },
  {
   "cell_type": "code",
   "execution_count": null,
   "metadata": {},
   "outputs": [],
   "source": []
  }
 ],
 "metadata": {
  "kernelspec": {
   "display_name": "base",
   "language": "python",
   "name": "python3"
  },
  "language_info": {
   "codemirror_mode": {
    "name": "ipython",
    "version": 3
   },
   "file_extension": ".py",
   "mimetype": "text/x-python",
   "name": "python",
   "nbconvert_exporter": "python",
   "pygments_lexer": "ipython3",
   "version": "3.12.4"
  }
 },
 "nbformat": 4,
 "nbformat_minor": 2
}
