{
 "cells": [
  {
   "cell_type": "code",
   "execution_count": 73,
   "metadata": {},
   "outputs": [],
   "source": [
    "import cv2\n",
    "import glob\n",
    "import os\n",
    "import numpy as np\n",
    "import nd2reader\n",
    "import matplotlib.pyplot as plt\n",
    "import nd2\n"
   ]
  },
  {
   "cell_type": "markdown",
   "metadata": {},
   "source": [
    "Loading paths"
   ]
  },
  {
   "cell_type": "code",
   "execution_count": 74,
   "metadata": {},
   "outputs": [
    {
     "name": "stdout",
     "output_type": "stream",
     "text": [
      "['E:/instru_projects/LIveDead_spheroids/22mM\\\\240630_Uwell_IPN_22mM_2mgml_132h_spheroidculture_LD_10x.nd2', 'E:/instru_projects/LIveDead_spheroids/22mM\\\\240630_Uwell_IPN_22mM_2mgml_132h_spheroidculture_LD_20x.nd2', 'E:/instru_projects/LIveDead_spheroids/22mM\\\\240630_Uwell_IPN_22mM_2mgml_132h_spheroidculture_LD_20x_avg.nd2']\n"
     ]
    }
   ],
   "source": [
    "paths = glob.glob(os.path.join(\"E:/instru_projects/LIveDead_spheroids/22mM/\",\"*.nd2\"))\n",
    "print(paths)"
   ]
  },
  {
   "cell_type": "markdown",
   "metadata": {},
   "source": [
    "Metadata parser"
   ]
  },
  {
   "cell_type": "code",
   "execution_count": null,
   "metadata": {},
   "outputs": [],
   "source": [
    "\n",
    "def metadata(image):\n",
    "    meta_dict = {}\n",
    "    meta_dict[\"n_fields\"] = image.metadata['fields_of_view'].stop \n",
    "    meta_dict[\"n_frames\"] = image.metadata['num_frames']\n",
    " \n",
    "    meta_dict[\"z_levels\"] =  float(image.metadata[\"z_coordinates\"][:image.metadata[\"z_levels\"].stop][-1]-image.metadata[\"z_coordinates\"][:image.metadata[\"z_levels\"].stop][0])/float(image.metadata[\"z_levels\"].stop)\n",
    "    meta_dict[\"n_z_levels\"] = image.metadata['z_levels'].stop\n",
    "    meta_dict[\"size_z_step\"] = meta_dict[\"z_level\"] /meta_dict[\"n_levels\"]\n",
    "    meta_dict[\"channels\"] = image.metadata['channels']\n",
    "    meta_dict[\"n_channels\"] = len(meta_dict[\"channels\"])\n",
    "    meta_dict[\"m\"] = image.metadata['pixel_microns']\n",
    "    meta_dict[\"height\"] = image.metadata[\"height\"]\n",
    "    meta_dict[\"width\"] = image.metadata[\"width\"]\n",
    " \n",
    "    return meta_dict\n",
    " \n",
    " "
   ]
  },
  {
   "cell_type": "markdown",
   "metadata": {},
   "source": [
    "Fluorescent images - no z-projection"
   ]
  },
  {
   "cell_type": "code",
   "execution_count": 93,
   "metadata": {},
   "outputs": [],
   "source": [
    "def channel_max_no_z(images, channels, field):\n",
    "    mx = np.zeros(len(channels))\n",
    "    for channel_index, channel_name in enumerate(channels):\n",
    "            frame = images.get_frame_2D(c=channel_index, z=7, v=field)\n",
    "            mx[channel_index] = max(mx[channel_index], np.max(frame))\n",
    "    mx = max(mx[0], mx[2])\n",
    "    return mx\n",
    "\n",
    "# Function assignign colors of pixels by channels \n",
    "def color_channel(fr,chi, img): #BGR order in cv2\n",
    "    if chi == 0:  # First channel red in RBF\n",
    "        img[:, :, 2] = fr\n",
    "    elif chi == 1:  #\n",
    "        img[:, :, 0] = 0  # brightfield\n",
    "    elif chi == 2:  # Third channel (e.g., green)\n",
    "        img[:, :, 1] = fr  # Set green channel\n",
    "    return img\n",
    "\n",
    "def saving (img, field, i_path):\n",
    "    img_res = cv2.resize(img, (800, 600))\n",
    "    base_name = os.path.splitext(os.path.basename(i_path))[0]\n",
    "    parts = base_name.split('_')\n",
    "\n",
    "    output_subdir = os.path.join('C:/Users/srboval1/OneDrive - Aalto University/Instru/Datafiles/Exp2/LD/NO_z_projection/', f\"{parts[0]}\")\n",
    "    os.makedirs(output_subdir, exist_ok=True)\n",
    "    \n",
    "    if parts[0] == '240630':\n",
    "        if field < 3:\n",
    "            name = os.path.join(output_subdir, f\"MCF10A_{parts[8:]}_{field}.png\")\n",
    "            cv2.imwrite(name, img_res)\n",
    "        elif field > 4:\n",
    "            name = os.path.join(output_subdir, f\"DCIS_{parts[8:]}_{field}.png\")\n",
    "            cv2.imwrite(name, img_res)\n",
    "        else:\n",
    "            name = os.path.join(output_subdir, f\"MCF10AT_{parts[8:]}_{field}.png\")\n",
    "            cv2.imwrite(name, img_res)\n",
    "\n",
    "#function processing field of view\n",
    "def process_fof(images, channels, field, i_path, mx_values):\n",
    "    height, width = images.get_frame_2D(c=1, z=7, v=field).shape\n",
    "    img = np.zeros((height, width, 3), dtype=np.uint8)\n",
    "\n",
    "    # Loop through each channel and assign colors\n",
    "    for channel_index, channel_name in enumerate(channels):\n",
    "        frame = images.get_frame_2D(c=channel_index, z=7, v=field)\n",
    "        fr_normalized = (frame / mx_values * 255).astype(np.uint8)\n",
    "        img = color_channel(fr_normalized, channel_index, img)\n",
    "\n",
    "        saving(img, field, i_path)      \n",
    "\n",
    "for count, i_path in enumerate(paths):\n",
    "    with nd2reader.ND2Reader(i_path) as images:\n",
    "        fields_of_view = images.metadata['fields_of_view'].stop\n",
    "#        z_levels = images.metadata['z_levels'].stop\n",
    "        channels = images.metadata['channels']\n",
    "\n",
    "        # Calculate maximum intensity across all fields of view and z-levels\n",
    "\n",
    "        # Use a thread pool to parallelize processing of fields of view\n",
    "        for field in range(fields_of_view):\n",
    "            mx_value = channel_max_no_z(images, channels, field)\n",
    "            process_fof(images,channels, field, i_path, mx_value)\n",
    "            "
   ]
  },
  {
   "cell_type": "markdown",
   "metadata": {},
   "source": [
    "Fluorescent images with max z-projection"
   ]
  },
  {
   "cell_type": "code",
   "execution_count": 95,
   "metadata": {},
   "outputs": [],
   "source": [
    "def z_projection(frames):\n",
    "    # Stack frames along a new axis (Z-axis) and take the maximum along this axis\n",
    "    return np.max(np.stack(frames, axis=2), axis=2)\n",
    "\n",
    "def channel_max(images, channels, z_levels, field):\n",
    "    mx = np.zeros(len(channels))\n",
    "    for channel_index, channel_name in enumerate(channels):\n",
    "        z_slices = []\n",
    "        for level in range(z_levels):\n",
    "            frame = images.get_frame_2D(c=channel_index, z=level, v=field)\n",
    "            z_slices.append(frame)\n",
    "            z_proj_frame = z_projection(z_slices)\n",
    "            mx[channel_index] = max(mx[channel_index], np.max(z_proj_frame))\n",
    "    mx = max(mx[0], mx[2])\n",
    "    return mx\n",
    "\n",
    "# Function assignign colors of pixels by channels \n",
    "def color_channel(fr,chi, img): #BGR order in cv2\n",
    "    if chi == 0:  # First channel red in RBF\n",
    "        img[:, :, 2] = fr\n",
    "    elif chi == 1:  #\n",
    "        img[:, :, 0] = 0  # brightfield\n",
    "    elif chi == 2:  # Third channel (e.g., green)\n",
    "        img[:, :, 1] = fr  # Set green channel\n",
    "    return img\n",
    "\n",
    "def saving (img, field, i_path):\n",
    "    img_res = cv2.resize(img, (800, 600))\n",
    "    base_name = os.path.splitext(os.path.basename(i_path))[0]\n",
    "    parts = base_name.split('_')\n",
    "\n",
    "    output_subdir = os.path.join('C:/Users/srboval1/OneDrive - Aalto University/Instru/Datafiles/Exp2/LD/z_projection/', f\"{parts[0]}\")\n",
    "    os.makedirs(output_subdir, exist_ok=True)\n",
    "    \n",
    "    if parts[0] == '240630':\n",
    "        if field < 3:\n",
    "            name = os.path.join(output_subdir, f\"MCF10A_{parts[8:]}_{field}.png\")\n",
    "            cv2.imwrite(name, img_res)\n",
    "        elif field > 4:\n",
    "            name = os.path.join(output_subdir, f\"DCIS_{parts[8:]}_{field}.png\")\n",
    "            cv2.imwrite(name, img_res)\n",
    "        else:\n",
    "            name = os.path.join(output_subdir, f\"MCF10AT_{parts[8:]}_{field}.png\")\n",
    "            cv2.imwrite(name, img_res)\n",
    "\n",
    "#function processing field of view\n",
    "def process_fof(images, channels, field, i_path, mx_values):\n",
    "    height, width = images.get_frame_2D(c=1, z=7, v=field).shape\n",
    "    img = np.zeros((height, width, 3), dtype=np.uint8)\n",
    "\n",
    "    # Loop through each channel and assign colors\n",
    "    for channel_index, channel_name in enumerate(channels):\n",
    "        frame = images.get_frame_2D(c=channel_index, z=7, v=field)\n",
    "        fr_normalized = (frame / mx_values * 255).astype(np.uint8)\n",
    "        img = color_channel(fr_normalized, channel_index, img)\n",
    "\n",
    "        saving(img, field, i_path)      \n",
    "\n",
    "for count, i_path in enumerate(paths):\n",
    "    with nd2reader.ND2Reader(i_path) as images:\n",
    "        fields_of_view = images.metadata['fields_of_view'].stop\n",
    "        z_levels = images.metadata['z_levels'].stop\n",
    "        channels = images.metadata['channels']\n",
    "\n",
    "        # Calculate maximum intensity across all fields of view and z-levels\n",
    "\n",
    "        # Use a thread pool to parallelize processing of fields of view\n",
    "        for field in range(fields_of_view):\n",
    "            mx_value = channel_max(images, channels, z_levels, field)\n",
    "            process_fof(images,channels, field, i_path, mx_value)\n",
    "            "
   ]
  },
  {
   "cell_type": "code",
   "execution_count": null,
   "metadata": {},
   "outputs": [],
   "source": []
  }
 ],
 "metadata": {
  "kernelspec": {
   "display_name": "base",
   "language": "python",
   "name": "python3"
  },
  "language_info": {
   "codemirror_mode": {
    "name": "ipython",
    "version": 3
   },
   "file_extension": ".py",
   "mimetype": "text/x-python",
   "name": "python",
   "nbconvert_exporter": "python",
   "pygments_lexer": "ipython3",
   "version": "3.11.4"
  }
 },
 "nbformat": 4,
 "nbformat_minor": 2
}
