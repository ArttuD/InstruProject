{
 "cells": [
  {
   "cell_type": "code",
   "execution_count": 25,
   "metadata": {},
   "outputs": [],
   "source": [
    "import os\n",
    "import matplotlib.pyplot as plt\n",
    "import pandas as pd\n",
    "import numpy as np\n",
    "import cv2 \n",
    "import glob\n",
    "\n",
    "import tqdm\n",
    "\n",
    "from nd2reader import ND2Reader\n",
    "import h5py\n",
    "import pickle\n",
    "import json\n",
    "\n",
    "import datetime\n",
    "\n",
    "import warnings\n",
    "warnings.filterwarnings('ignore')\n",
    "\n",
    "import ffmpeg\n",
    "\n",
    "from skimage.filters import rank, threshold_otsu, threshold_local#\n",
    "from skimage import morphology\n",
    "\n",
    "import scipy \n",
    "import skimage\n",
    "\n",
    "import pandas as pd\n",
    "import seaborn as sns\n",
    "import csv\n",
    "\n",
    "from tools.func import *"
   ]
  },
  {
   "cell_type": "code",
   "execution_count": 2,
   "metadata": {},
   "outputs": [],
   "source": [
    "#Draw rectangle to images\n",
    "def mousePoints(event,x,y,flags,param):\n",
    "    #Crop image\n",
    "    global refPt\n",
    "    global img\n",
    "    global final_boundaries\n",
    "    global stopper\n",
    "    # Left button click\n",
    "    if event == cv2.EVENT_LBUTTONDOWN:\n",
    "        refPt = [(x, y)]\n",
    "    elif event == cv2.EVENT_LBUTTONUP:\n",
    "        refPt.append((x, y))\n",
    "        final_boundaries.append((refPt[0],refPt[1]))\n",
    "        stopper = True\n",
    "        cv2.imshow(\"win\", img)\n",
    "        print(\"two clicks!\")\n",
    "    elif event == cv2.EVENT_MOUSEMOVE and flags == cv2.EVENT_FLAG_LBUTTON:\n",
    "        clone = img.copy()\n",
    "        cv2.rectangle(clone, refPt[0], (x, y), (0, 255, 0), 4)\n",
    "        cv2.imshow(\"win\", clone)"
   ]
  },
  {
   "cell_type": "code",
   "execution_count": 3,
   "metadata": {},
   "outputs": [],
   "source": []
  },
  {
   "cell_type": "code",
   "execution_count": 12,
   "metadata": {},
   "outputs": [
    {
     "name": "stdout",
     "output_type": "stream",
     "text": [
      "two clicks!\n",
      "two clicks!\n",
      "two clicks!\n",
      "two clicks!\n",
      "two clicks!\n",
      "two clicks!\n",
      "two clicks!\n",
      "two clicks!\n",
      "two clicks!\n",
      "two clicks!\n",
      "two clicks!\n",
      "two clicks!\n",
      "two clicks!\n",
      "two clicks!\n",
      "two clicks!\n",
      "two clicks!\n",
      "two clicks!\n",
      "two clicks!\n",
      "two clicks!\n",
      "two clicks!\n",
      "two clicks!\n",
      "two clicks!\n",
      "two clicks!\n",
      "two clicks!\n",
      "two clicks!\n",
      "two clicks!\n",
      "two clicks!\n",
      "two clicks!\n"
     ]
    }
   ],
   "source": [
    "with open('C:/Users/lehtona6/codes/InstruProject/NikonPipes/dataStore/metalib.json', 'r') as f:\n",
    "  own_meta = json.load(f)\n",
    "\n",
    "root_path = \"D:/\"\n",
    "target_paths = glob.glob(os.path.join(root_path, \"*.nd2\"))\n",
    "coord_dict = {}\n",
    "\n",
    "skip_existing = False\n",
    "\n",
    "for video_path in target_paths:\n",
    "\n",
    "    parts = os.path.split(video_path)[-1].split(\"_\")\n",
    "    day = str(parts[0])\n",
    "    matrix = parts[2]\n",
    "    n_ines = parts[3][0]\n",
    "    start_time = int(parts[4][:-1])\n",
    "    comments = parts[5][:-3]\n",
    "\n",
    "    if day not in own_meta.keys():\n",
    "        own_meta[day] = {}\n",
    "    elif skip_existing:\n",
    "        continue\n",
    "\n",
    "    own_meta[day][\"matrix\"]  = matrix\n",
    "    own_meta[day][\"n_cells\"]  = n_ines\n",
    "    own_meta[day][\"dim\"] = \"3D\"\n",
    "    own_meta[day][\"incubation_time\"] = start_time\n",
    "    own_meta[day][\"other\"] = \"other\"\n",
    "\n",
    "    with ND2Reader(video_path) as images:\n",
    "\n",
    "        coords = []\n",
    "        final_boundaries = []\n",
    "        metas = load_metadata(images)\n",
    "        z_levels = metas[\"n_levels\"]\n",
    "        vis_level = int(z_levels/2)\n",
    "        stopper = False\n",
    "\n",
    "        for i in range(metas[\"n_fields\"]):\n",
    "\n",
    "            cv2.namedWindow('win',cv2.WINDOW_NORMAL)\n",
    "            cv2.setMouseCallback(\"win\", mousePoints)\n",
    "\n",
    "            img = images.get_frame_2D(c=0, t=0, z=vis_level, x=0, y=0, v=i)\n",
    "            cv2.imshow(\"win\",img)\n",
    "\n",
    "            k = cv2.waitKey(0)\n",
    "\n",
    "            if k == ord(\"q\"):  # Press q to quit\n",
    "                break\n",
    "\n",
    "            if stopper == True:\n",
    "\n",
    "                stopper = False\n",
    "                coords.append(final_boundaries)\n",
    "                final_boundaries = []\n",
    "                cv2.destroyAllWindows()\n",
    "\n",
    "\n",
    "        cv2.destroyAllWindows()\n",
    "\n",
    "        if k == ord(\"q\"):  # Press q to quit\n",
    "            break\n",
    "\n",
    "    final_coords = []\n",
    "\n",
    "    for i in range(len(coords)):\n",
    "        final_coords.append([[coords[i][0][0][0], coords[i][0][0][1]], [coords[i][0][1][0], coords[i][0][1][1]]])\n",
    "\n",
    "    \n",
    "    own_meta[day][\"coords\"] = final_coords\n",
    "    \n",
    "    if k == ord(\"q\"):  # Press q to quit\n",
    "        break\n",
    "\n",
    "\n",
    "    with open('./dataStore/metalib.json', 'w', encoding='utf-8') as f:\n",
    "        json.dump(own_meta, f, ensure_ascii=False, indent=4)\n",
    "\n",
    "\n",
    "\n"
   ]
  },
  {
   "cell_type": "code",
   "execution_count": 31,
   "metadata": {},
   "outputs": [
    {
     "name": "stderr",
     "output_type": "stream",
     "text": [
      "  0%|          | 0/2 [00:00<?, ?it/s]"
     ]
    },
    {
     "name": "stdout",
     "output_type": "stream",
     "text": [
      "No object found\n"
     ]
    },
    {
     "name": "stderr",
     "output_type": "stream",
     "text": []
    },
    {
     "name": "stdout",
     "output_type": "stream",
     "text": [
      "No object found\n"
     ]
    },
    {
     "name": "stderr",
     "output_type": "stream",
     "text": []
    },
    {
     "name": "stdout",
     "output_type": "stream",
     "text": [
      "No object found\n"
     ]
    },
    {
     "name": "stderr",
     "output_type": "stream",
     "text": []
    },
    {
     "name": "stdout",
     "output_type": "stream",
     "text": [
      "No object found\n"
     ]
    },
    {
     "name": "stderr",
     "output_type": "stream",
     "text": []
    },
    {
     "name": "stdout",
     "output_type": "stream",
     "text": [
      "No object found\n"
     ]
    },
    {
     "name": "stderr",
     "output_type": "stream",
     "text": []
    },
    {
     "name": "stdout",
     "output_type": "stream",
     "text": [
      "No object found\n"
     ]
    },
    {
     "name": "stderr",
     "output_type": "stream",
     "text": []
    },
    {
     "name": "stdout",
     "output_type": "stream",
     "text": [
      "No object found\n"
     ]
    },
    {
     "name": "stderr",
     "output_type": "stream",
     "text": []
    },
    {
     "name": "stdout",
     "output_type": "stream",
     "text": [
      "No object found\n"
     ]
    },
    {
     "name": "stderr",
     "output_type": "stream",
     "text": []
    },
    {
     "name": "stdout",
     "output_type": "stream",
     "text": [
      "No object found\n"
     ]
    },
    {
     "name": "stderr",
     "output_type": "stream",
     "text": []
    },
    {
     "name": "stdout",
     "output_type": "stream",
     "text": [
      "No object found\n"
     ]
    },
    {
     "name": "stderr",
     "output_type": "stream",
     "text": [
      " 22%|██▏       | 57/261 [07:23<26:26,  7.78s/it]\n",
      " 50%|█████     | 1/2 [07:23<07:23, 443.41s/it]"
     ]
    },
    {
     "name": "stdout",
     "output_type": "stream",
     "text": [
      "No object found\n"
     ]
    },
    {
     "name": "stderr",
     "output_type": "stream",
     "text": []
    },
    {
     "name": "stdout",
     "output_type": "stream",
     "text": [
      "No object found\n"
     ]
    },
    {
     "name": "stderr",
     "output_type": "stream",
     "text": []
    },
    {
     "name": "stdout",
     "output_type": "stream",
     "text": [
      "No object found\n"
     ]
    },
    {
     "name": "stderr",
     "output_type": "stream",
     "text": []
    },
    {
     "name": "stdout",
     "output_type": "stream",
     "text": [
      "No object found\n"
     ]
    },
    {
     "name": "stderr",
     "output_type": "stream",
     "text": []
    },
    {
     "name": "stdout",
     "output_type": "stream",
     "text": [
      "No object found\n"
     ]
    },
    {
     "name": "stderr",
     "output_type": "stream",
     "text": []
    },
    {
     "name": "stdout",
     "output_type": "stream",
     "text": [
      "No object found\n"
     ]
    },
    {
     "name": "stderr",
     "output_type": "stream",
     "text": []
    },
    {
     "name": "stdout",
     "output_type": "stream",
     "text": [
      "No object found\n"
     ]
    },
    {
     "name": "stderr",
     "output_type": "stream",
     "text": []
    },
    {
     "name": "stdout",
     "output_type": "stream",
     "text": [
      "No object found\n"
     ]
    },
    {
     "name": "stderr",
     "output_type": "stream",
     "text": []
    },
    {
     "name": "stdout",
     "output_type": "stream",
     "text": [
      "No object found\n"
     ]
    },
    {
     "name": "stderr",
     "output_type": "stream",
     "text": []
    },
    {
     "name": "stdout",
     "output_type": "stream",
     "text": [
      "No object found\n"
     ]
    },
    {
     "name": "stderr",
     "output_type": "stream",
     "text": []
    },
    {
     "name": "stdout",
     "output_type": "stream",
     "text": [
      "No object found\n"
     ]
    },
    {
     "name": "stderr",
     "output_type": "stream",
     "text": []
    },
    {
     "name": "stdout",
     "output_type": "stream",
     "text": [
      "No object found\n"
     ]
    },
    {
     "name": "stderr",
     "output_type": "stream",
     "text": []
    },
    {
     "name": "stdout",
     "output_type": "stream",
     "text": [
      "No object found\n"
     ]
    },
    {
     "name": "stderr",
     "output_type": "stream",
     "text": []
    },
    {
     "name": "stdout",
     "output_type": "stream",
     "text": [
      "No object found\n"
     ]
    },
    {
     "name": "stderr",
     "output_type": "stream",
     "text": []
    },
    {
     "name": "stdout",
     "output_type": "stream",
     "text": [
      "No object found\n"
     ]
    },
    {
     "name": "stderr",
     "output_type": "stream",
     "text": []
    },
    {
     "name": "stdout",
     "output_type": "stream",
     "text": [
      "No object found\n"
     ]
    },
    {
     "name": "stderr",
     "output_type": "stream",
     "text": []
    },
    {
     "name": "stdout",
     "output_type": "stream",
     "text": [
      "No object found\n"
     ]
    },
    {
     "name": "stderr",
     "output_type": "stream",
     "text": []
    },
    {
     "name": "stdout",
     "output_type": "stream",
     "text": [
      "No object found\n"
     ]
    },
    {
     "name": "stderr",
     "output_type": "stream",
     "text": []
    },
    {
     "name": "stdout",
     "output_type": "stream",
     "text": [
      "No object found\n"
     ]
    },
    {
     "name": "stderr",
     "output_type": "stream",
     "text": []
    },
    {
     "name": "stdout",
     "output_type": "stream",
     "text": [
      "No object found\n"
     ]
    },
    {
     "name": "stderr",
     "output_type": "stream",
     "text": []
    },
    {
     "name": "stdout",
     "output_type": "stream",
     "text": [
      "No object found\n"
     ]
    },
    {
     "name": "stderr",
     "output_type": "stream",
     "text": []
    },
    {
     "name": "stdout",
     "output_type": "stream",
     "text": [
      "No object found\n"
     ]
    },
    {
     "name": "stderr",
     "output_type": "stream",
     "text": []
    },
    {
     "name": "stdout",
     "output_type": "stream",
     "text": [
      "No object found\n"
     ]
    },
    {
     "name": "stderr",
     "output_type": "stream",
     "text": []
    },
    {
     "name": "stdout",
     "output_type": "stream",
     "text": [
      "No object found\n"
     ]
    },
    {
     "name": "stderr",
     "output_type": "stream",
     "text": [
      " 10%|█         | 47/456 [05:27<47:34,  6.98s/it]\n",
      "100%|██████████| 2/2 [12:51<00:00, 385.93s/it]\n"
     ]
    }
   ],
   "source": [
    "with open('C:/Users/lehtona6/codes/InstruProject/NikonPipes/dataStore/metalib.json', 'r') as f:\n",
    "  own_meta = json.load(f)\n",
    "\n",
    "scaler = 350\n",
    "\n",
    "\n",
    "for video_path in tqdm.tqdm(target_paths, total=len(target_paths)):\n",
    "\n",
    "    video_name = os.path.split(video_path)[-1][:-4]\n",
    "    results = os.path.join(root_path, \"results_{}\".format(video_name))\n",
    "    os.makedirs(results, exist_ok=True)\n",
    "\n",
    "    parts = os.path.split(video_path)[-1].split(\"_\")\n",
    "    day = str(parts[0])\n",
    "\n",
    "    coords = own_meta[day][\"coords\"]\n",
    "\n",
    "    loc_id = 0\n",
    "    t_id = 0\n",
    "    channel = \"BF\"\n",
    "    track_list = []\n",
    "    total_dict = {}\n",
    "\n",
    "    out_name = os.path.join(results,'{}_{}_{}.mp4'.format(os.path.split(video_path)[1][:-4], (loc_id), datetime.date.today() ) )\n",
    "    #out_process = cv2.VideoWriter(out_name, cv2.VideoWriter_fourcc(*\"mp4v\"), 20, (2304,2304))\n",
    "    out_process = ( \n",
    "    ffmpeg \n",
    "    .input('pipe:', format='rawvideo', pix_fmt='rgb24', s='{}x{}'\n",
    "    .format(2304, 2304)) \n",
    "    .output(out_name, pix_fmt='yuv420p') .overwrite_output() \n",
    "    .run_async(pipe_stdin=True) \n",
    "    )\n",
    "\n",
    "    with ND2Reader(video_path) as images:\n",
    "        #c -channel, v - locations, t - time\n",
    "        \n",
    "        metas = load_metadata(images)\n",
    "        images.iter_axes = \"vt\"\n",
    "        images.bundle_axes = \"zyx\"\n",
    "        area_th = int(40/metas[\"m\"])**2*np.pi\n",
    "\n",
    "\n",
    "        vis_level = int(metas[\"n_levels\"]/2)\n",
    "        frames_tot = int((metas[\"n_channels\"]*metas[\"n_fields\"]*metas[\"n_frames\"]))\n",
    "\n",
    "        x_final = coords[loc_id][0] #(0,2304)\n",
    "        y_final = coords[loc_id][1] #(2304,0) \n",
    "\n",
    "\n",
    "        for idx, img in tqdm.tqdm(enumerate(images),total=frames_tot):\n",
    "\n",
    "            c_id = idx%metas[\"n_channels\"]\n",
    "            id_name = metas[\"channels\"][c_id]\n",
    "\n",
    "\n",
    "            if (id_name != channel) : #| (loc_id != 1)\n",
    "                #t_id += 1\n",
    "                #if t_id == metas[\"n_frames\"]:\n",
    "                #    t_id = 0\n",
    "                #    loc_id += 1\n",
    "                continue\n",
    "\n",
    "            projected_frame =  np.min(img, axis = 0)\n",
    "\n",
    "            th = np.percentile(projected_frame.flatten(),5)\n",
    "            projected_frame[projected_frame>th] = 0\n",
    "            x, y, r, area, x_start, y_start, mask = process_frame(projected_frame, x_final, y_final)\n",
    "\n",
    "            if area < area_th:\n",
    "                print(\"No object found\")\n",
    "            else:\n",
    "                x_final = x_start\n",
    "                y_final = y_start\n",
    "\n",
    "            focus_level = 1e10\n",
    "            focus_idx = 0\n",
    "\n",
    "            for i in range(img.shape[0]):\n",
    "\n",
    "                current_frame = img[i].copy()\n",
    "                cropped = current_frame[x_final[1]:y_final[1], x_final[0]:y_final[0]]\n",
    "                \n",
    "                if (cropped.shape[0] == 0) or (cropped.shape[1] == 0):\n",
    "                    lap = np.inf\n",
    "                else:\n",
    "                    lap = cv2.Laplacian(cropped, cv2.CV_64F).var()\n",
    "\n",
    "                if focus_level > lap:\n",
    "\n",
    "                    focus_level = lap\n",
    "                    focus_idx = i\n",
    "\n",
    "            int_frame = (img[focus_idx]*2**8/(2**16)).astype(\"uint8\")\n",
    "            int_frame = np.stack((int_frame,int_frame,int_frame), axis = -1)\n",
    "            img_normalized = cv2.normalize(int_frame, None, 0, 255, cv2.NORM_MINMAX)\n",
    "            img_normalized = cv2.cvtColor(img_normalized, cv2.COLOR_BGR2RGB)\n",
    "            cv2.rectangle(img_normalized, x_start, y_start, (2**16,0,0), 5)\n",
    "            int_mask = (mask.astype(bool)*255).astype(\"uint8\")\n",
    "            int_mask = np.stack((int_mask,int_mask,int_mask), axis = -1)\n",
    "            out_vis = cv2.addWeighted(img_normalized,1.0,int_mask,0.75,0)\n",
    "\n",
    "            #plt.imshow(out_vis)\n",
    "            #plt.show()\n",
    "\n",
    "            out_process.stdin.write(out_vis)\n",
    "            #out_process.write(out_vis)\n",
    "                \n",
    "            track_list.append([x*metas[\"m\"], y*metas[\"m\"], r*metas[\"m\"], area*metas[\"m\"]**2, (focus_idx-1)*metas[\"z_step\"], mask])\n",
    "            t_id += 1\n",
    "\n",
    "            if t_id == metas[\"n_frames\"]:\n",
    "\n",
    "                total_dict = pile_data(track_list, total_dict, loc_id, channel)\n",
    "\n",
    "                out_process.stdin.close()\n",
    "                out_process.wait()\n",
    "                #out_process.release()\n",
    "\n",
    "                with open(os.path.join(results,'{}_detections.pkl'.format(os.path.split(video_path)[1][:-4])), 'wb') as f:\n",
    "                    pickle.dump(total_dict, f)\n",
    "\n",
    "                t_id = 0\n",
    "                loc_id += 1\n",
    "                track_list = []\n",
    "                if loc_id == metas[\"n_fields\"]:\n",
    "                    break\n",
    "                \n",
    "                x_final = coords[loc_id][0] #(0,2304)\n",
    "                y_final = coords[loc_id][1] #(2304,0) \n",
    "\n",
    "                #if loc_id == 2:\n",
    "                #    break\n",
    "                \n",
    "                out_name = os.path.join(results,'{}_{}_{}.mp4'.format(os.path.split(video_path)[1][:-4], (loc_id), datetime.date.today() ) )\n",
    "                #out_process = cv2.VideoWriter(out_name, cv2.VideoWriter_fourcc(*\"mp4v\"), 20, (2304,2304))\n",
    "                out_process = ( \n",
    "                ffmpeg \n",
    "                .input('pipe:', format='rawvideo', pix_fmt='rgb24', s='{}x{}'\n",
    "                .format(2304, 2304)) \n",
    "                .output(out_name, pix_fmt='yuv420p') .overwrite_output() \n",
    "                .run_async(pipe_stdin=True) \n",
    "                )\n",
    "\n",
    "    out_process.stdin.close()\n",
    "    out_process.wait()\n",
    "    #out_process.release()\n"
   ]
  },
  {
   "cell_type": "code",
   "execution_count": null,
   "metadata": {},
   "outputs": [],
   "source": []
  },
  {
   "cell_type": "code",
   "execution_count": null,
   "metadata": {},
   "outputs": [],
   "source": []
  }
 ],
 "metadata": {
  "kernelspec": {
   "display_name": "base",
   "language": "python",
   "name": "python3"
  },
  "language_info": {
   "codemirror_mode": {
    "name": "ipython",
    "version": 3
   },
   "file_extension": ".py",
   "mimetype": "text/x-python",
   "name": "python",
   "nbconvert_exporter": "python",
   "pygments_lexer": "ipython3",
   "version": "3.11.4"
  }
 },
 "nbformat": 4,
 "nbformat_minor": 2
}
