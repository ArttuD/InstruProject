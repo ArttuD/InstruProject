{
 "cells": [
  {
   "cell_type": "code",
   "execution_count": 5,
   "metadata": {},
   "outputs": [],
   "source": [
    "import os\n",
    "import matplotlib.pyplot as plt\n",
    "import pandas as pd\n",
    "import numpy as np\n",
    "import cv2 \n",
    "import glob\n",
    "\n",
    "import tqdm\n",
    "\n",
    "from nd2reader import ND2Reader\n",
    "import h5py\n",
    "import pickle\n",
    "import json\n",
    "\n",
    "import datetime\n",
    "\n",
    "import warnings\n",
    "warnings.filterwarnings('ignore')\n",
    "\n",
    "import ffmpeg\n",
    "\n",
    "from skimage.filters import rank, threshold_otsu, threshold_local#\n",
    "from skimage import morphology\n",
    "\n",
    "import scipy \n",
    "import skimage\n",
    "\n",
    "import pandas as pd\n",
    "import seaborn as sns\n",
    "import csv\n",
    "\n",
    "from tools.func import *"
   ]
  },
  {
   "cell_type": "code",
   "execution_count": 6,
   "metadata": {},
   "outputs": [],
   "source": [
    "#Draw rectangle to images\n",
    "def mousePoints(event,x,y,flags,param):\n",
    "    #Crop image\n",
    "    global refPt\n",
    "    global img\n",
    "    global final_boundaries\n",
    "    global stopper\n",
    "    # Left button click\n",
    "    if event == cv2.EVENT_LBUTTONDOWN:\n",
    "        refPt = [(x, y)]\n",
    "    elif event == cv2.EVENT_LBUTTONUP:\n",
    "        refPt.append((x, y))\n",
    "        final_boundaries.append((refPt[0],refPt[1]))\n",
    "        stopper = True\n",
    "        cv2.imshow(\"win\", img)\n",
    "        print(\"two clicks!\")\n",
    "    elif event == cv2.EVENT_MOUSEMOVE and flags == cv2.EVENT_FLAG_LBUTTON:\n",
    "        clone = img.copy()\n",
    "        cv2.rectangle(clone, refPt[0], (x, y), (0, 255, 0), 4)\n",
    "        cv2.imshow(\"win\", clone)\n",
    "\n",
    "\n",
    "\n",
    "def parse_raw_dict(day, video_path):\n",
    "\n",
    "    fh = video_path\n",
    "\n",
    "    with open('./dataStore/metalib.json', 'r') as f:\n",
    "        own_meta = json.load(f)\n",
    "\n",
    "    parts = os.path.split(video_path)[-1].split(\"_\")\n",
    "    day = str(parts[0])\n",
    "\n",
    "    label_map = None\n",
    "\n",
    "    if isinstance(fh, str):\n",
    "        if not fh.endswith(\".nd2\"):\n",
    "            raise InvalidFileType(\n",
    "                (\"The file %s you want to read with nd2reader\" % fh)\n",
    "                + \" does not have extension .nd2.\"\n",
    "            )\n",
    "        \n",
    "        filename = fh\n",
    "\n",
    "        fh = open(fh, \"rb\")\n",
    "\n",
    "    _fh = fh\n",
    "    _fh.seek(-8, 2)\n",
    "    chunk_map_start_location = struct.unpack(\"Q\", _fh.read(8))[0]\n",
    "    _fh.seek(chunk_map_start_location)\n",
    "    raw_text = _fh.read(-1)\n",
    "    label_map = LabelMap(raw_text)\n",
    "    datasTT = RawMetadata(_fh, label_map)\n",
    "\n",
    "\n",
    "    seeding_density = []\n",
    "    well_name = []\n",
    "    well_info = datasTT.image_metadata[b'SLxExperiment'][b'ppNextLevelEx'][b''][b'uLoopPars'][b'Points'][b'']\n",
    "    for i in range(len(well_info)):\n",
    "        \n",
    "        label = (well_info[i][b'dPosName']).decode(\"utf8\")\n",
    "        lable_parts = label.split(\"_\")\n",
    "        if len(lable_parts) == 1:\n",
    "            seeding_density.append(500)\n",
    "        else:\n",
    "            seeding_density.append(int(lable_parts[1]))\n",
    "\n",
    "        well_name.append(lable_parts[0])\n",
    "\n",
    "    own_meta[day][\"cell\"] = well_name\n",
    "    own_meta[day][\"seeding_density\"] = seeding_density\n",
    "    own_meta[day][\"dt\"] = datasTT.image_metadata[b'SLxExperiment'][b'uLoopPars'][b'dPeriod']*1e-3\n",
    "\n",
    "\n",
    "    with open('./dataStore/metalib.json', 'w', encoding='utf-8') as f:\n",
    "        json.dump(own_meta, f, ensure_ascii=False, indent=4)\n",
    "        "
   ]
  },
  {
   "cell_type": "code",
   "execution_count": 8,
   "metadata": {},
   "outputs": [],
   "source": [
    "with open('C:/Users/lehtona6/codes/InstruProject/NikonPipes/dataStore/metalib.json', 'r') as f:\n",
    "  own_meta = json.load(f)\n",
    "\n",
    "root_path = \"D:/\"\n",
    "target_paths = glob.glob(os.path.join(root_path, \"*.nd2\"))\n",
    "coord_dict = {}\n",
    "\n",
    "skip_existing = False\n",
    "map_coord = False\n",
    "\n",
    "for video_path in target_paths:\n",
    "\n",
    "    parts = os.path.split(video_path)[-1].split(\"_\")\n",
    "    day = str(parts[0])\n",
    "    matrix = parts[2]\n",
    "    n_ines = parts[3][0]\n",
    "    start_time = int(parts[4][:-1])\n",
    "    comments = parts[5][:-3]\n",
    "\n",
    "    if day not in own_meta.keys():\n",
    "        own_meta[day] = {}\n",
    "    elif skip_existing:\n",
    "        continue\n",
    "\n",
    "    own_meta[day][\"matrix\"]  = matrix\n",
    "    own_meta[day][\"n_cells\"]  = n_ines\n",
    "    own_meta[day][\"dim\"] = \"3D\"\n",
    "    own_meta[day][\"incubation_time\"] = start_time\n",
    "    own_meta[day][\"other\"] = \"other\"\n",
    "\n",
    "    parse_raw_dict(day, video_path)\n",
    "    if map_coord:\n",
    "\n",
    "        with ND2Reader(video_path) as images:\n",
    "\n",
    "            coords = []\n",
    "            final_boundaries = []\n",
    "            metas = load_metadata(images)\n",
    "            z_levels = metas[\"n_levels\"]\n",
    "            vis_level = int(z_levels/2)\n",
    "            stopper = False\n",
    "\n",
    "            for i in range(metas[\"n_fields\"]):\n",
    "\n",
    "                cv2.namedWindow('win',cv2.WINDOW_NORMAL)\n",
    "                cv2.setMouseCallback(\"win\", mousePoints)\n",
    "\n",
    "                img = images.get_frame_2D(c=0, t=0, z=vis_level, x=0, y=0, v=i)\n",
    "                cv2.imshow(\"win\",img)\n",
    "\n",
    "                k = cv2.waitKey(0)\n",
    "\n",
    "                if k == ord(\"q\"):  # Press q to quit\n",
    "                    break\n",
    "\n",
    "                if stopper == True:\n",
    "\n",
    "                    stopper = False\n",
    "                    coords.append(final_boundaries)\n",
    "                    final_boundaries = []\n",
    "                    cv2.destroyAllWindows()\n",
    "\n",
    "\n",
    "            cv2.destroyAllWindows()\n",
    "\n",
    "            if k == ord(\"q\"):  # Press q to quit\n",
    "                break\n",
    "\n",
    "        final_coords = []\n",
    "\n",
    "        for i in range(len(coords)):\n",
    "            final_coords.append([[coords[i][0][0][0], coords[i][0][0][1]], [coords[i][0][1][0], coords[i][0][1][1]]])\n",
    "\n",
    "        \n",
    "        own_meta[day][\"coords\"] = final_coords\n",
    "        \n",
    "        if k == ord(\"q\"):  # Press q to quit\n",
    "            break\n",
    "\n",
    "\n",
    "    with open('./dataStore/metalib.json', 'w', encoding='utf-8') as f:\n",
    "        json.dump(own_meta, f, ensure_ascii=False, indent=4)\n"
   ]
  },
  {
   "cell_type": "code",
   "execution_count": 37,
   "metadata": {},
   "outputs": [
    {
     "ename": "NameError",
     "evalue": "name 'metas' is not defined",
     "output_type": "error",
     "traceback": [
      "\u001b[1;31m---------------------------------------------------------------------------\u001b[0m",
      "\u001b[1;31mNameError\u001b[0m                                 Traceback (most recent call last)",
      "Cell \u001b[1;32mIn[37], line 1\u001b[0m\n\u001b[1;32m----> 1\u001b[0m metas\n",
      "\u001b[1;31mNameError\u001b[0m: name 'metas' is not defined"
     ]
    }
   ],
   "source": [
    "metas"
   ]
  },
  {
   "cell_type": "code",
   "execution_count": 38,
   "metadata": {},
   "outputs": [],
   "source": [
    "for video_path in target_paths:\n",
    "\n",
    "    parts = os.path.split(video_path)[-1].split(\"_\")\n",
    "    day = str(parts[0])\n",
    "    parse_raw_dict(day, video_path)\n",
    "\n",
    "    with open('C:/Users/lehtona6/codes/InstruProject/NikonPipes/dataStore/metalib.json', 'r') as f:\n",
    "        own_meta = json.load(f)\n",
    "\n",
    "    with ND2Reader(video_path) as images:\n",
    "        metas = load_metadata(images)\n",
    "\n",
    "    for k in metas.keys():\n",
    "        own_meta[day][k] = metas[k]\n",
    "\n",
    "    with open('./dataStore/metalib.json', 'w', encoding='utf-8') as f:\n",
    "        json.dump(own_meta, f, ensure_ascii=False, indent=4)\n"
   ]
  },
  {
   "cell_type": "code",
   "execution_count": 31,
   "metadata": {},
   "outputs": [
    {
     "name": "stderr",
     "output_type": "stream",
     "text": [
      "  0%|          | 0/2 [00:00<?, ?it/s]"
     ]
    },
    {
     "name": "stdout",
     "output_type": "stream",
     "text": [
      "No object found\n"
     ]
    },
    {
     "name": "stderr",
     "output_type": "stream",
     "text": []
    },
    {
     "name": "stdout",
     "output_type": "stream",
     "text": [
      "No object found\n"
     ]
    },
    {
     "name": "stderr",
     "output_type": "stream",
     "text": []
    },
    {
     "name": "stdout",
     "output_type": "stream",
     "text": [
      "No object found\n"
     ]
    },
    {
     "name": "stderr",
     "output_type": "stream",
     "text": []
    },
    {
     "name": "stdout",
     "output_type": "stream",
     "text": [
      "No object found\n"
     ]
    },
    {
     "name": "stderr",
     "output_type": "stream",
     "text": []
    },
    {
     "name": "stdout",
     "output_type": "stream",
     "text": [
      "No object found\n"
     ]
    },
    {
     "name": "stderr",
     "output_type": "stream",
     "text": []
    },
    {
     "name": "stdout",
     "output_type": "stream",
     "text": [
      "No object found\n"
     ]
    },
    {
     "name": "stderr",
     "output_type": "stream",
     "text": []
    },
    {
     "name": "stdout",
     "output_type": "stream",
     "text": [
      "No object found\n"
     ]
    },
    {
     "name": "stderr",
     "output_type": "stream",
     "text": []
    },
    {
     "name": "stdout",
     "output_type": "stream",
     "text": [
      "No object found\n"
     ]
    },
    {
     "name": "stderr",
     "output_type": "stream",
     "text": []
    },
    {
     "name": "stdout",
     "output_type": "stream",
     "text": [
      "No object found\n"
     ]
    },
    {
     "name": "stderr",
     "output_type": "stream",
     "text": []
    },
    {
     "name": "stdout",
     "output_type": "stream",
     "text": [
      "No object found\n"
     ]
    },
    {
     "name": "stderr",
     "output_type": "stream",
     "text": [
      " 22%|██▏       | 57/261 [07:23<26:26,  7.78s/it]\n",
      " 50%|█████     | 1/2 [07:23<07:23, 443.41s/it]"
     ]
    },
    {
     "name": "stdout",
     "output_type": "stream",
     "text": [
      "No object found\n"
     ]
    },
    {
     "name": "stderr",
     "output_type": "stream",
     "text": []
    },
    {
     "name": "stdout",
     "output_type": "stream",
     "text": [
      "No object found\n"
     ]
    },
    {
     "name": "stderr",
     "output_type": "stream",
     "text": []
    },
    {
     "name": "stdout",
     "output_type": "stream",
     "text": [
      "No object found\n"
     ]
    },
    {
     "name": "stderr",
     "output_type": "stream",
     "text": []
    },
    {
     "name": "stdout",
     "output_type": "stream",
     "text": [
      "No object found\n"
     ]
    },
    {
     "name": "stderr",
     "output_type": "stream",
     "text": []
    },
    {
     "name": "stdout",
     "output_type": "stream",
     "text": [
      "No object found\n"
     ]
    },
    {
     "name": "stderr",
     "output_type": "stream",
     "text": []
    },
    {
     "name": "stdout",
     "output_type": "stream",
     "text": [
      "No object found\n"
     ]
    },
    {
     "name": "stderr",
     "output_type": "stream",
     "text": []
    },
    {
     "name": "stdout",
     "output_type": "stream",
     "text": [
      "No object found\n"
     ]
    },
    {
     "name": "stderr",
     "output_type": "stream",
     "text": []
    },
    {
     "name": "stdout",
     "output_type": "stream",
     "text": [
      "No object found\n"
     ]
    },
    {
     "name": "stderr",
     "output_type": "stream",
     "text": []
    },
    {
     "name": "stdout",
     "output_type": "stream",
     "text": [
      "No object found\n"
     ]
    },
    {
     "name": "stderr",
     "output_type": "stream",
     "text": []
    },
    {
     "name": "stdout",
     "output_type": "stream",
     "text": [
      "No object found\n"
     ]
    },
    {
     "name": "stderr",
     "output_type": "stream",
     "text": []
    },
    {
     "name": "stdout",
     "output_type": "stream",
     "text": [
      "No object found\n"
     ]
    },
    {
     "name": "stderr",
     "output_type": "stream",
     "text": []
    },
    {
     "name": "stdout",
     "output_type": "stream",
     "text": [
      "No object found\n"
     ]
    },
    {
     "name": "stderr",
     "output_type": "stream",
     "text": []
    },
    {
     "name": "stdout",
     "output_type": "stream",
     "text": [
      "No object found\n"
     ]
    },
    {
     "name": "stderr",
     "output_type": "stream",
     "text": []
    },
    {
     "name": "stdout",
     "output_type": "stream",
     "text": [
      "No object found\n"
     ]
    },
    {
     "name": "stderr",
     "output_type": "stream",
     "text": []
    },
    {
     "name": "stdout",
     "output_type": "stream",
     "text": [
      "No object found\n"
     ]
    },
    {
     "name": "stderr",
     "output_type": "stream",
     "text": []
    },
    {
     "name": "stdout",
     "output_type": "stream",
     "text": [
      "No object found\n"
     ]
    },
    {
     "name": "stderr",
     "output_type": "stream",
     "text": []
    },
    {
     "name": "stdout",
     "output_type": "stream",
     "text": [
      "No object found\n"
     ]
    },
    {
     "name": "stderr",
     "output_type": "stream",
     "text": []
    },
    {
     "name": "stdout",
     "output_type": "stream",
     "text": [
      "No object found\n"
     ]
    },
    {
     "name": "stderr",
     "output_type": "stream",
     "text": []
    },
    {
     "name": "stdout",
     "output_type": "stream",
     "text": [
      "No object found\n"
     ]
    },
    {
     "name": "stderr",
     "output_type": "stream",
     "text": []
    },
    {
     "name": "stdout",
     "output_type": "stream",
     "text": [
      "No object found\n"
     ]
    },
    {
     "name": "stderr",
     "output_type": "stream",
     "text": []
    },
    {
     "name": "stdout",
     "output_type": "stream",
     "text": [
      "No object found\n"
     ]
    },
    {
     "name": "stderr",
     "output_type": "stream",
     "text": []
    },
    {
     "name": "stdout",
     "output_type": "stream",
     "text": [
      "No object found\n"
     ]
    },
    {
     "name": "stderr",
     "output_type": "stream",
     "text": []
    },
    {
     "name": "stdout",
     "output_type": "stream",
     "text": [
      "No object found\n"
     ]
    },
    {
     "name": "stderr",
     "output_type": "stream",
     "text": []
    },
    {
     "name": "stdout",
     "output_type": "stream",
     "text": [
      "No object found\n"
     ]
    },
    {
     "name": "stderr",
     "output_type": "stream",
     "text": [
      " 10%|█         | 47/456 [05:27<47:34,  6.98s/it]\n",
      "100%|██████████| 2/2 [12:51<00:00, 385.93s/it]\n"
     ]
    }
   ],
   "source": [
    "with open('C:/Users/lehtona6/codes/InstruProject/NikonPipes/dataStore/metalib.json', 'r') as f:\n",
    "  own_meta = json.load(f)\n",
    "\n",
    "scaler = 350\n",
    "\n",
    "\n",
    "for video_path in tqdm.tqdm(target_paths, total=len(target_paths)):\n",
    "\n",
    "    video_name = os.path.split(video_path)[-1][:-4]\n",
    "    results = os.path.join(root_path, \"results_{}\".format(video_name))\n",
    "    os.makedirs(results, exist_ok=True)\n",
    "\n",
    "    parts = os.path.split(video_path)[-1].split(\"_\")\n",
    "    day = str(parts[0])\n",
    "\n",
    "    coords = own_meta[day][\"coords\"]\n",
    "\n",
    "    loc_id = 0\n",
    "    t_id = 0\n",
    "    channel = \"BF\"\n",
    "    track_list = []\n",
    "    total_dict = {}\n",
    "\n",
    "    out_name = os.path.join(results,'{}_{}_{}.mp4'.format(os.path.split(video_path)[1][:-4], (loc_id), datetime.date.today() ) )\n",
    "    #out_process = cv2.VideoWriter(out_name, cv2.VideoWriter_fourcc(*\"mp4v\"), 20, (2304,2304))\n",
    "    out_process = ( \n",
    "    ffmpeg \n",
    "    .input('pipe:', format='rawvideo', pix_fmt='rgb24', s='{}x{}'\n",
    "    .format(2304, 2304)) \n",
    "    .output(out_name, pix_fmt='yuv420p') .overwrite_output() \n",
    "    .run_async(pipe_stdin=True) \n",
    "    )\n",
    "\n",
    "    with ND2Reader(video_path) as images:\n",
    "        #c -channel, v - locations, t - time\n",
    "        \n",
    "        metas = load_metadata(images)\n",
    "        images.iter_axes = \"vt\"\n",
    "        images.bundle_axes = \"zyx\"\n",
    "        area_th = int(40/metas[\"m\"])**2*np.pi\n",
    "\n",
    "        vis_level = int(metas[\"n_levels\"]/2)\n",
    "        frames_tot = int((metas[\"n_channels\"]*metas[\"n_fields\"]*metas[\"n_frames\"]))\n",
    "\n",
    "        x_final = coords[loc_id][0] #(0,2304)\n",
    "        y_final = coords[loc_id][1] #(2304,0) \n",
    "\n",
    "\n",
    "        for idx, img in tqdm.tqdm(enumerate(images),total=frames_tot):\n",
    "\n",
    "            c_id = idx%metas[\"n_channels\"]\n",
    "            id_name = metas[\"channels\"][c_id]\n",
    "\n",
    "\n",
    "            if (id_name != channel) : #| (loc_id != 1)\n",
    "                #t_id += 1\n",
    "                #if t_id == metas[\"n_frames\"]:\n",
    "                #    t_id = 0\n",
    "                #    loc_id += 1\n",
    "                continue\n",
    "\n",
    "            projected_frame =  np.min(img, axis = 0)\n",
    "\n",
    "            th = np.percentile(projected_frame.flatten(),5)\n",
    "            projected_frame[projected_frame>th] = 0\n",
    "            x, y, r, area, x_start, y_start, mask = process_frame(projected_frame, x_final, y_final)\n",
    "\n",
    "            if area < area_th:\n",
    "                print(\"No object found\")\n",
    "            else:\n",
    "                x_final = x_start\n",
    "                y_final = y_start\n",
    "\n",
    "            focus_level = 1e10\n",
    "            focus_idx = 0\n",
    "\n",
    "            for i in range(img.shape[0]):\n",
    "\n",
    "                current_frame = img[i].copy()\n",
    "                cropped = current_frame[x_final[1]:y_final[1], x_final[0]:y_final[0]]\n",
    "                \n",
    "                if (cropped.shape[0] == 0) or (cropped.shape[1] == 0):\n",
    "                    lap = np.inf\n",
    "                else:\n",
    "                    lap = cv2.Laplacian(cropped, cv2.CV_64F).var()\n",
    "\n",
    "                if focus_level > lap:\n",
    "\n",
    "                    focus_level = lap\n",
    "                    focus_idx = i\n",
    "\n",
    "            int_frame = (img[focus_idx]*2**8/(2**16)).astype(\"uint8\")\n",
    "            int_frame = np.stack((int_frame,int_frame,int_frame), axis = -1)\n",
    "            img_normalized = cv2.normalize(int_frame, None, 0, 255, cv2.NORM_MINMAX)\n",
    "            img_normalized = cv2.cvtColor(img_normalized, cv2.COLOR_BGR2RGB)\n",
    "            cv2.rectangle(img_normalized, x_start, y_start, (2**16,0,0), 5)\n",
    "            int_mask = (mask.astype(bool)*255).astype(\"uint8\")\n",
    "            int_mask = np.stack((int_mask,int_mask,int_mask), axis = -1)\n",
    "            out_vis = cv2.addWeighted(img_normalized,1.0,int_mask,0.75,0)\n",
    "\n",
    "            #plt.imshow(out_vis)\n",
    "            #plt.show()\n",
    "\n",
    "            out_process.stdin.write(out_vis)\n",
    "            #out_process.write(out_vis)\n",
    "                \n",
    "            track_list.append([x*metas[\"m\"], y*metas[\"m\"], r*metas[\"m\"], area*metas[\"m\"]**2, (focus_idx-1)*metas[\"z_step\"], mask])\n",
    "            t_id += 1\n",
    "\n",
    "            if t_id == metas[\"n_frames\"]:\n",
    "\n",
    "                total_dict = pile_data(track_list, total_dict, loc_id, channel)\n",
    "\n",
    "                out_process.stdin.close()\n",
    "                out_process.wait()\n",
    "                #out_process.release()\n",
    "\n",
    "                with open(os.path.join(results,'{}_detections.pkl'.format(os.path.split(video_path)[1][:-4])), 'wb') as f:\n",
    "                    pickle.dump(total_dict, f)\n",
    "\n",
    "                t_id = 0\n",
    "                loc_id += 1\n",
    "                track_list = []\n",
    "                if loc_id == metas[\"n_fields\"]:\n",
    "                    break\n",
    "                \n",
    "                x_final = coords[loc_id][0] #(0,2304)\n",
    "                y_final = coords[loc_id][1] #(2304,0) \n",
    "\n",
    "                #if loc_id == 2:\n",
    "                #    break\n",
    "                \n",
    "                out_name = os.path.join(results,'{}_{}_{}.mp4'.format(os.path.split(video_path)[1][:-4], (loc_id), datetime.date.today() ) )\n",
    "                #out_process = cv2.VideoWriter(out_name, cv2.VideoWriter_fourcc(*\"mp4v\"), 20, (2304,2304))\n",
    "                out_process = ( \n",
    "                ffmpeg \n",
    "                .input('pipe:', format='rawvideo', pix_fmt='rgb24', s='{}x{}'\n",
    "                .format(2304, 2304)) \n",
    "                .output(out_name, pix_fmt='yuv420p') .overwrite_output() \n",
    "                .run_async(pipe_stdin=True) \n",
    "                )\n",
    "\n",
    "    out_process.stdin.close()\n",
    "    out_process.wait()\n",
    "    #out_process.release()\n"
   ]
  },
  {
   "cell_type": "code",
   "execution_count": 13,
   "metadata": {},
   "outputs": [],
   "source": [
    "day = \"230417\"\n",
    "\n",
    "with open('./dataStore/metalib.json', 'r') as f:\n",
    "    own_meta = json.load(f)\n",
    "\n",
    "own_meta[day][\"ignore\"] = [1]\n",
    "\n",
    "with open('./dataStore/metalib.json', 'w', encoding='utf-8') as f:\n",
    "    json.dump(own_meta, f, ensure_ascii=False, indent=4)"
   ]
  },
  {
   "cell_type": "code",
   "execution_count": 42,
   "metadata": {},
   "outputs": [],
   "source": [
    "all_paths = glob.glob(\"D:/instru_projects/timelapse/u-wells/*/*.nd2\")"
   ]
  },
  {
   "cell_type": "code",
   "execution_count": 59,
   "metadata": {},
   "outputs": [],
   "source": [
    "total_ID = 0\n",
    "\n",
    "for global_counter, video_path in enumerate(all_paths):\n",
    "\n",
    "    video_name = os.path.split(video_path)[-1][:-4]\n",
    "    results = os.path.join(root_path, \"results_{}\".format(video_name))\n",
    "    pickel_path = os.path.join(results,\"{}_detections.pkl\".format(video_name))\n",
    "\n",
    "    parts = os.path.split(video_path)[-1].split(\"_\")\n",
    "    day = str(parts[0])\n",
    "\n",
    "    with open('./dataStore/metalib.json', 'r') as f:\n",
    "        own_meta = json.load(f)\n",
    "\n",
    "    with open(pickel_path, 'rb') as f:\n",
    "        total_dict = pickle.load(f)\n",
    "        \n",
    "\n",
    "    for counter, current_key in enumerate(total_dict.keys()):\n",
    "        loc_ = int(current_key.split(\"_\")[1])\n",
    "        df_temp = pd.DataFrame()\n",
    "        df_temp[\"x\"] = np.array(total_dict[current_key]['x'])*own_meta[day][\"m\"]\n",
    "        df_temp[\"y\"] = np.array(total_dict[current_key]['y'])*own_meta[day][\"m\"]\n",
    "        df_temp[\"z\"] = np.array(total_dict[current_key]['z'])*own_meta[day][\"z_step\"]\n",
    "\n",
    "        df_temp[\"t\"] = np.arange(df_temp.shape[0])*own_meta[day][\"dt\"]+own_meta[day][\"incubation_time\"]\n",
    "        df_temp[\"area\"] = np.array(total_dict[current_key]['area'])*own_meta[day][\"m\"]\n",
    "        df_temp[\"cell_label\"] = own_meta[day][\"cell\"][loc_]\n",
    "        df_temp[\"matrix\"] = own_meta[day][\"matrix\"]\n",
    "        df_temp[\"seeding_density\"] = own_meta[day][\"seeding_density\"][loc_]\n",
    "        df_temp[\"ID\"] = total_ID\n",
    "        total_ID += 1\n",
    "\n",
    "        df_temp[\"MSD_tau\"] = np.zeros(df_temp.shape[0])\n",
    "        df_temp[\"t\"] = np.zeros(df_temp.shape[0])\n",
    "\n",
    "        for tau in range(1, df_temp.shape[0]):\n",
    "            MSD = calc_MSD(df_temp, own_meta[day][\"dt\"], tau)\n",
    "            df_temp.loc[tau,\"MSD_tau\"] = MSD\n",
    "            df_temp.loc[tau,\"t\"] = tau*own_meta[day][\"dt\"]\n",
    "\n",
    "        try:\n",
    "            p, p_ = scipy.optimize.curve_fit(power_law, df_temp[\"t\"], df_temp[\"MSD_tau\"],  maxfev = 10000)\n",
    "            df_temp[\"alpha\"] = p[1]\n",
    "            df_temp[\"ampltiude\"] = p[0]\n",
    "        except:\n",
    "            print(\"failed\", total_dict)\n",
    "            df_temp[\"alpha\"] = 0#np.nan\n",
    "            df_temp[\"ampltiude\"] = 0#np.nan\n",
    "\n",
    "\n",
    "        if counter == 0:\n",
    "            df_meas = df_temp\n",
    "        else:\n",
    "            df_meas = pd.concat([df_meas,df_temp])\n",
    "\n",
    "    if global_counter == 0:\n",
    "        df = df_meas\n",
    "    else:\n",
    "        df = pd.concat([df, df_meas])"
   ]
  },
  {
   "cell_type": "code",
   "execution_count": null,
   "metadata": {},
   "outputs": [],
   "source": [
    "fig = plt.figure(figsize = (15,15))\n",
    "\n",
    "ax = [ \n",
    "    fig.add_subplot(321, projection='3d'),\n",
    "    fig.add_subplot(322),\n",
    "    fig.add_subplot(323),\n",
    "    fig.add_subplot(324)\n",
    "]\n",
    "for tags, data in df.groupby([\"cell_label\", \"matrix\", \"ID\"]):\n",
    "    ax[0].plot3D(data[\"x\"],  data[\"y\"],data[\"z\"])\n",
    "    ax[0].scatter(data[\"x\"].values[0],  data[\"y\"].values[0],(data[\"z\"]).values[0], label = False, color =\"red\")\n",
    "    \n",
    "    ax[1].scatter(data[\"t\"], data[\"MSD_tau\"])\n",
    "    x_data = np.arange(0,data[\"t\"].values[-1], 0.01)\n",
    "    y_data = power_law(x_data, [data[\"amplutude\"].values[0], data[\"alpha\"].values[0]])\n",
    "    ax[1].plot(x_data, y_data, color = \"red\")\n",
    "\n",
    "\n",
    "sns.lineplot(x = \"t\", y = \"area\", hue = df[['cell_label', 'matrix']].apply(tuple, axis=1), data = df, ax = ax[2])\n",
    "ax[2].set_xlabel(\"time\")\n",
    "ax[2].set_ylabel(\"Area (um^2)\")\n",
    "\n",
    "sns.boxplot(x = \"cell_label\", y= \"alpha\", data = df, ax = ax[3])\n"
   ]
  },
  {
   "cell_type": "code",
   "execution_count": null,
   "metadata": {},
   "outputs": [],
   "source": [
    "\n",
    "fig, ax = plt.subplots(2,2, figsize= (10,7))\n",
    "\n",
    "for tags, datas in df.groupby([\"ID\"]):\n",
    "    if tags[0] > 0:\n",
    "        datas = datas.reset_index()\n",
    "\n",
    "    ax[0,0].plot(datas[\"x\"]-datas[\"x\"].values[0], datas[\"y\"]-datas[\"y\"].values[0], label = \"{}, {} µm\".format(tags, datas[\"MSD_tau\"].mean()))\n",
    "    ax[0,1].scatter(datas[\"t\"], datas[\"MSD_tau\"])\n",
    "\n",
    "    try:\n",
    "        p, p_ = scipy.optimize.curve_fit(power_law, datas[\"t\"], datas[\"MSD_tau\"],  maxfev = 10000)\n",
    "        x_data = np.arange(0,datas[\"t\"].values[-1], 0.01)\n",
    "        y_data = power_law(x_data, *p)\n",
    "        ax[0,1].plot(x_data, y_data, color = \"red\")\n",
    "    except:\n",
    "        print(\"failed\", tags)\n",
    "\n",
    "    datas[\"alpha\"] = p[1]\n",
    "\n",
    "    if round_flag:\n",
    "        df = datas\n",
    "        round_flag = False\n",
    "    else:\n",
    "        df = pd.concat((df, datas))\n",
    "\n",
    "fig.suptitle('Individual cell analysis')\n",
    "\n",
    "ax[0,1].set_xscale(\"log\")\n",
    "ax[0,1].set_yscale(\"log\")\n",
    "ax[0,1].set_xlim([5e1,1e3])\n",
    "ax[0,1].set_ylim([7e-2,1e1])\n",
    "\n",
    "ax[0,0].set_xlabel(\"x-coordinate\")\n",
    "ax[0,0].set_ylabel(\"y-coordinate\")\n",
    "\n",
    "ax[0,1].set_xlabel(\"time lag (min)\")\n",
    "ax[0,1].set_ylabel(r\"MSD (1e$^3$) mm$^2$\")\n",
    "\n",
    "mm = df.groupby(['loc', 'label','cell_id']).mean().reset_index()\n",
    "sns.boxplot(x = \"label\", y= \"alpha\", data = mm, ax = ax[1,0])\n",
    "sns.countplot(x=\"label\", data = mm, ax = ax[1,1])\n",
    "\n",
    "\n",
    "\n",
    "#ax[0].legend()\n",
    "plt.show()"
   ]
  }
 ],
 "metadata": {
  "kernelspec": {
   "display_name": "base",
   "language": "python",
   "name": "python3"
  },
  "language_info": {
   "codemirror_mode": {
    "name": "ipython",
    "version": 3
   },
   "file_extension": ".py",
   "mimetype": "text/x-python",
   "name": "python",
   "nbconvert_exporter": "python",
   "pygments_lexer": "ipython3",
   "version": "3.11.4"
  }
 },
 "nbformat": 4,
 "nbformat_minor": 2
}
