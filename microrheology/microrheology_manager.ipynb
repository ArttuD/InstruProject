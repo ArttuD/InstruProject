{
 "cells": [
  {
   "cell_type": "code",
   "execution_count": 58,
   "metadata": {},
   "outputs": [],
   "source": [
    "import numpy as np\n",
    "import pandas as pd\n",
    "import matplotlib.pyplot as plt\n",
    "import glob\n",
    "import os\n"
   ]
  },
  {
   "cell_type": "markdown",
   "metadata": {},
   "source": [
    "## Data parser\n",
    "\n",
    "Find and download all microrheology data and format dictionary for stan"
   ]
  },
  {
   "cell_type": "code",
   "execution_count": null,
   "metadata": {},
   "outputs": [],
   "source": [
    "# Download data and make a mega .csv fiel\n",
    "\n",
    "paths=[]\n",
    "paths = glob.glob(os.path.join('C:/Users/srboval1/IPN15/collagen/*','**','summary_ref_level.csv'))\n",
    "print(paths)\n",
    "concentration = '0/2'\n",
    "type ='collagen'\n",
    "\n",
    "a = []\n",
    "for i in paths:\n",
    "    path1 = os.path.split(os.path.split(i)[0])[0]\n",
    "    path1.replace(\"/\",\"\\\\\")\n",
    "    print(path1)\n",
    "    splitted= path1.split('\\\\')[-1]\n",
    "    tmp = pd.read_csv(i)\n",
    "    tmp['coating_type'] = splitted.split('_')[-1]\n",
    "    tmp['size'] = splitted.split('_')[-2]\n",
    "    tmp['day'] = splitted.split('_')[-4]\n",
    "    a.append(tmp)\n",
    "    print(tmp)\n",
    "\n",
    "a_concantenated=[]\n",
    "a_concantenated = pd.concat(a)\n",
    "a_concantenated['radius_(m)'] *= 1e6\n",
    "a_concantenated = a_concantenated.rename(columns={'radius_(m)':'radius_(um)'})\n",
    "a_concantenated['concentration'] = concentration\n",
    "a_concantenated['type'] = type\n",
    "a_concantenated['frequency'] = 0.05\n",
    "a_concantenated = a_concantenated.reindex(columns=['day','frequency','concentration','type','sample','holder','location','repeat','track_id','reference_id','distance(um)','Cov_Sum','a_(um)','phi_(rad)','c','d','G_abs','radius_(m)','r2','rmse','inv.rmse','shift_(s)','a_error','phi_error','c_error','d_error','x','y','phi_(deg)','tan_phi'])\n",
    "\n",
    "#%%\n",
    "if os.path.exists('C:/Users/srboval1/IPN15/IPN15.csv'):\n",
    "    a_new = pd.DataFrame(a_concantenated)\n",
    "    a_new.to_csv('C:/Users/srboval1/IPN15/IPN15.csv', mode='a', index=False, header=False)\n",
    "else:\n",
    "    a_concantenated.to_csv(\"C:/Users/srboval1/IPN15/IPN15.csv\", index=False)\n",
    "    "
   ]
  },
  {
   "cell_type": "code",
   "execution_count": 68,
   "metadata": {},
   "outputs": [
    {
     "name": "stdout",
     "output_type": "stream",
     "text": [
      "['G_abs', 'phi_(rad)'] \n",
      " ['collagen' 'IPN']\n"
     ]
    }
   ],
   "source": [
    "data_all = pd.read_csv(\"./dataStore/superFrame.csv\")\n",
    "\n",
    "G_std = np.max(data_all[['type','day','holder','location','track_id',\"G_abs\", \"phi_(deg)\"]].groupby([\"type\"]).std()[\"G_abs\"].values)\n",
    "phi_std = np.max(data_all[['type','day','holder','location','track_id',\"G_abs\", \"phi_(deg)\"]].groupby([\"type\"]).std()[\"phi_(deg)\"].values)\n",
    "full_path = os.path.split(os.getcwd())[0]\n",
    "\n",
    "\n",
    "print([\"G_abs\", \"phi_(rad)\"], \"\\n\",data_all[\"type\"].unique())"
   ]
  },
  {
   "cell_type": "markdown",
   "metadata": {},
   "source": [
    "Make a dictionary"
   ]
  },
  {
   "cell_type": "code",
   "execution_count": 67,
   "metadata": {},
   "outputs": [],
   "source": []
  }
 ],
 "metadata": {
  "kernelspec": {
   "display_name": "base",
   "language": "python",
   "name": "python3"
  },
  "language_info": {
   "codemirror_mode": {
    "name": "ipython",
    "version": 3
   },
   "file_extension": ".py",
   "mimetype": "text/x-python",
   "name": "python",
   "nbconvert_exporter": "python",
   "pygments_lexer": "ipython3",
   "version": "3.11.4"
  }
 },
 "nbformat": 4,
 "nbformat_minor": 2
}
