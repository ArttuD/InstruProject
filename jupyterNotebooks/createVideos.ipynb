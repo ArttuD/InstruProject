{
 "cells": [
  {
   "cell_type": "code",
   "execution_count": 1,
   "metadata": {},
   "outputs": [],
   "source": [
    "from glob import glob\n",
    "import numpy as np\n",
    "import cv2\n",
    "import matplotlib.pyplot as plt\n",
    "from pyometiff import OMETIFFReader\n",
    "import tifffile\n",
    "import skimage\n",
    "import os\n",
    "\n",
    "import scipy"
   ]
  },
  {
   "cell_type": "code",
   "execution_count": 2,
   "metadata": {},
   "outputs": [],
   "source": [
    "import warnings\n",
    "warnings.filterwarnings('ignore')\n",
    "\n",
    "import json"
   ]
  },
  {
   "cell_type": "code",
   "execution_count": 3,
   "metadata": {},
   "outputs": [],
   "source": [
    "root2 = glob(\"E:/Time_lapses/230531/kuvasarja_8/Pos0/*.txt\")"
   ]
  },
  {
   "cell_type": "code",
   "execution_count": 4,
   "metadata": {},
   "outputs": [
    {
     "data": {
      "text/plain": [
       "'E:/Time_lapses/230531/kuvasarja_8/Pos0\\\\metadata.txt'"
      ]
     },
     "execution_count": 4,
     "metadata": {},
     "output_type": "execute_result"
    }
   ],
   "source": [
    "root2[0]"
   ]
  },
  {
   "cell_type": "code",
   "execution_count": 5,
   "metadata": {},
   "outputs": [],
   "source": [
    "# Opening JSON file\n",
    "f = open(root2[0])\n",
    "  \n",
    "# returns JSON object as \n",
    "# a dictionary\n",
    "data = json.load(f)"
   ]
  },
  {
   "cell_type": "code",
   "execution_count": 6,
   "metadata": {},
   "outputs": [
    {
     "data": {
      "text/plain": [
       "array([1, 2, 3, 1, 2, 3])"
      ]
     },
     "execution_count": 6,
     "metadata": {},
     "output_type": "execute_result"
    }
   ],
   "source": [
    "x = 1; y = 2\n",
    "z =3\n",
    "\n",
    "stacker = np.stack([x,y,z])\n",
    "stacker = np.stack([stacker, np.stack([x,y,z])], axis = 0)\n",
    "np.concatenate(stacker, axis = 0)"
   ]
  },
  {
   "cell_type": "code",
   "execution_count": 7,
   "metadata": {},
   "outputs": [
    {
     "data": {
      "text/plain": [
       "{'HamamatsuHam_DCAM-TRIGGER SOURCE': 'INTERNAL',\n",
       " 'HamamatsuHam_DCAM-INTERNAL LINE SPEED': '1.3353',\n",
       " 'Core-Focus': 'Focus',\n",
       " 'Channel': 'Refl-Dic',\n",
       " 'Core-Initialize': '1',\n",
       " 'HamamatsuHam_DCAM-OUTPUT TRIGGER SOURCE[1]': 'READOUT END',\n",
       " 'Focus-Load Position': '0',\n",
       " 'FrameIndex': 0,\n",
       " 'HamamatsuHam_DCAM-PixelType': '16bit',\n",
       " 'HamamatsuHam_DCAM-CONVERSION FACTOR COEFF': '0.2100',\n",
       " 'HamamatsuHam_DCAM-OUTPUT TRIGGER KIND[1]': 'LOW',\n",
       " 'HamamatsuHam_DCAM-OUTPUT TRIGGER POLARITY[1]': 'NEGATIVE',\n",
       " 'ROI': '0-0-2304-2304',\n",
       " 'Focus-Position': '434.4750',\n",
       " 'Camera': '',\n",
       " 'HamamatsuHam_DCAM-OUTPUT TRIGGER SOURCE[2]': 'READOUT END',\n",
       " 'HamamatsuHam_DCAM-TRIGGER ACTIVE': 'EDGE',\n",
       " 'ZeissSidePortTurret-Description': 'Zeiss SidePort Turret adapter',\n",
       " 'Core-ImageProcessor': '',\n",
       " 'ZeissObjectives-Label': 'x20',\n",
       " 'HamamatsuHam_DCAM-ReadoutTime': '0.0316',\n",
       " 'HamamatsuHam_DCAM-INTERNAL LINE SPEED UNITS': 'METERS PER SECOND',\n",
       " 'SlicePosition': -70,\n",
       " 'HamamatsuHam_DCAM-Module Version': '19.12.642.5902',\n",
       " 'HamamatsuHam_DCAM-Bits per Channel': '16',\n",
       " 'Exposure-ms': 500,\n",
       " 'ZeissScope-Description': 'Zeiss microscope CAN bus adapter',\n",
       " 'ZeissShutter-Description': 'Shutter',\n",
       " 'HamamatsuHam_DCAM-OUTPUT TRIGGER KIND[0]': 'LOW',\n",
       " 'HamamatsuHam_DCAM-OUTPUT TRIGGER POLARITY[2]': 'NEGATIVE',\n",
       " 'HamamatsuHam_DCAM-Camera Bus': 'USB3',\n",
       " 'HamamatsuHam_DCAM-CCDTemperature': '-1.0000',\n",
       " 'Core-AutoShutter': '0',\n",
       " 'NextFrame': 0,\n",
       " 'Core-XYStage': '',\n",
       " 'HamamatsuHam_DCAM-OUTPUT TRIGGER DELAY[2]': '0.0000',\n",
       " 'ZeissSidePortTurret-Label': 'shared',\n",
       " 'AxisPositions': None,\n",
       " 'HamamatsuHam_DCAM-EXPOSURE TIME UNITS': 'MILLISECONDS',\n",
       " 'HamamatsuHam_DCAM-OUTPUT TRIGGER DELAY UNITS': 'SECONDS',\n",
       " 'ZeissScope-Port': 'COM3',\n",
       " 'HamamatsuHam_DCAM-READOUT DIRECTION': 'FORWARD',\n",
       " 'Time': '2023-05-30 12:14:06 +0300',\n",
       " 'ZeissTubelens-State': '0',\n",
       " 'ZeissScope-Name': 'ZeissScope',\n",
       " 'HamamatsuHam_DCAM-TransposeXY': '0',\n",
       " 'ZeissHalogenLamp-Description': 'HalogenLamp',\n",
       " 'HamamatsuHam_DCAM-CONVERSION FACTOR OFFSET': '100.0000',\n",
       " 'ZeissObjectives-Description': 'Zeiss Objective Turret adapter',\n",
       " 'HamamatsuHam_DCAM-ScanMode': '3',\n",
       " 'Focus-Name': 'Focus',\n",
       " 'Core-AutoFocus': '',\n",
       " 'HamamatsuHam_DCAM-TriggerPolarity': 'NEGATIVE',\n",
       " 'ZeissSidePortTurret-State': '1',\n",
       " 'HamamatsuHam_DCAM-MINIMUM ACQUISITION TIMEOUT': '60000',\n",
       " 'Focus-Description': 'Z-drive',\n",
       " 'HamamatsuHam_DCAM-TransposeCorrection': '0',\n",
       " 'HamamatsuHam_DCAM-CameraID': 'S/N: 001926',\n",
       " 'BitDepth': 16,\n",
       " 'Slice': 0,\n",
       " 'HamamatsuHam_DCAM-OUTPUT TRIGGER SOURCE[0]': 'READOUT END',\n",
       " 'ZeissHalogenLamp-Intensity': '104',\n",
       " 'COM3-AnswerTimeout': '2000.0000',\n",
       " 'HamamatsuHam_DCAM-TRIGGER GLOBAL EXPOSURE': 'DELAYED',\n",
       " 'ZeissShutter-External-Internal Shutter': 'Internal',\n",
       " 'HamamatsuHam_DCAM-Camera Version': '1.33',\n",
       " 'ZeissScope-Microscope Version': 'Application version: AV_V3_17',\n",
       " 'HamamatsuHam_DCAM-OUTPUT TRIGGER POLARITY[0]': 'NEGATIVE',\n",
       " 'HamamatsuHam_DCAM-OUTPUT TRIGGER PERIOD[2]': '0.0010',\n",
       " 'HamamatsuHam_DCAM-CameraName': 'C14440-20UP',\n",
       " 'ChannelIndex': 0,\n",
       " 'COM3-Handshaking': 'Off',\n",
       " 'ZeissObjectives-State': '1',\n",
       " 'Core-Shutter': 'ZeissHalogenLamp',\n",
       " 'HamamatsuHam_DCAM-OUTPUT TRIGGER PERIOD[0]': '0.0010',\n",
       " 'UUID': '6afb6d42-7864-4299-8535-88968e9ed50a',\n",
       " 'ZeissReflectorTurret-Name': 'ZeissReflectorTurret',\n",
       " 'Core-Camera': 'HamamatsuHam_DCAM',\n",
       " 'Core-TimeoutMs': '5000',\n",
       " 'Focus-Focus firmware': 'ZM_V2_04',\n",
       " 'Core-SLM': '',\n",
       " 'ZeissHalogenLamp-LightManager': '0',\n",
       " 'HamamatsuHam_DCAM-OUTPUT TRIGGER PERIOD UNITS': 'SECONDS',\n",
       " 'ElapsedTime-ms': 1873,\n",
       " 'HamamatsuHam_DCAM-INTERNAL LINE INTERVAL UNITS': 'MILLISECONDS',\n",
       " 'HamamatsuHam_DCAM-OUTPUT TRIGGER DELAY[0]': '0.0000',\n",
       " 'Frame': 0,\n",
       " 'Core-ChannelGroup': 'Channel',\n",
       " 'PositionIndex': 0,\n",
       " 'HamamatsuHam_DCAM-SENSOR MODE': 'AREA',\n",
       " 'Width': 2304,\n",
       " 'WaitInterval': 0,\n",
       " 'COM3-StopBits': '1',\n",
       " 'PositionName': None,\n",
       " 'ZeissReflectorTurret-State': '0',\n",
       " 'HamamatsuHam_DCAM-OUTPUT TRIGGER PERIOD[1]': '0.0010',\n",
       " 'PixelSizeUm': 0,\n",
       " 'ZeissReflectorTurret-Description': 'Zeiss Reflector Turret adapter',\n",
       " 'ZeissHalogenLamp-Name': 'ZeissHalogenLamp',\n",
       " 'HamamatsuHam_DCAM-DEFECT CORRECT MODE': 'ON',\n",
       " 'HamamatsuHam_DCAM-Name': 'HamamatsuHam_DCAM',\n",
       " 'Height': 2304,\n",
       " 'ZeissShutter-State': '0',\n",
       " 'COM3-Verbose': '1',\n",
       " 'Summary': {'Slices': 15,\n",
       "  'InitialPositionList': None,\n",
       "  'Interval_ms': 900000,\n",
       "  'UUID': 'cb99ae71-8ca7-44bd-b62c-3d2e6ce7b061',\n",
       "  'UserName': 'JPokki',\n",
       "  'Depth': 2,\n",
       "  'PixelType': 'GRAY16',\n",
       "  'Time': '2023-05-30 12:14:06 +0300',\n",
       "  'Date': '2023-05-30',\n",
       "  'z-step_um': 10,\n",
       "  'MetadataVersion': 10,\n",
       "  'PositionIndex': 0,\n",
       "  'SlicesFirst': True,\n",
       "  'ChContrastMin': [0, 0],\n",
       "  'Width': 2304,\n",
       "  'PixelAspect': 1,\n",
       "  'MicroManagerVersion': '1.4.21',\n",
       "  'ROI': [0, 0, 2304, 2304],\n",
       "  'ChNames': ['Refl-Dic', 'TexasRed'],\n",
       "  'IJType': 1,\n",
       "  'GridRow': 0,\n",
       "  'Comment': '',\n",
       "  'Height': 2304,\n",
       "  'GridColumn': 0,\n",
       "  'Prefix': 'kuvasarja_8',\n",
       "  'PixelSize_um': 0,\n",
       "  'Frames': 80,\n",
       "  'BitDepth': 16,\n",
       "  'KeepShutterOpenChannels': False,\n",
       "  'Source': 'Micro-Manager',\n",
       "  'Channels': 2,\n",
       "  'ComputerName': 'JPokki-PC',\n",
       "  'CustomIntervals_ms': [],\n",
       "  'KeepShutterOpenSlices': False,\n",
       "  'ChColors': [-1, -1],\n",
       "  'TimeFirst': False,\n",
       "  'ChContrastMax': [65536, 65536],\n",
       "  'Positions': 1,\n",
       "  'Directory': 'C:\\\\Users\\\\JPokki\\\\Documents\\\\salatiedostot\\\\230522\\\\230529_trial2'},\n",
       " 'HamamatsuHam_DCAM-Driver Version': '1.2.6.5902',\n",
       " 'Source': 'HamamatsuHam_DCAM',\n",
       " 'HamamatsuHam_DCAM-TRIGGER DELAY': '0.0000',\n",
       " 'HamamatsuHam_DCAM-OUTPUT TRIGGER DELAY[1]': '0.0000',\n",
       " 'COM3-Name': 'COM3',\n",
       " 'ZeissObjectives-Name': 'ZeissObjectives',\n",
       " 'HamamatsuHam_DCAM-EXPOSURE FULL RANGE': 'DISABLE',\n",
       " 'HamamatsuHam_DCAM-OUTPUT TRIGGER KIND[2]': 'LOW',\n",
       " 'COM3-DataBits': '8',\n",
       " 'HamamatsuHam_DCAM-Binning': '1x1',\n",
       " 'ZeissTubelens-Description': 'Zeiss Tubelens Turret adapter',\n",
       " 'Binning': '1x1',\n",
       " 'HamamatsuHam_DCAM-OUTPUT TRIGGER PRE HSYNC COUNT': '0',\n",
       " 'ZeissShutter-Name': 'ZeissShutter',\n",
       " 'COM3-DelayBetweenCharsMs': '0.0000',\n",
       " 'PixelType': 'GRAY16',\n",
       " 'HamamatsuHam_DCAM-Exposure': '500.00',\n",
       " 'ZeissHalogenLamp-State': '1',\n",
       " 'ZeissShutter-ZeissShutterNr': '1',\n",
       " 'COM3-Description': 'Serial port driver (boost:asio)',\n",
       " 'YPositionUm': None,\n",
       " 'HamamatsuHam_DCAM-Trigger': 'NORMAL',\n",
       " 'COM3-Parity': 'None',\n",
       " 'HamamatsuHam_DCAM-Description': 'Hamamatsu device adapter 1.8.12.51',\n",
       " 'HamamatsuHam_DCAM-TransposeMirrorX': '0',\n",
       " 'HamamatsuHam_DCAM-TransposeMirrorY': '0',\n",
       " 'XPositionUm': None,\n",
       " 'ZeissReflectorTurret-Label': 'Refl-DIC',\n",
       " 'HamamatsuHam_DCAM-TRIGGER TIMES': '1',\n",
       " 'HamamatsuHam_DCAM-INTERNAL LINE INTERVAL': '0.0049',\n",
       " 'FileName': 'img_000000000_Refl-Dic_000.tif',\n",
       " 'Core-Galvo': '',\n",
       " 'ZeissSidePortTurret-Name': 'ZeissSidePortTurret',\n",
       " 'COM3-BaudRate': '9600',\n",
       " 'Position': 'Default',\n",
       " 'ZeissTubelens-Label': 'x1',\n",
       " 'ZeissTubelens-Name': 'ZeissTubelens',\n",
       " 'CameraChannelIndex': 0,\n",
       " 'SliceIndex': 0,\n",
       " 'ZPositionUm': 364.475}"
      ]
     },
     "execution_count": 7,
     "metadata": {},
     "output_type": "execute_result"
    }
   ],
   "source": [
    "data[\"FrameKey-0-0-0\"]"
   ]
  },
  {
   "cell_type": "code",
   "execution_count": 230,
   "metadata": {},
   "outputs": [
    {
     "data": {
      "text/plain": [
       "{'Slices': 15,\n",
       " 'InitialPositionList': None,\n",
       " 'Interval_ms': 900000,\n",
       " 'UUID': 'cb99ae71-8ca7-44bd-b62c-3d2e6ce7b061',\n",
       " 'UserName': 'JPokki',\n",
       " 'Depth': 2,\n",
       " 'PixelType': 'GRAY16',\n",
       " 'Time': '2023-05-30 12:14:06 +0300',\n",
       " 'Date': '2023-05-30',\n",
       " 'z-step_um': 10,\n",
       " 'MetadataVersion': 10,\n",
       " 'PositionIndex': 0,\n",
       " 'SlicesFirst': True,\n",
       " 'ChContrastMin': [0, 0],\n",
       " 'Width': 2304,\n",
       " 'PixelAspect': 1,\n",
       " 'MicroManagerVersion': '1.4.21',\n",
       " 'ROI': [0, 0, 2304, 2304],\n",
       " 'ChNames': ['Refl-Dic', 'TexasRed'],\n",
       " 'IJType': 1,\n",
       " 'GridRow': 0,\n",
       " 'Comment': '',\n",
       " 'Height': 2304,\n",
       " 'GridColumn': 0,\n",
       " 'Prefix': 'kuvasarja_8',\n",
       " 'PixelSize_um': 0,\n",
       " 'Frames': 80,\n",
       " 'BitDepth': 16,\n",
       " 'KeepShutterOpenChannels': False,\n",
       " 'Source': 'Micro-Manager',\n",
       " 'Channels': 2,\n",
       " 'ComputerName': 'JPokki-PC',\n",
       " 'CustomIntervals_ms': [],\n",
       " 'KeepShutterOpenSlices': False,\n",
       " 'ChColors': [-1, -1],\n",
       " 'TimeFirst': False,\n",
       " 'ChContrastMax': [65536, 65536],\n",
       " 'Positions': 1,\n",
       " 'Directory': 'C:\\\\Users\\\\JPokki\\\\Documents\\\\salatiedostot\\\\230522\\\\230529_trial2'}"
      ]
     },
     "execution_count": 230,
     "metadata": {},
     "output_type": "execute_result"
    }
   ],
   "source": [
    "data[\"Summary\"]"
   ]
  },
  {
   "cell_type": "code",
   "execution_count": 134,
   "metadata": {},
   "outputs": [],
   "source": [
    "root = glob(\"E:/Time_lapses/230531/kuvasarja_8/Pos0/*.tif\")"
   ]
  },
  {
   "cell_type": "code",
   "execution_count": 135,
   "metadata": {
    "scrolled": true
   },
   "outputs": [
    {
     "data": {
      "text/plain": [
       "2400"
      ]
     },
     "execution_count": 135,
     "metadata": {},
     "output_type": "execute_result"
    }
   ],
   "source": [
    "len(root)"
   ]
  },
  {
   "cell_type": "code",
   "execution_count": 18,
   "metadata": {},
   "outputs": [
    {
     "data": {
      "text/plain": [
       "0"
      ]
     },
     "execution_count": 18,
     "metadata": {},
     "output_type": "execute_result"
    }
   ],
   "source": [
    "parts = os.path.split(root[0])[1].split(\"_\")\n",
    "# name, time, channel, running \n",
    "int(parts[3][:-4])"
   ]
  },
  {
   "cell_type": "code",
   "execution_count": 137,
   "metadata": {},
   "outputs": [],
   "source": [
    "level = 2\n",
    "chan = \"TexasRed\"\n",
    "\n",
    "for level in np.arange(0,14):\n",
    "    fourcc = cv2.VideoWriter_fourcc('F','F','V','1')\n",
    "    out = cv2.VideoWriter(\"video_{}_{}.avi\".format(chan, level), cv2.VideoWriter_fourcc(*'MJPG'), 10, (2304,2304))\n",
    "\n",
    "    for j in np.arange(len(root)): #len(root)\n",
    "        parts = os.path.split(root[j])[1].split(\"_\")\n",
    "        time = parts[1]\n",
    "        channel = parts[2]\n",
    "        running = int(parts[3][:-4])\n",
    "\n",
    "        if (running == level) & (chan == channel):\n",
    "            frame = cv2.imread(root[j])#/256).astype('uint8')\n",
    "\n",
    "            out.write(frame)\n",
    "\n",
    "            # Displaying the image\n",
    "\n",
    "            cv2.imshow(\"main\", cv2.resize(frame,(512,512)))\n",
    "            k = cv2.waitKey(1); \n",
    "            if k == 'q':\n",
    "                cv2.destroyAllWindows()\n",
    "\n",
    "    out.release()        \n",
    "    cv2.destroyAllWindows()\n",
    "\n"
   ]
  },
  {
   "cell_type": "code",
   "execution_count": null,
   "metadata": {},
   "outputs": [],
   "source": []
  },
  {
   "cell_type": "code",
   "execution_count": 21,
   "metadata": {},
   "outputs": [],
   "source": [
    "num = 8\n",
    "fourcc = cv2.VideoWriter_fourcc('F','F','V','1')\n",
    "out = cv2.VideoWriter('test_1.avi', cv2.VideoWriter_fourcc(*'MJPG'), 10, (2304,2304))\n",
    "\n",
    "for j in np.arange(0,int(len(root)/15)): #len(root)\n",
    "    \n",
    "    frame = cv2.imread(root[int(num + j*15)])#/256).astype('uint8')\n",
    "\n",
    "    out.write(frame)\n",
    "\n",
    "    # Displaying the image\n",
    "\n",
    "    cv2.imshow(\"main\", cv2.resize(frame,(512,512)))\n",
    "    k = cv2.waitKey(1); \n",
    "    if k == 'q':\n",
    "        cv2.destroyAllWindows()\n",
    "        \n",
    "out.release()        \n",
    "cv2.destroyAllWindows()\n",
    "\n"
   ]
  },
  {
   "cell_type": "code",
   "execution_count": 94,
   "metadata": {},
   "outputs": [],
   "source": [
    "cv2.destroyAllWindows()"
   ]
  },
  {
   "cell_type": "code",
   "execution_count": 17,
   "metadata": {},
   "outputs": [],
   "source": [
    "import _pickle as cPickle\n",
    "from UnetTracker import *"
   ]
  },
  {
   "cell_type": "code",
   "execution_count": 19,
   "metadata": {},
   "outputs": [
    {
     "ename": "ModuleNotFoundError",
     "evalue": "No module named 'tools.MTT'",
     "output_type": "error",
     "traceback": [
      "\u001b[1;31m---------------------------------------------------------------------------\u001b[0m",
      "\u001b[1;31mModuleNotFoundError\u001b[0m                       Traceback (most recent call last)",
      "\u001b[1;32m<ipython-input-19-440852db1542>\u001b[0m in \u001b[0;36m<module>\u001b[1;34m\u001b[0m\n\u001b[0;32m      2\u001b[0m \u001b[1;33m\u001b[0m\u001b[0m\n\u001b[0;32m      3\u001b[0m \u001b[1;32mwith\u001b[0m \u001b[0mopen\u001b[0m\u001b[1;33m(\u001b[0m\u001b[0mresultsFile\u001b[0m\u001b[1;33m,\u001b[0m \u001b[1;34m\"rb\"\u001b[0m\u001b[1;33m)\u001b[0m \u001b[1;32mas\u001b[0m \u001b[0minput_file\u001b[0m\u001b[1;33m:\u001b[0m\u001b[1;33m\u001b[0m\u001b[1;33m\u001b[0m\u001b[0m\n\u001b[1;32m----> 4\u001b[1;33m     \u001b[0mData\u001b[0m \u001b[1;33m=\u001b[0m \u001b[0mcPickle\u001b[0m\u001b[1;33m.\u001b[0m\u001b[0mload\u001b[0m\u001b[1;33m(\u001b[0m\u001b[0minput_file\u001b[0m\u001b[1;33m)\u001b[0m\u001b[1;33m\u001b[0m\u001b[1;33m\u001b[0m\u001b[0m\n\u001b[0m",
      "\u001b[1;31mModuleNotFoundError\u001b[0m: No module named 'tools.MTT'"
     ]
    }
   ],
   "source": [
    "resultsFile = \"E:/Time_lapses/230531/kuvasarja_8/Pos0/results/trackerOutput.pickle\"\n",
    "\n",
    "with open(resultsFile, \"rb\") as input_file:\n",
    "    Data = cPickle.load(input_file)\n"
   ]
  },
  {
   "cell_type": "code",
   "execution_count": null,
   "metadata": {},
   "outputs": [],
   "source": []
  },
  {
   "cell_type": "code",
   "execution_count": null,
   "metadata": {},
   "outputs": [],
   "source": []
  },
  {
   "cell_type": "code",
   "execution_count": null,
   "metadata": {},
   "outputs": [],
   "source": []
  },
  {
   "cell_type": "code",
   "execution_count": null,
   "metadata": {},
   "outputs": [],
   "source": []
  },
  {
   "cell_type": "code",
   "execution_count": 62,
   "metadata": {},
   "outputs": [
    {
     "data": {
      "image/png": "[encoded data removed]",
      "text/plain": [
       "<Figure size 432x288 with 4 Axes>"
      ]
     },
     "metadata": {
      "needs_background": "light"
     },
     "output_type": "display_data"
    }
   ],
   "source": [
    "# Contrast stretching\n",
    "p2, p98 = np.percentile(img, (50, 99))\n",
    "img_rescale = skimage.exposure.rescale_intensity(imgGray, in_range=(p2, p98))\n",
    "\n",
    "# Equalization\n",
    "img_eq = skimage.exposure.equalize_hist(imgGray)\n",
    "logarithmic_corrected = skimage.exposure.adjust_log(img_rescale, 0.1)\n",
    "\n",
    "# Adaptive Equalization\n",
    "img_adapteq = skimage.exposure.equalize_adapthist(imgGray, clip_limit=0.005)\n",
    "gamma_corrected = skimage.exposure.adjust_gamma(img_rescale, 0.5)\n",
    "\n",
    "\n",
    "\n",
    "fig, ax = plt.subplots(2, 2)\n",
    "\n",
    "ax[0,0].imshow(gamma_corrected)\n",
    "ax[0,0].set_title('Gamma corrected image')\n",
    "\n",
    "ax[0,1].imshow(img_rescale)\n",
    "ax[0,1].set_title('Contrast stretching')\n",
    "\n",
    "ax[1,0].imshow(logarithmic_corrected)\n",
    "ax[1,0].set_title('Histogram equalization')\n",
    "\n",
    "ax[1,1].imshow(img_adapteq)\n",
    "ax[1,1].set_title('Adaptive equalization')\n",
    "\n",
    "\n",
    "# prevent overlap of y-axis labels\n",
    "fig.tight_layout()\n",
    "plt.show()"
   ]
  },
  {
   "cell_type": "code",
   "execution_count": 104,
   "metadata": {
    "scrolled": true
   },
   "outputs": [
    {
     "data": {
      "text/plain": [
       "<matplotlib.image.AxesImage at 0x227899def10>"
      ]
     },
     "execution_count": 104,
     "metadata": {},
     "output_type": "execute_result"
    },
    {
     "data": {
      "image/png": "[encoded data removed]",
      "text/plain": [
       "<Figure size 432x288 with 1 Axes>"
      ]
     },
     "metadata": {
      "needs_background": "light"
     },
     "output_type": "display_data"
    }
   ],
   "source": [
    "result = skimage.exposure.adjust_sigmoid(img_rescale, cutoff = 0.1, gain = 70)\n",
    "plt.imshow(result)"
   ]
  },
  {
   "cell_type": "code",
   "execution_count": 177,
   "metadata": {
    "scrolled": true
   },
   "outputs": [
    {
     "data": {
      "image/png": "[encoded data removed]",
      "text/plain": [
       "<Figure size 432x288 with 1 Axes>"
      ]
     },
     "metadata": {
      "needs_background": "light"
     },
     "output_type": "display_data"
    },
    {
     "data": {
      "image/png": "[encoded data removed]",
      "text/plain": [
       "<Figure size 432x288 with 1 Axes>"
      ]
     },
     "metadata": {
      "needs_background": "light"
     },
     "output_type": "display_data"
    },
    {
     "data": {
      "text/plain": [
       "<matplotlib.image.AxesImage at 0x227dddf5160>"
      ]
     },
     "execution_count": 177,
     "metadata": {},
     "output_type": "execute_result"
    },
    {
     "data": {
      "image/png": "[encoded data removed]",
      "text/plain": [
       "<Figure size 432x288 with 1 Axes>"
      ]
     },
     "metadata": {
      "needs_background": "light"
     },
     "output_type": "display_data"
    }
   ],
   "source": [
    "# Contrast stretching\n",
    "p2, p98 = np.percentile(img, (50, 99))\n",
    "img_rescale = skimage.exposure.rescale_intensity(imgGray, in_range=(p2, p98))\n",
    "logarithmic_corrected = skimage.exposure.adjust_log(img_rescale, 0.1)\n",
    "\n",
    "test = logarithmic_corrected.copy()\n",
    "_ = plt.hist(np.matrix.flatten(test), bins = 100)\n",
    "plt.show()\n",
    "\n",
    "#test[test<5] = 0\n",
    "_ = plt.hist(np.matrix.flatten(test), bins = 100)\n",
    "plt.show()\n",
    "plt.imshow(test)\n"
   ]
  },
  {
   "cell_type": "code",
   "execution_count": 204,
   "metadata": {},
   "outputs": [],
   "source": [
    "def tuneContrast(frame):\n",
    "    \n",
    "    grayscale = skimage.color.rgb2gray(np.stack([frame,frame,frame], axis = -1))\n",
    "    p2, p98 = np.percentile(grayscale, (50, 99))\n",
    "    img_rescale = skimage.exposure.rescale_intensity(grayscale, in_range=(p2, p98))\n",
    "    logarithmic_corrected = skimage.exposure.adjust_log(img_rescale, 0.1)\n",
    "    return logarithmic_corrected\n",
    "\n",
    "def kMeansFunc(frame):\n",
    "    print(frame.shape)\n",
    "    grayscale = skimage.color.rgb2gray(frame)\n",
    "    image_gray= grayscale.reshape(grayscale.shape[0] * grayscale.shape[1], 1)\n",
    "    kmeans = KMeans(n_clusters=3, random_state=0).fit(image_gray)\n",
    "    \n",
    "    return kmeans, grayscale\n",
    "\n",
    "def viz(kmeans, grayscale):\n",
    "    \n",
    "    fig, ax = plt.subplots(1, 3)\n",
    "\n",
    "    clustered = kmeans.cluster_centers_[kmeans.labels_]\n",
    "    labels = kmeans.labels_\n",
    "    \n",
    "    for n in range(3):\n",
    "        image_cluster = []\n",
    "        for i in range(len(labels)):\n",
    "            if(labels[i]) == n:\n",
    "                image_cluster.append(float(clustered[i]))\n",
    "            else:\n",
    "                image_cluster.append(1)\n",
    "        if(n==1):\n",
    "            image_fix= np.array(image_cluster).reshape(grayscale.shape)\n",
    "            \n",
    "        reshape_clustered = np.array(image_cluster).reshape(grayscale.shape)\n",
    "        ax[n].imshow(reshape_clustered, cmap=plt.get_cmap(\"gray\"),vmin=0, vmax=1)\n",
    "\n",
    "    # redraw the canvas\n",
    "    fig.canvas.draw()\n",
    "\n",
    "    # convert canvas to image\n",
    "    img = np.fromstring(fig.canvas.tostring_rgb(), dtype=np.uint8,\n",
    "            sep='')\n",
    "    plt.close()\n",
    "\n",
    "    img  = img.reshape(fig.canvas.get_width_height()[::-1] + (3,))\n",
    "    img = cv2.cvtColor(img,cv2.COLOR_RGB2BGR)\n",
    "\n",
    "    return img\n",
    "\n",
    "    "
   ]
  },
  {
   "cell_type": "code",
   "execution_count": 205,
   "metadata": {},
   "outputs": [],
   "source": [
    "from sklearn.cluster import KMeans\n",
    "from sklearn.utils import shuffle"
   ]
  },
  {
   "cell_type": "code",
   "execution_count": 207,
   "metadata": {},
   "outputs": [
    {
     "name": "stdout",
     "output_type": "stream",
     "text": [
      "(2304, 2304, 3)\n",
      "round done\n",
      "(2304, 2304, 3)\n",
      "round done\n",
      "(2304, 2304, 3)\n",
      "round done\n",
      "(2304, 2304, 3)\n",
      "round done\n",
      "(2304, 2304, 3)\n",
      "round done\n",
      "(2304, 2304, 3)\n",
      "round done\n",
      "(2304, 2304, 3)\n",
      "round done\n",
      "(2304, 2304, 3)\n",
      "round done\n",
      "(2304, 2304, 3)\n",
      "round done\n",
      "(2304, 2304, 3)\n",
      "round done\n",
      "(2304, 2304, 3)\n",
      "round done\n",
      "(2304, 2304, 3)\n",
      "round done\n",
      "(2304, 2304, 3)\n",
      "round done\n",
      "(2304, 2304, 3)\n",
      "round done\n",
      "(2304, 2304, 3)\n",
      "round done\n",
      "(2304, 2304, 3)\n",
      "round done\n",
      "(2304, 2304, 3)\n",
      "round done\n",
      "(2304, 2304, 3)\n",
      "round done\n",
      "(2304, 2304, 3)\n",
      "round done\n",
      "(2304, 2304, 3)\n",
      "round done\n",
      "(2304, 2304, 3)\n",
      "round done\n",
      "(2304, 2304, 3)\n",
      "round done\n",
      "(2304, 2304, 3)\n",
      "round done\n",
      "(2304, 2304, 3)\n",
      "round done\n",
      "(2304, 2304, 3)\n",
      "round done\n",
      "(2304, 2304, 3)\n",
      "round done\n",
      "(2304, 2304, 3)\n",
      "round done\n",
      "(2304, 2304, 3)\n",
      "round done\n",
      "(2304, 2304, 3)\n",
      "round done\n",
      "(2304, 2304, 3)\n",
      "round done\n",
      "(2304, 2304, 3)\n",
      "round done\n",
      "(2304, 2304, 3)\n",
      "round done\n",
      "(2304, 2304, 3)\n",
      "round done\n",
      "(2304, 2304, 3)\n",
      "round done\n",
      "(2304, 2304, 3)\n",
      "round done\n",
      "(2304, 2304, 3)\n",
      "round done\n",
      "(2304, 2304, 3)\n",
      "round done\n",
      "(2304, 2304, 3)\n",
      "round done\n",
      "(2304, 2304, 3)\n",
      "round done\n",
      "(2304, 2304, 3)\n",
      "round done\n",
      "(2304, 2304, 3)\n",
      "round done\n",
      "(2304, 2304, 3)\n",
      "round done\n",
      "(2304, 2304, 3)\n",
      "round done\n",
      "(2304, 2304, 3)\n",
      "round done\n",
      "(2304, 2304, 3)\n",
      "round done\n",
      "(2304, 2304, 3)\n",
      "round done\n",
      "(2304, 2304, 3)\n",
      "round done\n",
      "(2304, 2304, 3)\n",
      "round done\n",
      "(2304, 2304, 3)\n",
      "round done\n",
      "(2304, 2304, 3)\n",
      "round done\n",
      "(2304, 2304, 3)\n",
      "round done\n",
      "(2304, 2304, 3)\n",
      "round done\n"
     ]
    }
   ],
   "source": [
    "path = \"C:/Users/lehtona6/projects/work/instru_project-main/Videos/video_TexasRed_8.avi\"\n",
    "\n",
    "cap = cv2.VideoCapture(path)\n",
    "\n",
    "save = True\n",
    "\n",
    "if save:\n",
    "    fourcc = cv2.VideoWriter_fourcc('F','F','V','1')\n",
    "    out = cv2.VideoWriter('video_TexasRed_8_2.avi', cv2.VideoWriter_fourcc(*'MJPG'), 10, (512,512)) #(2304,2304))\n",
    "\n",
    "while (cap.isOpened()):\n",
    "    \n",
    "    ret, frame = cap.read()\n",
    "    if ret == False:\n",
    "        break\n",
    "        \n",
    "    img = frame.copy()\n",
    "    \n",
    "    imgTuned = tuneContrast(img)\n",
    "    kmeans, gray = kMeansFunc(imgTuned)\n",
    "    \n",
    "    pltImg = viz(kmeans, gray) \n",
    "\n",
    "        \n",
    "    # Displaying the image\n",
    "    cv2.imshow(\"main\", cv2.resize(pltImg,(512,512)))\n",
    "    k = cv2.waitKey(1); \n",
    "    if k == 'q':\n",
    "        cv2.destroyAllWindows()\n",
    "        \n",
    "        \n",
    "    if save:\n",
    "        out.write( cv2.resize(pltImg,(512,512)))\n",
    "    \n",
    "    print(\"round done\")\n",
    "        \n",
    "cap.release()   \n",
    "out.release() \n",
    "cv2.destroyAllWindows()\n"
   ]
  },
  {
   "cell_type": "code",
   "execution_count": 193,
   "metadata": {},
   "outputs": [],
   "source": [
    "cv2.destroyAllWindows()\n"
   ]
  },
  {
   "cell_type": "code",
   "execution_count": 199,
   "metadata": {},
   "outputs": [
    {
     "data": {
      "text/plain": [
       "<matplotlib.image.AxesImage at 0x228005a2a30>"
      ]
     },
     "execution_count": 199,
     "metadata": {},
     "output_type": "execute_result"
    },
    {
     "data": {
      "image/png": "[encoded data removed]",
      "text/plain": [
       "<Figure size 432x288 with 1 Axes>"
      ]
     },
     "metadata": {
      "needs_background": "light"
     },
     "output_type": "display_data"
    }
   ],
   "source": [
    "tes"
   ]
  },
  {
   "cell_type": "code",
   "execution_count": 175,
   "metadata": {},
   "outputs": [],
   "source": [
    "p2, p98 = np.percentile(img, (50, 99))\n",
    "img_rescale = skimage.exposure.rescale_intensity(imgGray, in_range=(p2, p98))\n",
    "logarithmic_corrected = skimage.exposure.adjust_log(img_rescale, 0.1)\n",
    "\n",
    "test = logarithmic_corrected.copy()"
   ]
  },
  {
   "cell_type": "code",
   "execution_count": 176,
   "metadata": {},
   "outputs": [
    {
     "data": {
      "image/png": "[encoded data removed]",
      "text/plain": [
       "<Figure size 432x288 with 1 Axes>"
      ]
     },
     "metadata": {
      "needs_background": "light"
     },
     "output_type": "display_data"
    },
    {
     "data": {
      "image/png": "[encoded data removed]",
      "text/plain": [
       "<Figure size 432x288 with 1 Axes>"
      ]
     },
     "metadata": {
      "needs_background": "light"
     },
     "output_type": "display_data"
    },
    {
     "data": {
      "image/png": "[encoded data removed]",
      "text/plain": [
       "<Figure size 432x288 with 1 Axes>"
      ]
     },
     "metadata": {
      "needs_background": "light"
     },
     "output_type": "display_data"
    }
   ],
   "source": [
    "grayscale = skimage.color.rgb2gray(np.stack([test,test,test], axis = -1))\n",
    "image_gray= grayscale.reshape(grayscale.shape[0] * grayscale.shape[1], 1)\n",
    "\n",
    "kmeans = KMeans(n_clusters=3, random_state=0).fit(image_gray)\n",
    "\n",
    "clustered = kmeans.cluster_centers_[kmeans.labels_]\n",
    "labels = kmeans.labels_\n",
    "for n in range(3):\n",
    "    image_cluster = []\n",
    "    for i in range(len(labels)):\n",
    "        if(labels[i]) == n:\n",
    "            image_cluster.append(float(clustered[i]))\n",
    "        else:\n",
    "            image_cluster.append(1)\n",
    "    if(n==1):\n",
    "        image_fix= np.array(image_cluster).reshape(grayscale.shape)\n",
    "    reshape_clustered = np.array(image_cluster).reshape(grayscale.shape)\n",
    "    plt.imshow(reshape_clustered, cmap=plt.get_cmap(\"gray\"),vmin=0, vmax=1)\n",
    "    plt.show()\n"
   ]
  },
  {
   "cell_type": "code",
   "execution_count": 174,
   "metadata": {},
   "outputs": [
    {
     "data": {
      "image/png": "[encoded data removed]",
      "text/plain": [
       "<Figure size 432x288 with 1 Axes>"
      ]
     },
     "metadata": {
      "needs_background": "light"
     },
     "output_type": "display_data"
    },
    {
     "data": {
      "image/png": "[encoded data removed]",
      "text/plain": [
       "<Figure size 432x288 with 1 Axes>"
      ]
     },
     "metadata": {
      "needs_background": "light"
     },
     "output_type": "display_data"
    },
    {
     "data": {
      "image/png": "[encoded data removed]",
      "text/plain": [
       "<Figure size 432x288 with 1 Axes>"
      ]
     },
     "metadata": {
      "needs_background": "light"
     },
     "output_type": "display_data"
    }
   ],
   "source": [
    "grayscale = skimage.color.rgb2gray(img)\n",
    "image_gray= grayscale.reshape(grayscale.shape[0] * grayscale.shape[1], 1)\n",
    "\n",
    "kmeans = KMeans(n_clusters=3, random_state=0).fit(image_gray)\n",
    "\n",
    "clustered = kmeans.cluster_centers_[kmeans.labels_]\n",
    "labels = kmeans.labels_\n",
    "for n in range(3):\n",
    "    image_cluster = []\n",
    "    for i in range(len(labels)):\n",
    "        if(labels[i]) == n:\n",
    "            image_cluster.append(float(clustered[i]))\n",
    "        else:\n",
    "            image_cluster.append(1)\n",
    "    if(n==1):\n",
    "        image_fix= np.array(image_cluster).reshape(grayscale.shape)\n",
    "    reshape_clustered = np.array(image_cluster).reshape(grayscale.shape)\n",
    "    plt.imshow(reshape_clustered, cmap=plt.get_cmap(\"gray\"),vmin=0, vmax=1)\n",
    "    plt.show()\n"
   ]
  },
  {
   "cell_type": "code",
   "execution_count": 99,
   "metadata": {},
   "outputs": [],
   "source": [
    "element = 32\n",
    "ntiles_x = element \n",
    "ntiles_y = element\n",
    "kernelsize = (np.round(imgGray.shape[0] / ntiles_y), \n",
    "            np.round(imgGray.shape[1] / ntiles_x)) "
   ]
  },
  {
   "cell_type": "code",
   "execution_count": 115,
   "metadata": {},
   "outputs": [
    {
     "data": {
      "text/plain": [
       "<matplotlib.image.AxesImage at 0x22799aaaa90>"
      ]
     },
     "execution_count": 115,
     "metadata": {},
     "output_type": "execute_result"
    },
    {
     "data": {
      "image/png": "[encoded data removed]",
      "text/plain": [
       "<Figure size 432x288 with 1 Axes>"
      ]
     },
     "metadata": {
      "needs_background": "light"
     },
     "output_type": "display_data"
    }
   ],
   "source": [
    "result =skimage.exposure.equalize_adapthist(imgGray, kernel_size = kernelsize, clip_limit=0.05)\n",
    "result = skimage.exposure.adjust_sigmoid(result, cutoff = 0.1, gain = 20)\n",
    "plt.imshow(result)"
   ]
  },
  {
   "cell_type": "code",
   "execution_count": 3,
   "metadata": {},
   "outputs": [],
   "source": [
    "path = \"C:/Users/lehtona6/projects/work/instru_project-main/Videos/video_TexasRed_8.avi\"\n"
   ]
  },
  {
   "cell_type": "code",
   "execution_count": 116,
   "metadata": {},
   "outputs": [],
   "source": [
    "cap = cv2.VideoCapture(path)\n",
    "\n",
    "save = False\n",
    "\n",
    "if save:\n",
    "    fourcc = cv2.VideoWriter_fourcc('F','F','V','1')\n",
    "    out = cv2.VideoWriter('video_TexasRed_8_2.avi', cv2.VideoWriter_fourcc(*'MJPG'), 10, (2304,2304))\n",
    "\n",
    "while (cap.isOpened()):\n",
    "    \n",
    "    ret, frame = cap.read()\n",
    "    if ret == False:\n",
    "        break\n",
    "        \n",
    "    img = frame.copy()\n",
    "    imgGray = cv2.cvtColor(img, cv2.COLOR_BGR2GRAY)\n",
    "    \n",
    "    ret,th = cv2.threshold(imgGray,0,255,cv2.THRESH_BINARY+cv2.THRESH_OTSU)\n",
    "\n",
    "    if save:\n",
    "        out.write(frame)\n",
    "\n",
    "    # Displaying the image\n",
    "\n",
    "    cv2.imshow(\"main\", cv2.resize(th,(512,512)))\n",
    "    k = cv2.waitKey(1); \n",
    "    if k == 'q':\n",
    "        cv2.destroyAllWindows()\n",
    "        \n",
    "cap.release()        \n",
    "cv2.destroyAllWindows()\n"
   ]
  },
  {
   "cell_type": "code",
   "execution_count": 26,
   "metadata": {},
   "outputs": [
    {
     "data": {
      "text/plain": [
       "<function destroyAllWindows>"
      ]
     },
     "execution_count": 26,
     "metadata": {},
     "output_type": "execute_result"
    }
   ],
   "source": [
    "cv2.destroyAllWindows"
   ]
  },
  {
   "cell_type": "code",
   "execution_count": 20,
   "metadata": {
    "scrolled": true
   },
   "outputs": [
    {
     "name": "stdout",
     "output_type": "stream",
     "text": [
      "1\n",
      "2\n",
      "3\n",
      "4\n",
      "5\n",
      "6\n",
      "7\n",
      "8\n",
      "9\n",
      "10\n",
      "11\n",
      "12\n",
      "13\n",
      "14\n",
      "15\n",
      "16\n",
      "17\n",
      "18\n",
      "19\n",
      "20\n",
      "21\n",
      "22\n",
      "23\n",
      "24\n",
      "25\n",
      "26\n",
      "27\n",
      "28\n",
      "29\n",
      "30\n",
      "31\n",
      "32\n",
      "33\n",
      "34\n",
      "35\n",
      "36\n",
      "37\n",
      "38\n",
      "39\n",
      "40\n",
      "41\n",
      "42\n",
      "43\n",
      "44\n",
      "45\n",
      "46\n",
      "47\n",
      "48\n",
      "49\n",
      "50\n",
      "51\n",
      "52\n",
      "53\n",
      "54\n",
      "55\n",
      "56\n",
      "57\n",
      "58\n",
      "59\n",
      "60\n",
      "61\n",
      "62\n",
      "63\n",
      "64\n",
      "65\n",
      "66\n",
      "67\n",
      "68\n",
      "69\n",
      "70\n",
      "71\n",
      "72\n",
      "73\n",
      "74\n",
      "75\n",
      "76\n",
      "77\n",
      "78\n",
      "79\n",
      "80\n",
      "81\n",
      "82\n",
      "83\n",
      "84\n",
      "85\n",
      "86\n",
      "87\n",
      "88\n",
      "89\n",
      "90\n",
      "91\n",
      "92\n",
      "93\n",
      "94\n",
      "95\n",
      "96\n",
      "97\n",
      "98\n",
      "99\n",
      "100\n",
      "101\n",
      "102\n",
      "103\n",
      "104\n",
      "105\n",
      "106\n",
      "107\n",
      "108\n",
      "109\n",
      "110\n",
      "111\n",
      "112\n",
      "113\n",
      "114\n",
      "115\n",
      "116\n",
      "117\n",
      "118\n",
      "119\n",
      "120\n",
      "121\n",
      "122\n",
      "123\n",
      "124\n",
      "125\n",
      "126\n",
      "127\n",
      "128\n",
      "129\n",
      "130\n",
      "131\n",
      "132\n",
      "133\n",
      "134\n",
      "135\n",
      "136\n",
      "137\n",
      "138\n",
      "139\n",
      "140\n",
      "141\n",
      "142\n",
      "143\n",
      "144\n",
      "145\n",
      "146\n",
      "147\n",
      "148\n"
     ]
    }
   ],
   "source": [
    "\n",
    "fourcc = cv2.VideoWriter_fourcc('F','F','V','1')\n",
    "out = cv2.VideoWriter('test_1.avi', cv2.VideoWriter_fourcc(*'MJPG'), 10, (2304,2304))\n",
    "\n",
    "\n",
    "kernel = np.ones((10,10),np.uint8)\n",
    "kernel_2 = np.ones((3,3),np.uint8)\n",
    "kernel_3 = np.ones((5,5),np.uint8)\n",
    "\n",
    "cap = cv2.VideoCapture(path)\n",
    "\n",
    "\n",
    "history = 5  #I've also tried 2,5,20,200\n",
    "varThreshold = 6\n",
    "bShadowDetection = False\n",
    "\n",
    "backSub = cv2.createBackgroundSubtractorKNN(history, varThreshold, bShadowDetection)\n",
    "\n",
    "\n",
    "# Check if camera opened successfully\n",
    "y_col = []\n",
    "x_col = []\n",
    "areas = []\n",
    "\n",
    "threshold = 4000\n",
    "threshold_2 = 50000\n",
    "\n",
    "if (cap.isOpened()== False):\n",
    "    print(\"Error opening video stream or file\")\n",
    "    exit(0)\n",
    "\n",
    "counter = 0\n",
    "\n",
    "while(cap.isOpened()):\n",
    "    ret, frame = cap.read()\n",
    "    if ret == False:\n",
    "        break\n",
    "        \n",
    "    img = frame.copy()\n",
    "    \n",
    "    \n",
    "    imgGray = cv2.cvtColor(img, cv2.COLOR_BGR2GRAY)\n",
    "    fgMask = backSub.apply(imgGray)\n",
    "    \n",
    "    \"\"\"\n",
    "    opening = fgMask\n",
    "    opening = cv2.morphologyEx(opening, cv2.MORPH_OPEN, kernel_2)\n",
    "    opening = cv2.dilate(opening,kernel,iterations = 1)\n",
    "    opening = cv2.morphologyEx(opening, cv2.MORPH_CLOSE, kernel_3)\n",
    "    \"\"\"\n",
    "\n",
    "    opening = fgMask.astype(\"uint8\")\n",
    "    #opening = cv2.morphologyEx(opening, cv2.MORPH_OPEN, kernel_2)\n",
    "    \n",
    "    #opening = skimage.morphology.closing(opening, skimage.morphology.disk(10))\n",
    "    \n",
    "    opening = scipy.ndimage.median_filter(opening, size=15)\n",
    "    e = skimage.morphology.closing(opening, skimage.morphology.disk(10))\n",
    "    \n",
    "    #e2 = skimage.morphology.white_tophat(opening,skimage.morphology.disk(5))\n",
    "    #e2 = skimage.morphology.dilation(e2,skimage.morphology.disk(5))\n",
    "    \n",
    "    tmp = e.astype(\"int\")#-e2.astype(\"int\")\n",
    "    tmp[tmp<0] = 0\n",
    "    tmp = tmp.astype(\"uint8\")\n",
    "    \n",
    "    contours, hierarchy = cv2.findContours(image=tmp, mode=cv2.RETR_TREE, method=cv2.CHAIN_APPROX_NONE)\n",
    "    #x,y,img = find_coordinates(contours, img)\n",
    "    \n",
    "    for i in np.arange(len(contours)):\n",
    "        if (cv2.contourArea(contours[i])>threshold): #& #(cv2.contourArea(contours[i])<threshold_2):\n",
    "            cv2.drawContours(image=img, contours=contours, contourIdx=i, color=(0, 255, 0), thickness=3)\n",
    "     #       areas.append(cv2.contourArea(contours[i]))\n",
    "    #        y_col.append(y[i])\n",
    "    #        x_col.append(x[i])\n",
    "    #        cv2.circle(img, (x_col[-1], y_col[-1]), 10, (255, 255, 255), -1)\n",
    "            #string = \"track\", i\n",
    "            #cv2.putText(img, string, (x_col[-1] - 20, y_col[-1] - 20),\n",
    "            #           cv2.FONT_HERSHEY_SIMPLEX, 0.5, (255, 255, 25), 2)\n",
    "    counter += 1\n",
    "    print(counter)\n",
    "    if counter > history:\n",
    "        out.write(img)\n",
    "        #cv2.imshow('Frame',cv2.resize(img,(520,520)))\n",
    "        #if cv2.waitKey(1) & 0xFF == ord('q'):\n",
    "        #    break\n",
    "        #else:\n",
    "        #    continue\n",
    "\n",
    "cap.release()\n",
    "out.release()\n",
    "#cv2.destroyAllWindows()\n",
    "\n",
    "#y_col = np.array(y_col)\n",
    "#x_col = np.array(x_col)\n",
    "#areas = np.array(areas)"
   ]
  },
  {
   "cell_type": "code",
   "execution_count": 18,
   "metadata": {},
   "outputs": [],
   "source": [
    "cv2.destroyAllWindows()\n"
   ]
  },
  {
   "cell_type": "code",
   "execution_count": 3,
   "metadata": {},
   "outputs": [],
   "source": [
    "path = \"C:/Users/lehtona6/projects/work/instru_project-main/test_1.avi\""
   ]
  },
  {
   "cell_type": "code",
   "execution_count": null,
   "metadata": {},
   "outputs": [],
   "source": [
    "\n",
    "    self.kernel = np.ones((10,10),np.uint8)\n",
    "    self.kernel_2 = np.ones((3,3),np.uint8)\n",
    "    self.kernel_3 = np.ones((5,5),np.uint8)\n",
    "    \n",
    "    self.history = 5\n",
    "    self.varThreshold = 6\n",
    "    \n",
    "    self.x_col = np.array([])\n",
    "    self.y_col = np.array([])\n",
    "    areas = np.array([])\n",
    "\n",
    "def contour(self, frame):\n",
    "    \n",
    "    imgGray = cv2.cvtColor(frame, cv2.COLOR_BGR2GRAY)\n",
    "    \n",
    "    fgMask = skimage.filters.gaussian(imgGray,5)\n",
    "    fgMask = skimage.filters.farid(fgMask)\n",
    "    fgMask = 1-fgMask<99.925e-2\n",
    "    fgMask = fgMask.astype(\"uint8\")\n",
    "    \n",
    "    opening = cv2.morphologyEx(fgMask, cv2.MORPH_OPEN, kernel_2)\n",
    "    opening = skimage.morphology.closing(opening, skimage.morphology.disk(10))\n",
    "    \n",
    "    tmp = opening.astype(\"int\")#-e2.astype(\"int\")\n",
    "    tmp[tmp<0] = 0\n",
    "    tmp = tmp.astype(\"uint8\")\n",
    "    \n",
    "    contours, hierarchy = cv2.findContours(image=tmp, mode=cv2.RETR_TREE, method=cv2.CHAIN_APPROX_NONE)\n",
    "    \n",
    "    if len(contours) > 0:\n",
    "        maxCnt = sorted(contours, key=cv2.contourArea, reverse= True)\n",
    "        maxBoy = maxCnt[0]\n",
    "        cnt = maxBoy\n",
    "        M = cv2.moments(maxBoy)\n",
    "        self.x_col.append(int(M['m10']/M['m00']))\n",
    "        self.y_col.append(int(M['m01']/M['m00']))\n",
    "        self.areas.append(cv2.contourArea(maxCnt[0]))\n",
    "    \n",
    "    cv2.drawContours(image=img, contours=maxCnt, contourIdx=0, color=(0, 255, 0), thickness=3)\n",
    "    \n",
    "    return img"
   ]
  },
  {
   "cell_type": "code",
   "execution_count": 4,
   "metadata": {},
   "outputs": [],
   "source": [
    "# \n",
    "kernel = np.ones((10,10),np.uint8)\n",
    "kernel_2 = np.ones((3,3),np.uint8)\n",
    "kernel_3 = np.ones((5,5),np.uint8)\n",
    "\n",
    "fourcc = cv2.VideoWriter_fourcc('F','F','V','1')\n",
    "out = cv2.VideoWriter('testCnt_3.avi', cv2.VideoWriter_fourcc(*'MJPG'), 10, (2304,2304))\n",
    "\n",
    "\n",
    "cap = cv2.VideoCapture(path)\n",
    "\n",
    "\n",
    "history = 5  #I've also tried 2,5,20,200\n",
    "varThreshold = 6\n",
    "bShadowDetection = False\n",
    "\n",
    "backSub = cv2.createBackgroundSubtractorKNN(history, varThreshold, bShadowDetection)\n",
    "\n",
    "\n",
    "# Check if camera opened successfully\n",
    "y_col = []\n",
    "x_col = []\n",
    "areas = []\n",
    "\n",
    "threshold = 4000\n",
    "threshold_2 = 50000\n",
    "\n",
    "if (cap.isOpened()== False):\n",
    "    print(\"Error opening video stream or file\")\n",
    "    exit(0)\n",
    "\n",
    "counter = 0\n",
    "\n",
    "while(cap.isOpened()):\n",
    "    ret, frame = cap.read()\n",
    "    if ret == False:\n",
    "        break\n",
    "        \n",
    "    img = frame.copy()\n",
    "    \n",
    "    \n",
    "    imgGray = cv2.cvtColor(img, cv2.COLOR_BGR2GRAY)\n",
    "    fgMask = skimage.filters.gaussian(imgGray,5)\n",
    "    fgMask = skimage.filters.farid(fgMask)\n",
    "    \n",
    "    fgMask = 1-fgMask<99.925e-2\n",
    "    opening = fgMask.astype(\"uint8\")\n",
    "    opening = cv2.morphologyEx(opening, cv2.MORPH_OPEN, kernel_2)\n",
    "    \n",
    "    opening = skimage.morphology.closing(opening, skimage.morphology.disk(10))\n",
    "    \n",
    "    tmp = opening.astype(\"int\")#-e2.astype(\"int\")\n",
    "    tmp[tmp<0] = 0\n",
    "    tmp = tmp.astype(\"uint8\")\n",
    "    \n",
    "    contours, hierarchy = cv2.findContours(image=tmp, mode=cv2.RETR_TREE, method=cv2.CHAIN_APPROX_NONE)\n",
    "    #x,y,img = find_coordinates(contours, img)\n",
    "    if len(contours) >0:\n",
    "        maxCnt = sorted(contours, key=cv2.contourArea, reverse= True)\n",
    "        maxBoy = maxCnt[0]\n",
    "        cnt = maxBoy\n",
    "        M = cv2.moments(maxBoy)\n",
    "        x_col.append(int(M['m10']/M['m00']))\n",
    "        y_col.append(int(M['m01']/M['m00']))\n",
    "        areas.append(cv2.contourArea(maxCnt[0]))\n",
    "    \n",
    "    #for i in np.arange(len(contours)):\n",
    "    #    if (cv2.contourArea(contours[i])>threshold): #& #(cv2.contourArea(contours[i])<threshold_2):\n",
    "    cv2.drawContours(image=img, contours=maxCnt, contourIdx=0, color=(0, 255, 0), thickness=3)\n",
    "     #       areas.append(cv2.contourArea(contours[i]))\n",
    "    #        y_col.append(y[i])\n",
    "    #        x_col.append(x[i])\n",
    "    #        cv2.circle(img, (x_col[-1], y_col[-1]), 10, (255, 255, 255), -1)\n",
    "            #string = \"track\", i\n",
    "            #cv2.putText(img, string, (x_col[-1] - 20, y_col[-1] - 20),\n",
    "            #           cv2.FONT_HERSHEY_SIMPLEX, 0.5, (255, 255, 25), 2)\n",
    "    counter += 1\n",
    "    out.write(img)\n",
    "    cv2.imshow('Frame',cv2.resize(img,(520,520)))\n",
    "    if cv2.waitKey(20) & 0xFF == ord('q'):\n",
    "        break\n",
    "    else:\n",
    "        continue\n",
    "\n",
    "cap.release()\n",
    "out.release()\n",
    "cv2.destroyAllWindows()\n",
    "\n",
    "y_col = np.array(y_col)\n",
    "x_col = np.array(x_col)\n",
    "areas = np.array(areas)"
   ]
  },
  {
   "cell_type": "code",
   "execution_count": 22,
   "metadata": {},
   "outputs": [],
   "source": [
    "import scipy\n",
    "import os\n",
    "import skimage"
   ]
  },
  {
   "cell_type": "code",
   "execution_count": 6,
   "metadata": {},
   "outputs": [
    {
     "data": {
      "text/plain": [
       "Text(0, 0.5, 'area (um^2)')"
      ]
     },
     "execution_count": 6,
     "metadata": {},
     "output_type": "execute_result"
    },
    {
     "data": {
      "image/png": "[encoded data removed]",
      "text/plain": [
       "<Figure size 432x288 with 1 Axes>"
      ]
     },
     "metadata": {
      "needs_background": "light"
     },
     "output_type": "display_data"
    }
   ],
   "source": [
    "px = (6.5/(20*0.63))**2\n",
    "plt.plot(np.arange(0,len(areas))*0.25,scipy.ndimage.gaussian_filter1d(areas,20)/(px))\n",
    "plt.xlabel(\"time (hours)\")\n",
    "plt.ylabel(\"area (um^2)\")\n"
   ]
  },
  {
   "cell_type": "code",
   "execution_count": 66,
   "metadata": {},
   "outputs": [
    {
     "name": "stdout",
     "output_type": "stream",
     "text": [
      "(2304, 2304, 3) uint8\n",
      "(2304, 2304, 3) uint8\n",
      "(2304, 2304, 3) uint8\n",
      "(2304, 2304, 3) uint8\n",
      "(2304, 2304, 3) uint8\n",
      "(2304, 2304, 3) uint8\n",
      "(2304, 2304, 3) uint8\n",
      "(2304, 2304, 3) uint8\n",
      "(2304, 2304, 3) uint8\n",
      "(2304, 2304, 3) uint8\n",
      "(2304, 2304, 3) uint8\n",
      "(2304, 2304, 3) uint8\n",
      "(2304, 2304, 3) uint8\n",
      "(2304, 2304, 3) uint8\n",
      "(2304, 2304, 3) uint8\n",
      "(2304, 2304, 3) uint8\n",
      "(2304, 2304, 3) uint8\n",
      "(2304, 2304, 3) uint8\n",
      "(2304, 2304, 3) uint8\n",
      "(2304, 2304, 3) uint8\n",
      "(2304, 2304, 3) uint8\n",
      "(2304, 2304, 3) uint8\n",
      "(2304, 2304, 3) uint8\n",
      "(2304, 2304, 3) uint8\n",
      "(2304, 2304, 3) uint8\n",
      "(2304, 2304, 3) uint8\n",
      "(2304, 2304, 3) uint8\n",
      "(2304, 2304, 3) uint8\n",
      "(2304, 2304, 3) uint8\n",
      "(2304, 2304, 3) uint8\n",
      "(2304, 2304, 3) uint8\n",
      "(2304, 2304, 3) uint8\n",
      "(2304, 2304, 3) uint8\n",
      "(2304, 2304, 3) uint8\n",
      "(2304, 2304, 3) uint8\n",
      "(2304, 2304, 3) uint8\n",
      "(2304, 2304, 3) uint8\n",
      "(2304, 2304, 3) uint8\n",
      "(2304, 2304, 3) uint8\n",
      "(2304, 2304, 3) uint8\n",
      "(2304, 2304, 3) uint8\n",
      "(2304, 2304, 3) uint8\n",
      "(2304, 2304, 3) uint8\n",
      "(2304, 2304, 3) uint8\n",
      "(2304, 2304, 3) uint8\n",
      "(2304, 2304, 3) uint8\n",
      "(2304, 2304, 3) uint8\n",
      "(2304, 2304, 3) uint8\n",
      "(2304, 2304, 3) uint8\n",
      "(2304, 2304, 3) uint8\n",
      "(2304, 2304, 3) uint8\n",
      "(2304, 2304, 3) uint8\n",
      "(2304, 2304, 3) uint8\n",
      "(2304, 2304, 3) uint8\n",
      "(2304, 2304, 3) uint8\n",
      "(2304, 2304, 3) uint8\n",
      "(2304, 2304, 3) uint8\n",
      "(2304, 2304, 3) uint8\n",
      "(2304, 2304, 3) uint8\n",
      "(2304, 2304, 3) uint8\n",
      "(2304, 2304, 3) uint8\n",
      "(2304, 2304, 3) uint8\n",
      "(2304, 2304, 3) uint8\n",
      "(2304, 2304, 3) uint8\n",
      "(2304, 2304, 3) uint8\n",
      "(2304, 2304, 3) uint8\n",
      "(2304, 2304, 3) uint8\n",
      "(2304, 2304, 3) uint8\n",
      "(2304, 2304, 3) uint8\n",
      "(2304, 2304, 3) uint8\n",
      "(2304, 2304, 3) uint8\n",
      "(2304, 2304, 3) uint8\n",
      "(2304, 2304, 3) uint8\n",
      "(2304, 2304, 3) uint8\n",
      "(2304, 2304, 3) uint8\n",
      "(2304, 2304, 3) uint8\n",
      "(2304, 2304, 3) uint8\n",
      "(2304, 2304, 3) uint8\n",
      "(2304, 2304, 3) uint8\n",
      "(2304, 2304, 3) uint8\n",
      "(2304, 2304, 3) uint8\n",
      "(2304, 2304, 3) uint8\n",
      "(2304, 2304, 3) uint8\n",
      "(2304, 2304, 3) uint8\n",
      "(2304, 2304, 3) uint8\n",
      "(2304, 2304, 3) uint8\n",
      "(2304, 2304, 3) uint8\n",
      "(2304, 2304, 3) uint8\n",
      "(2304, 2304, 3) uint8\n",
      "(2304, 2304, 3) uint8\n",
      "(2304, 2304, 3) uint8\n",
      "(2304, 2304, 3) uint8\n",
      "(2304, 2304, 3) uint8\n",
      "(2304, 2304, 3) uint8\n",
      "(2304, 2304, 3) uint8\n",
      "(2304, 2304, 3) uint8\n",
      "(2304, 2304, 3) uint8\n",
      "(2304, 2304, 3) uint8\n",
      "(2304, 2304, 3) uint8\n",
      "(2304, 2304, 3) uint8\n",
      "(2304, 2304, 3) uint8\n",
      "(2304, 2304, 3) uint8\n",
      "(2304, 2304, 3) uint8\n",
      "(2304, 2304, 3) uint8\n",
      "(2304, 2304, 3) uint8\n",
      "(2304, 2304, 3) uint8\n",
      "(2304, 2304, 3) uint8\n",
      "(2304, 2304, 3) uint8\n",
      "(2304, 2304, 3) uint8\n",
      "(2304, 2304, 3) uint8\n",
      "(2304, 2304, 3) uint8\n",
      "(2304, 2304, 3) uint8\n",
      "(2304, 2304, 3) uint8\n",
      "(2304, 2304, 3) uint8\n",
      "(2304, 2304, 3) uint8\n",
      "(2304, 2304, 3) uint8\n",
      "(2304, 2304, 3) uint8\n",
      "(2304, 2304, 3) uint8\n",
      "(2304, 2304, 3) uint8\n",
      "(2304, 2304, 3) uint8\n",
      "(2304, 2304, 3) uint8\n",
      "(2304, 2304, 3) uint8\n",
      "(2304, 2304, 3) uint8\n",
      "(2304, 2304, 3) uint8\n",
      "(2304, 2304, 3) uint8\n",
      "(2304, 2304, 3) uint8\n",
      "(2304, 2304, 3) uint8\n",
      "(2304, 2304, 3) uint8\n",
      "(2304, 2304, 3) uint8\n",
      "(2304, 2304, 3) uint8\n",
      "(2304, 2304, 3) uint8\n",
      "(2304, 2304, 3) uint8\n",
      "(2304, 2304, 3) uint8\n",
      "(2304, 2304, 3) uint8\n",
      "(2304, 2304, 3) uint8\n",
      "(2304, 2304, 3) uint8\n",
      "(2304, 2304, 3) uint8\n",
      "(2304, 2304, 3) uint8\n",
      "(2304, 2304, 3) uint8\n",
      "(2304, 2304, 3) uint8\n",
      "(2304, 2304, 3) uint8\n",
      "(2304, 2304, 3) uint8\n",
      "(2304, 2304, 3) uint8\n",
      "(2304, 2304, 3) uint8\n",
      "(2304, 2304, 3) uint8\n",
      "(2304, 2304, 3) uint8\n",
      "(2304, 2304, 3) uint8\n"
     ]
    },
    {
     "ename": "AttributeError",
     "evalue": "'NoneType' object has no attribute 'copy'",
     "output_type": "error",
     "traceback": [
      "\u001b[1;31m---------------------------------------------------------------------------\u001b[0m",
      "\u001b[1;31mAttributeError\u001b[0m                            Traceback (most recent call last)",
      "\u001b[1;32m<ipython-input-66-15f26b438c96>\u001b[0m in \u001b[0;36m<module>\u001b[1;34m\u001b[0m\n\u001b[0;32m      1\u001b[0m \u001b[0manalyzer\u001b[0m \u001b[1;33m=\u001b[0m \u001b[0mtimeLapseAnalyzer\u001b[0m\u001b[1;33m(\u001b[0m\u001b[1;33m)\u001b[0m\u001b[1;33m\u001b[0m\u001b[1;33m\u001b[0m\u001b[0m\n\u001b[1;32m----> 2\u001b[1;33m \u001b[0manalyzer\u001b[0m\u001b[1;33m.\u001b[0m\u001b[0mstartVideo\u001b[0m\u001b[1;33m(\u001b[0m\u001b[1;33m)\u001b[0m\u001b[1;33m\u001b[0m\u001b[1;33m\u001b[0m\u001b[0m\n\u001b[0m\u001b[0;32m      3\u001b[0m \u001b[1;33m\u001b[0m\u001b[0m\n",
      "\u001b[1;32m<ipython-input-65-4da1624d78d0>\u001b[0m in \u001b[0;36mstartVideo\u001b[1;34m(self)\u001b[0m\n\u001b[0;32m     58\u001b[0m \u001b[1;33m\u001b[0m\u001b[0m\n\u001b[0;32m     59\u001b[0m             \u001b[1;32mif\u001b[0m \u001b[0mself\u001b[0m\u001b[1;33m.\u001b[0m\u001b[0mflowFlag\u001b[0m\u001b[1;33m:\u001b[0m\u001b[1;33m\u001b[0m\u001b[1;33m\u001b[0m\u001b[0m\n\u001b[1;32m---> 60\u001b[1;33m                 \u001b[0mdisp\u001b[0m \u001b[1;33m=\u001b[0m \u001b[0mself\u001b[0m\u001b[1;33m.\u001b[0m\u001b[0mopticalFlow\u001b[0m\u001b[1;33m(\u001b[0m\u001b[0mframe\u001b[0m\u001b[1;33m,\u001b[0m \u001b[0mcounterFrame\u001b[0m\u001b[1;33m)\u001b[0m\u001b[1;33m\u001b[0m\u001b[1;33m\u001b[0m\u001b[0m\n\u001b[0m\u001b[0;32m     61\u001b[0m \u001b[1;33m\u001b[0m\u001b[0m\n\u001b[0;32m     62\u001b[0m             \u001b[1;32mif\u001b[0m \u001b[0mret\u001b[0m \u001b[1;33m==\u001b[0m \u001b[1;32mFalse\u001b[0m\u001b[1;33m:\u001b[0m\u001b[1;33m\u001b[0m\u001b[1;33m\u001b[0m\u001b[0m\n",
      "\u001b[1;32m<ipython-input-65-4da1624d78d0>\u001b[0m in \u001b[0;36mopticalFlow\u001b[1;34m(self, frame, idx)\u001b[0m\n\u001b[0;32m     77\u001b[0m         \u001b[1;31m#print(frame, \"\\n\", idx)\u001b[0m\u001b[1;33m\u001b[0m\u001b[1;33m\u001b[0m\u001b[0m\n\u001b[0;32m     78\u001b[0m \u001b[1;33m\u001b[0m\u001b[0m\n\u001b[1;32m---> 79\u001b[1;33m         \u001b[0mimg\u001b[0m \u001b[1;33m=\u001b[0m \u001b[0mframe\u001b[0m\u001b[1;33m.\u001b[0m\u001b[0mcopy\u001b[0m\u001b[1;33m(\u001b[0m\u001b[1;33m)\u001b[0m\u001b[1;33m\u001b[0m\u001b[1;33m\u001b[0m\u001b[0m\n\u001b[0m\u001b[0;32m     80\u001b[0m         \u001b[0mimgGray\u001b[0m \u001b[1;33m=\u001b[0m \u001b[0mskimage\u001b[0m\u001b[1;33m.\u001b[0m\u001b[0mcolor\u001b[0m\u001b[1;33m.\u001b[0m\u001b[0mrgb2gray\u001b[0m\u001b[1;33m(\u001b[0m\u001b[0mimg\u001b[0m\u001b[1;33m)\u001b[0m\u001b[1;33m\u001b[0m\u001b[1;33m\u001b[0m\u001b[0m\n\u001b[0;32m     81\u001b[0m \u001b[1;33m\u001b[0m\u001b[0m\n",
      "\u001b[1;31mAttributeError\u001b[0m: 'NoneType' object has no attribute 'copy'"
     ]
    }
   ],
   "source": [
    "analyzer = timeLapseAnalyzer()\n",
    "analyzer.startVideo()\n",
    "\n"
   ]
  },
  {
   "cell_type": "code",
   "execution_count": 65,
   "metadata": {},
   "outputs": [],
   "source": [
    "class timeLapseAnalyzer():\n",
    "    \n",
    "    def __init__(self):\n",
    "        \n",
    "        self.viz = True\n",
    "    \n",
    "        self.out = None\n",
    "        \n",
    "        self.root = \"C:/Users/lehtona6/projects/work/instru_project-main\"\n",
    "        self.name = \"test_1.avi\"\n",
    "        self.loadPath = os.path.join(self.root, self.name)\n",
    "        \n",
    "        self.flowFlag = True\n",
    "        self.volumeFlag = False\n",
    "        self.saveFlag = False\n",
    "        \n",
    "        self.prvs = None\n",
    "        \n",
    "        self.kernel = np.ones((10,10),np.uint8)\n",
    "        self.kernel_2 = np.ones((3,3),np.uint8)\n",
    "        self.kernel_3 = np.ones((5,5),np.uint8)\n",
    "\n",
    "        self.history = 5\n",
    "        self.varThreshold = 6\n",
    "\n",
    "        self.x_col = np.array([])\n",
    "        self.y_col = np.array([])\n",
    "        areas = np.array([])\n",
    "        \n",
    "    def changesaveFlag(self):\n",
    "        if self.saveFlag:\n",
    "            self.saveFlag = True\n",
    "        else:\n",
    "            self.saveFlag = False\n",
    "        \n",
    "    def changeFlowFlag(self):\n",
    "        if self.flowFlag:\n",
    "            self.flowFlag = True\n",
    "        else:\n",
    "            self.flowFlag = False\n",
    "            \n",
    "    def changeVolumeFlag(self):\n",
    "        if self.volumeFlag:\n",
    "            self.volumeFlag = True\n",
    "        else:\n",
    "            self.volumeFlag = False\n",
    "        \n",
    "        \n",
    "    def startVideo(self):\n",
    "        \n",
    "        if self.flowFlag & self.saveFlag:\n",
    "            self.createSaver(\"opticalFlow.mp4\")\n",
    "        elif self.volumeFlag & self.saveFlag:\n",
    "            self.createSaver(\"volume.mp4\")\n",
    "            \n",
    "        \n",
    "        cap = cv2.VideoCapture(self.loadPath)\n",
    "        \n",
    "        if (cap.isOpened()== False):\n",
    "            print(\"Error opening video stream or file\")\n",
    "            exit(0)     \n",
    "            \n",
    "        counterFrame = -1\n",
    "\n",
    "        while(cap.isOpened()):\n",
    "            \n",
    "            ret, frame = cap.read()\n",
    "            counterFrame += 1\n",
    "            \n",
    "            if self.flowFlag:\n",
    "                disp = self.opticalFlow(frame, counterFrame)\n",
    "            \n",
    "            if self.volumeFlag:\n",
    "                disp = self.contour(frame, counterFrame)\n",
    "            \n",
    "            if ret == False:\n",
    "                break\n",
    "                \n",
    "            if self.viz:\n",
    "                cv2.imshow('Frame',cv2.resize(disp,(520,520)))\n",
    "\n",
    "                if cv2.waitKey(20) & 0xFF == ord('q'):\n",
    "                    break\n",
    "                else:\n",
    "                    continue\n",
    "        self.shutdown()\n",
    "        \n",
    "        \n",
    "    def opticalFlow(self, frame, idx): \n",
    "        \n",
    "        #print(frame, \"\\n\", idx)\n",
    "        \n",
    "        img = frame.copy()\n",
    "        imgGray = skimage.color.rgb2gray(img)\n",
    "        \n",
    "        if idx == 0:\n",
    "            self.prvs = imgGray\n",
    "            return np.zeros_like(self.prvs)\n",
    "            \n",
    "        \n",
    "        flow = cv2.calcOpticalFlowFarneback(self.prvs,imgGray, None, 0.5, 10, 5, 3, 5, 1.5, 0)\n",
    "        mag, ang = cv2.cartToPolar(flow[...,0], flow[...,1])\n",
    "        self.prvs = imgGray\n",
    "        \n",
    "        hsv = np.zeros_like(np.stack([imgGray,imgGray,imgGray], axis=-1).astype(\"uint8\"))\n",
    "        \n",
    "        hsv[...,1] = 255\n",
    "        hsv[...,0] = ang*180/np.pi/2\n",
    "        hsv[...,2] = cv2.normalize(mag,None,0,255,cv2.NORM_MINMAX)\n",
    "        #print(hsv.shape, hsv.dtype)\n",
    "        \n",
    "        rgb = cv2.cvtColor(hsv,cv2.COLOR_HSV2BGR)\n",
    "        \n",
    "        if self.saveFlag:\n",
    "            self.writeFrame(rgb)\n",
    "        \n",
    "        return rgb\n",
    "    \n",
    "    def contour(self, frame, idx):\n",
    "        \n",
    "        img = frame.copy()\n",
    "\n",
    "        imgGray = cv2.cvtColor(img, cv2.COLOR_BGR2GRAY)\n",
    "\n",
    "        fgMask = skimage.filters.gaussian(imgGray,5)\n",
    "        fgMask = skimage.filters.farid(fgMask)\n",
    "        fgMask = 1-fgMask<99.925e-2\n",
    "        fgMask = fgMask.astype(\"uint8\")\n",
    "\n",
    "        opening = cv2.morphologyEx(fgMask, cv2.MORPH_OPEN, kernel_2)\n",
    "        opening = skimage.morphology.closing(opening, skimage.morphology.disk(10))\n",
    "\n",
    "        tmp = opening.astype(\"int\")#-e2.astype(\"int\")\n",
    "        tmp[tmp<0] = 0\n",
    "        tmp = tmp.astype(\"uint8\")\n",
    "\n",
    "        contours, hierarchy = cv2.findContours(image=tmp, mode=cv2.RETR_TREE, method=cv2.CHAIN_APPROX_NONE)\n",
    "\n",
    "        if len(contours) > 0:\n",
    "            maxCnt = sorted(contours, key=cv2.contourArea, reverse= True)\n",
    "            maxBoy = maxCnt[0]\n",
    "            cnt = maxBoy\n",
    "            M = cv2.moments(maxBoy)\n",
    "            self.x_col.append(int(M['m10']/M['m00']))\n",
    "            self.y_col.append(int(M['m01']/M['m00']))\n",
    "            self.areas.append(cv2.contourArea(maxCnt[0]))\n",
    "\n",
    "        cv2.drawContours(image=img, contours=maxCnt, contourIdx=0, color=(0, 255, 0), thickness=3)\n",
    "\n",
    "        return img\n",
    "        \n",
    "        \n",
    "    def createSaver(self,name):\n",
    "        fourcc = cv2.VideoWriter_fourcc('F','F','V','1')\n",
    "        self.out = cv2.VideoWriter(os.path.join(root,'video_1.avi'), cv2.VideoWriter_fourcc(*'MJPG'), 10, (2304,2304))\n",
    "        \n",
    "\n",
    "    def writeFrame(frame):\n",
    "        self.out.write(frame)\n",
    "        \n",
    "        \n",
    "    def shutDown(self):\n",
    "        cap.release()\n",
    "        if self.saveFlag:\n",
    "            out.release()\n",
    "        if self.viz:\n",
    "            cv2.destroyAllWindows()\n",
    "\n",
    "    \n",
    "    "
   ]
  },
  {
   "cell_type": "code",
   "execution_count": 67,
   "metadata": {},
   "outputs": [],
   "source": [
    "cv2.destroyAllWindows()"
   ]
  },
  {
   "cell_type": "code",
   "execution_count": 49,
   "metadata": {},
   "outputs": [],
   "source": []
  }
 ],
 "metadata": {
  "kernelspec": {
   "display_name": "Python 3 (ipykernel)",
   "language": "python",
   "name": "python3"
  },
  "language_info": {
   "codemirror_mode": {
    "name": "ipython",
    "version": 3
   },
   "file_extension": ".py",
   "mimetype": "text/x-python",
   "name": "python",
   "nbconvert_exporter": "python",
   "pygments_lexer": "ipython3",
   "version": "3.9.2"
  }
 },
 "nbformat": 4,
 "nbformat_minor": 2
}
