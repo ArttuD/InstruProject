{
 "cells": [
  {
   "cell_type": "markdown",
   "id": "12749156",
   "metadata": {},
   "source": [
    "Novelty: \n",
    "- stiffness correlated migrational persistency, migration speed (for each cell line separately)\n",
    "- quantification of the change migrational parameters between stiff and soft and comparison of the 3 cell lines\n",
    "- size and phenotype of spheroids in the two stiffness conditions and comparison of the difference for the 3 cell lines\n",
    "\n",
    "Structure:\n",
    "1) Abstract\n",
    "2) IPN characterization\n",
    "    - macro\n",
    "    - micro (local mechanics, heterogeneity)\n",
    "    - AFM (local mechanics, heterogeneity)\n",
    "    - SEM (porosity, structural heterogeneity)\n",
    "3) 3D culture - from individually seeded cells\n",
    "    - growth-curve, max size (if it stops growing) of spheroids\n",
    "    - phenotype evolution\n",
    "    - SEM (at the point of center of exponential region of growth curve) to compare spheroid-matrix attachments & matrix structure surrounding spheroids\n",
    "    - migrational persistency & speed of individual cells (in and out of spheroids)\n",
    "4) 3D culture - from seeded spheroids\n",
    "    - spheroids growth, does it cease to grow at some point?\n",
    "    - phenotype evolution? does the spheroid shape change from round\n",
    "    - SEM (at the point of center of exponential region of growth curve) to compare spheroid-matrix attachments & matrix structure surrounding spheroids\n",
    "    - migrational persistency & speed of individual cells out of spheroid"
   ]
  },
  {
   "cell_type": "code",
   "execution_count": 3,
   "id": "c45c18c7",
   "metadata": {},
   "outputs": [],
   "source": [
    "from datetime import time\n",
    "from matplotlib import markers\n",
    "import numpy as np\n",
    "import pandas as pd\n",
    "import matplotlib.pyplot as plt\n",
    "import matplotlib\n",
    "import seaborn as sns\n",
    "from glob import glob\n",
    "from seaborn import palettes\n",
    "from seaborn.categorical import swarmplot\n",
    "from tqdm import tqdm\n",
    "import json\n",
    "from scipy.signal import detrend\n",
    "from scipy.ndimage import gaussian_filter1d\n",
    "import os\n",
    "import re\n",
    "import math\n",
    "import matplotlib.ticker as tck"
   ]
  },
  {
   "cell_type": "markdown",
   "id": "c90fe50e",
   "metadata": {},
   "source": [
    "Microrheology (collagen 2 mg/ml, soft IPN5 and IPN 15), separate figures IPN5 and IPN15 across all conditions\n",
    "\n",
    "Rheology (collagen 2 mg/ml, soft IPN5 and IPN 15), separate figures IPN5 and IPN15 across all conditions"
   ]
  },
  {
   "cell_type": "markdown",
   "id": "77bc1021",
   "metadata": {},
   "source": [
    "2D cell cultures - images"
   ]
  },
  {
   "cell_type": "markdown",
   "id": "48446b07",
   "metadata": {},
   "source": [
    "3D cell cultures - growth curves\n",
    ": seeded 7/11/2023 IPN15 (2500cells/ml) \n",
    "    - 6 hours stained redtracker (8µL in 4ml medium) - cells always inactive from 10h of timelapse (CO2 too low)\n",
    "    - 6 hours stained redtracker (2µL in 1ml medium) - timelapse over weekend 10/11-13/11\n",
    "    conclusions: CO2 inside chamber needed, staining concentration(8µL in 4ml) too high\n",
    "    - 6 hours stained redtracker (0.6µL in 1mL or 1µl in 1mL)\n",
    "   "
   ]
  },
  {
   "cell_type": "code",
   "execution_count": 4,
   "id": "c1ecea1b",
   "metadata": {},
   "outputs": [
    {
     "ename": "NameError",
     "evalue": "name 'Novelty' is not defined",
     "output_type": "error",
     "traceback": [
      "\u001b[1;31m---------------------------------------------------------------------------\u001b[0m",
      "\u001b[1;31mNameError\u001b[0m                                 Traceback (most recent call last)",
      "Cell \u001b[1;32mIn[4], line 1\u001b[0m\n\u001b[1;32m----> 1\u001b[0m Novelty\n",
      "\u001b[1;31mNameError\u001b[0m: name 'Novelty' is not defined"
     ]
    }
   ],
   "source": [
    "Novelty\n",
    "\n"
   ]
  },
  {
   "cell_type": "code",
   "execution_count": null,
   "id": "48d0e347",
   "metadata": {},
   "outputs": [],
   "source": []
  }
 ],
 "metadata": {
  "kernelspec": {
   "display_name": "Python 3 (ipykernel)",
   "language": "python",
   "name": "python3"
  },
  "language_info": {
   "codemirror_mode": {
    "name": "ipython",
    "version": 3
   },
   "file_extension": ".py",
   "mimetype": "text/x-python",
   "name": "python",
   "nbconvert_exporter": "python",
   "pygments_lexer": "ipython3",
   "version": "3.11.4"
  }
 },
 "nbformat": 4,
 "nbformat_minor": 5
}
