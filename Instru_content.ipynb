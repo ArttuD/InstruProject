{
 "cells": [
  {
   "cell_type": "code",
   "execution_count": 3,
   "id": "c45c18c7",
   "metadata": {},
   "outputs": [],
   "source": [
    "from datetime import time\n",
    "from matplotlib import markers\n",
    "import numpy as np\n",
    "import pandas as pd\n",
    "import matplotlib.pyplot as plt\n",
    "import matplotlib\n",
    "import seaborn as sns\n",
    "from glob import glob\n",
    "from seaborn import palettes\n",
    "from seaborn.categorical import swarmplot\n",
    "from tqdm import tqdm\n",
    "import json\n",
    "from scipy.signal import detrend\n",
    "from scipy.ndimage import gaussian_filter1d\n",
    "import os\n",
    "import re\n",
    "import math\n",
    "import matplotlib.ticker as tck"
   ]
  },
  {
   "cell_type": "markdown",
   "id": "12749156",
   "metadata": {},
   "source": [
    "Microrheology (collagen 2 mg/ml, soft IPN5 and IPN 15), separate figures IPN5 and IPN15 across all conditions"
   ]
  },
  {
   "cell_type": "markdown",
   "id": "c90fe50e",
   "metadata": {},
   "source": [
    "Rheology (collagen 2 mg/ml, soft IPN5 and IPN 15), separate figures IPN5 and IPN15 across all conditions"
   ]
  },
  {
   "cell_type": "markdown",
   "id": "77bc1021",
   "metadata": {},
   "source": [
    "2D cell cultures - images"
   ]
  },
  {
   "cell_type": "markdown",
   "id": "48446b07",
   "metadata": {},
   "source": [
    "3D cell cultures - growth curves"
   ]
  },
  {
   "cell_type": "code",
   "execution_count": null,
   "id": "c1ecea1b",
   "metadata": {},
   "outputs": [],
   "source": []
  }
 ],
 "metadata": {
  "kernelspec": {
   "display_name": "Python 3 (ipykernel)",
   "language": "python",
   "name": "python3"
  },
  "language_info": {
   "codemirror_mode": {
    "name": "ipython",
    "version": 3
   },
   "file_extension": ".py",
   "mimetype": "text/x-python",
   "name": "python",
   "nbconvert_exporter": "python",
   "pygments_lexer": "ipython3",
   "version": "3.11.4"
  }
 },
 "nbformat": 4,
 "nbformat_minor": 5
}
